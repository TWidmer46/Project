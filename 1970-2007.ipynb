{
 "cells": [
  {
   "cell_type": "code",
   "execution_count": 1,
   "metadata": {},
   "outputs": [],
   "source": [
    "import numpy, pandas, quandl"
   ]
  },
  {
   "cell_type": "code",
   "execution_count": 1,
   "metadata": {},
   "outputs": [],
   "source": [
    "import numpy as np \n",
    "import pandas as pd\n",
    "import quandl\n",
    "from pylab import mpl, plt\n",
    "plt.style.use('seaborn')\n",
    "%matplotlib inline\n",
    "import pandas_datareader.data as web\n",
    "import datetime\n",
    "import statsmodels.api as sm\n",
    "import seaborn as sns\n",
    "from sklearn.linear_model import LinearRegression\n",
    "from pandas import Series, DataFrame\n",
    "import statsmodels.formula.api as smf\n",
    "\n",
    "quandl.ApiConfig.api_key = \"pTygJpdkhxBLRczvBgTp\"\n"
   ]
  },
  {
   "cell_type": "code",
   "execution_count": 2,
   "metadata": {},
   "outputs": [
    {
     "data": {
      "text/html": [
       "<div>\n",
       "<style scoped>\n",
       "    .dataframe tbody tr th:only-of-type {\n",
       "        vertical-align: middle;\n",
       "    }\n",
       "\n",
       "    .dataframe tbody tr th {\n",
       "        vertical-align: top;\n",
       "    }\n",
       "\n",
       "    .dataframe thead th {\n",
       "        text-align: right;\n",
       "    }\n",
       "</style>\n",
       "<table border=\"1\" class=\"dataframe\">\n",
       "  <thead>\n",
       "    <tr style=\"text-align: right;\">\n",
       "      <th></th>\n",
       "      <th>Adjusted Close</th>\n",
       "      <th>% Change</th>\n",
       "    </tr>\n",
       "    <tr>\n",
       "      <th>Date</th>\n",
       "      <th></th>\n",
       "      <th></th>\n",
       "    </tr>\n",
       "  </thead>\n",
       "  <tbody>\n",
       "    <tr>\n",
       "      <th>1970-01-30</th>\n",
       "      <td>85.02</td>\n",
       "      <td>-7.647187</td>\n",
       "    </tr>\n",
       "    <tr>\n",
       "      <th>1970-02-27</th>\n",
       "      <td>89.50</td>\n",
       "      <td>5.269348</td>\n",
       "    </tr>\n",
       "    <tr>\n",
       "      <th>1970-03-31</th>\n",
       "      <td>89.63</td>\n",
       "      <td>0.145251</td>\n",
       "    </tr>\n",
       "    <tr>\n",
       "      <th>1970-04-30</th>\n",
       "      <td>81.52</td>\n",
       "      <td>-9.048310</td>\n",
       "    </tr>\n",
       "    <tr>\n",
       "      <th>1970-05-29</th>\n",
       "      <td>76.55</td>\n",
       "      <td>-6.096663</td>\n",
       "    </tr>\n",
       "  </tbody>\n",
       "</table>\n",
       "</div>"
      ],
      "text/plain": [
       "            Adjusted Close  % Change\n",
       "Date                                \n",
       "1970-01-30           85.02 -7.647187\n",
       "1970-02-27           89.50  5.269348\n",
       "1970-03-31           89.63  0.145251\n",
       "1970-04-30           81.52 -9.048310\n",
       "1970-05-29           76.55 -6.096663"
      ]
     },
     "execution_count": 2,
     "metadata": {},
     "output_type": "execute_result"
    }
   ],
   "source": [
    "# import S&P 500 Prices and % Change from Excel \n",
    "names= ['Date','Adjusted Close', '% Change']\n",
    "df = pd.read_excel('SP500 Prices 1970_2007.xlsx', names=['Date','Adjusted Close','% Change'])\n",
    "df.head()\n",
    "\n",
    "\n",
    "df = pd.read_excel('SP500 Prices 1970_2007.xlsx', names=names, index_col='Date')\n",
    "df.head()\n",
    "\n",
    "\n",
    "df = (df.sort_values(by=['Date']))\n",
    "\n",
    "df.head()\n",
    "\n",
    "\n"
   ]
  },
  {
   "cell_type": "code",
   "execution_count": 3,
   "metadata": {},
   "outputs": [
    {
     "data": {
      "text/html": [
       "<div>\n",
       "<style scoped>\n",
       "    .dataframe tbody tr th:only-of-type {\n",
       "        vertical-align: middle;\n",
       "    }\n",
       "\n",
       "    .dataframe tbody tr th {\n",
       "        vertical-align: top;\n",
       "    }\n",
       "\n",
       "    .dataframe thead th {\n",
       "        text-align: right;\n",
       "    }\n",
       "</style>\n",
       "<table border=\"1\" class=\"dataframe\">\n",
       "  <thead>\n",
       "    <tr style=\"text-align: right;\">\n",
       "      <th></th>\n",
       "      <th>PMI</th>\n",
       "    </tr>\n",
       "    <tr>\n",
       "      <th>Date</th>\n",
       "      <th></th>\n",
       "    </tr>\n",
       "  </thead>\n",
       "  <tbody>\n",
       "    <tr>\n",
       "      <th>1970-01-30</th>\n",
       "      <td>48.7</td>\n",
       "    </tr>\n",
       "    <tr>\n",
       "      <th>1970-02-27</th>\n",
       "      <td>47.4</td>\n",
       "    </tr>\n",
       "    <tr>\n",
       "      <th>1970-03-31</th>\n",
       "      <td>46.9</td>\n",
       "    </tr>\n",
       "    <tr>\n",
       "      <th>1970-04-30</th>\n",
       "      <td>45.0</td>\n",
       "    </tr>\n",
       "    <tr>\n",
       "      <th>1970-05-29</th>\n",
       "      <td>47.2</td>\n",
       "    </tr>\n",
       "    <tr>\n",
       "      <th>...</th>\n",
       "      <td>...</td>\n",
       "    </tr>\n",
       "    <tr>\n",
       "      <th>2007-08-31</th>\n",
       "      <td>52.2</td>\n",
       "    </tr>\n",
       "    <tr>\n",
       "      <th>2007-09-28</th>\n",
       "      <td>53.8</td>\n",
       "    </tr>\n",
       "    <tr>\n",
       "      <th>2007-10-31</th>\n",
       "      <td>52.8</td>\n",
       "    </tr>\n",
       "    <tr>\n",
       "      <th>2007-11-30</th>\n",
       "      <td>51.5</td>\n",
       "    </tr>\n",
       "    <tr>\n",
       "      <th>2007-12-31</th>\n",
       "      <td>50.1</td>\n",
       "    </tr>\n",
       "  </tbody>\n",
       "</table>\n",
       "<p>456 rows × 1 columns</p>\n",
       "</div>"
      ],
      "text/plain": [
       "             PMI\n",
       "Date            \n",
       "1970-01-30  48.7\n",
       "1970-02-27  47.4\n",
       "1970-03-31  46.9\n",
       "1970-04-30  45.0\n",
       "1970-05-29  47.2\n",
       "...          ...\n",
       "2007-08-31  52.2\n",
       "2007-09-28  53.8\n",
       "2007-10-31  52.8\n",
       "2007-11-30  51.5\n",
       "2007-12-31  50.1\n",
       "\n",
       "[456 rows x 1 columns]"
      ]
     },
     "execution_count": 3,
     "metadata": {},
     "output_type": "execute_result"
    }
   ],
   "source": [
    "# import ISM PMI from Eccel\n",
    "names= ['Date','PMI', 'Change PMI']\n",
    "data = pd.read_excel('PMI_monthly 1970_2007.xlsx', names=names, index_col='Date')\n",
    "data.head()\n",
    "\n",
    "\n",
    "data = data.loc[:,['PMI']]\n",
    "data\n"
   ]
  },
  {
   "cell_type": "code",
   "execution_count": 4,
   "metadata": {},
   "outputs": [
    {
     "data": {
      "text/html": [
       "<div>\n",
       "<style scoped>\n",
       "    .dataframe tbody tr th:only-of-type {\n",
       "        vertical-align: middle;\n",
       "    }\n",
       "\n",
       "    .dataframe tbody tr th {\n",
       "        vertical-align: top;\n",
       "    }\n",
       "\n",
       "    .dataframe thead th {\n",
       "        text-align: right;\n",
       "    }\n",
       "</style>\n",
       "<table border=\"1\" class=\"dataframe\">\n",
       "  <thead>\n",
       "    <tr style=\"text-align: right;\">\n",
       "      <th></th>\n",
       "      <th>% Change PMI</th>\n",
       "    </tr>\n",
       "    <tr>\n",
       "      <th>Date</th>\n",
       "      <th></th>\n",
       "    </tr>\n",
       "  </thead>\n",
       "  <tbody>\n",
       "    <tr>\n",
       "      <th>1970-01-30</th>\n",
       "      <td>NaN</td>\n",
       "    </tr>\n",
       "    <tr>\n",
       "      <th>1970-02-27</th>\n",
       "      <td>-0.026694</td>\n",
       "    </tr>\n",
       "    <tr>\n",
       "      <th>1970-03-31</th>\n",
       "      <td>-0.010549</td>\n",
       "    </tr>\n",
       "    <tr>\n",
       "      <th>1970-04-30</th>\n",
       "      <td>-0.040512</td>\n",
       "    </tr>\n",
       "    <tr>\n",
       "      <th>1970-05-29</th>\n",
       "      <td>0.048889</td>\n",
       "    </tr>\n",
       "    <tr>\n",
       "      <th>...</th>\n",
       "      <td>...</td>\n",
       "    </tr>\n",
       "    <tr>\n",
       "      <th>2007-08-31</th>\n",
       "      <td>0.007722</td>\n",
       "    </tr>\n",
       "    <tr>\n",
       "      <th>2007-09-28</th>\n",
       "      <td>0.030651</td>\n",
       "    </tr>\n",
       "    <tr>\n",
       "      <th>2007-10-31</th>\n",
       "      <td>-0.018587</td>\n",
       "    </tr>\n",
       "    <tr>\n",
       "      <th>2007-11-30</th>\n",
       "      <td>-0.024621</td>\n",
       "    </tr>\n",
       "    <tr>\n",
       "      <th>2007-12-31</th>\n",
       "      <td>-0.027184</td>\n",
       "    </tr>\n",
       "  </tbody>\n",
       "</table>\n",
       "<p>456 rows × 1 columns</p>\n",
       "</div>"
      ],
      "text/plain": [
       "            % Change PMI\n",
       "Date                    \n",
       "1970-01-30           NaN\n",
       "1970-02-27     -0.026694\n",
       "1970-03-31     -0.010549\n",
       "1970-04-30     -0.040512\n",
       "1970-05-29      0.048889\n",
       "...                  ...\n",
       "2007-08-31      0.007722\n",
       "2007-09-28      0.030651\n",
       "2007-10-31     -0.018587\n",
       "2007-11-30     -0.024621\n",
       "2007-12-31     -0.027184\n",
       "\n",
       "[456 rows x 1 columns]"
      ]
     },
     "execution_count": 4,
     "metadata": {},
     "output_type": "execute_result"
    }
   ],
   "source": [
    "# calculate monthly percentage change of PMI\n",
    "data1 = data.pct_change()\n",
    "data1\n",
    "\n",
    "data1 = data1.rename(columns ={\"PMI\":\"% Change PMI\"})\n",
    "data1"
   ]
  },
  {
   "cell_type": "code",
   "execution_count": 5,
   "metadata": {
    "scrolled": true
   },
   "outputs": [
    {
     "data": {
      "text/html": [
       "<div>\n",
       "<style scoped>\n",
       "    .dataframe tbody tr th:only-of-type {\n",
       "        vertical-align: middle;\n",
       "    }\n",
       "\n",
       "    .dataframe tbody tr th {\n",
       "        vertical-align: top;\n",
       "    }\n",
       "\n",
       "    .dataframe thead th {\n",
       "        text-align: right;\n",
       "    }\n",
       "</style>\n",
       "<table border=\"1\" class=\"dataframe\">\n",
       "  <thead>\n",
       "    <tr style=\"text-align: right;\">\n",
       "      <th></th>\n",
       "      <th>Adjusted Close</th>\n",
       "    </tr>\n",
       "    <tr>\n",
       "      <th>Date</th>\n",
       "      <th></th>\n",
       "    </tr>\n",
       "  </thead>\n",
       "  <tbody>\n",
       "    <tr>\n",
       "      <th>1970-01-30</th>\n",
       "      <td>85.02</td>\n",
       "    </tr>\n",
       "    <tr>\n",
       "      <th>1970-02-27</th>\n",
       "      <td>89.50</td>\n",
       "    </tr>\n",
       "    <tr>\n",
       "      <th>1970-03-31</th>\n",
       "      <td>89.63</td>\n",
       "    </tr>\n",
       "    <tr>\n",
       "      <th>1970-04-30</th>\n",
       "      <td>81.52</td>\n",
       "    </tr>\n",
       "    <tr>\n",
       "      <th>1970-05-29</th>\n",
       "      <td>76.55</td>\n",
       "    </tr>\n",
       "    <tr>\n",
       "      <th>...</th>\n",
       "      <td>...</td>\n",
       "    </tr>\n",
       "    <tr>\n",
       "      <th>2007-08-31</th>\n",
       "      <td>1473.99</td>\n",
       "    </tr>\n",
       "    <tr>\n",
       "      <th>2007-09-28</th>\n",
       "      <td>1526.75</td>\n",
       "    </tr>\n",
       "    <tr>\n",
       "      <th>2007-10-31</th>\n",
       "      <td>1549.38</td>\n",
       "    </tr>\n",
       "    <tr>\n",
       "      <th>2007-11-30</th>\n",
       "      <td>1481.14</td>\n",
       "    </tr>\n",
       "    <tr>\n",
       "      <th>2007-12-31</th>\n",
       "      <td>1468.36</td>\n",
       "    </tr>\n",
       "  </tbody>\n",
       "</table>\n",
       "<p>456 rows × 1 columns</p>\n",
       "</div>"
      ],
      "text/plain": [
       "            Adjusted Close\n",
       "Date                      \n",
       "1970-01-30           85.02\n",
       "1970-02-27           89.50\n",
       "1970-03-31           89.63\n",
       "1970-04-30           81.52\n",
       "1970-05-29           76.55\n",
       "...                    ...\n",
       "2007-08-31         1473.99\n",
       "2007-09-28         1526.75\n",
       "2007-10-31         1549.38\n",
       "2007-11-30         1481.14\n",
       "2007-12-31         1468.36\n",
       "\n",
       "[456 rows x 1 columns]"
      ]
     },
     "execution_count": 5,
     "metadata": {},
     "output_type": "execute_result"
    }
   ],
   "source": [
    "# Reduce S&P 500 data to monthly adjusted Close prices\n",
    "df = df.loc[:,['Adjusted Close']]\n",
    "df\n"
   ]
  },
  {
   "cell_type": "code",
   "execution_count": 6,
   "metadata": {
    "scrolled": true
   },
   "outputs": [
    {
     "data": {
      "text/html": [
       "<div>\n",
       "<style scoped>\n",
       "    .dataframe tbody tr th:only-of-type {\n",
       "        vertical-align: middle;\n",
       "    }\n",
       "\n",
       "    .dataframe tbody tr th {\n",
       "        vertical-align: top;\n",
       "    }\n",
       "\n",
       "    .dataframe thead th {\n",
       "        text-align: right;\n",
       "    }\n",
       "</style>\n",
       "<table border=\"1\" class=\"dataframe\">\n",
       "  <thead>\n",
       "    <tr style=\"text-align: right;\">\n",
       "      <th></th>\n",
       "      <th>Adjusted Close</th>\n",
       "    </tr>\n",
       "    <tr>\n",
       "      <th>Date</th>\n",
       "      <th></th>\n",
       "    </tr>\n",
       "  </thead>\n",
       "  <tbody>\n",
       "    <tr>\n",
       "      <th>1970-01-30</th>\n",
       "      <td>NaN</td>\n",
       "    </tr>\n",
       "    <tr>\n",
       "      <th>1970-02-27</th>\n",
       "      <td>0.052693</td>\n",
       "    </tr>\n",
       "    <tr>\n",
       "      <th>1970-03-31</th>\n",
       "      <td>0.001453</td>\n",
       "    </tr>\n",
       "    <tr>\n",
       "      <th>1970-04-30</th>\n",
       "      <td>-0.090483</td>\n",
       "    </tr>\n",
       "    <tr>\n",
       "      <th>1970-05-29</th>\n",
       "      <td>-0.060967</td>\n",
       "    </tr>\n",
       "    <tr>\n",
       "      <th>...</th>\n",
       "      <td>...</td>\n",
       "    </tr>\n",
       "    <tr>\n",
       "      <th>2007-08-31</th>\n",
       "      <td>0.012857</td>\n",
       "    </tr>\n",
       "    <tr>\n",
       "      <th>2007-09-28</th>\n",
       "      <td>0.035794</td>\n",
       "    </tr>\n",
       "    <tr>\n",
       "      <th>2007-10-31</th>\n",
       "      <td>0.014822</td>\n",
       "    </tr>\n",
       "    <tr>\n",
       "      <th>2007-11-30</th>\n",
       "      <td>-0.044043</td>\n",
       "    </tr>\n",
       "    <tr>\n",
       "      <th>2007-12-31</th>\n",
       "      <td>-0.008628</td>\n",
       "    </tr>\n",
       "  </tbody>\n",
       "</table>\n",
       "<p>456 rows × 1 columns</p>\n",
       "</div>"
      ],
      "text/plain": [
       "            Adjusted Close\n",
       "Date                      \n",
       "1970-01-30             NaN\n",
       "1970-02-27        0.052693\n",
       "1970-03-31        0.001453\n",
       "1970-04-30       -0.090483\n",
       "1970-05-29       -0.060967\n",
       "...                    ...\n",
       "2007-08-31        0.012857\n",
       "2007-09-28        0.035794\n",
       "2007-10-31        0.014822\n",
       "2007-11-30       -0.044043\n",
       "2007-12-31       -0.008628\n",
       "\n",
       "[456 rows x 1 columns]"
      ]
     },
     "execution_count": 6,
     "metadata": {},
     "output_type": "execute_result"
    }
   ],
   "source": [
    "# Compute returns from Price Series of S&P 500\n",
    "df_Performance = df.pct_change()\n",
    "df_Performance\n",
    "\n"
   ]
  },
  {
   "cell_type": "code",
   "execution_count": 7,
   "metadata": {},
   "outputs": [
    {
     "data": {
      "text/html": [
       "<div>\n",
       "<style scoped>\n",
       "    .dataframe tbody tr th:only-of-type {\n",
       "        vertical-align: middle;\n",
       "    }\n",
       "\n",
       "    .dataframe tbody tr th {\n",
       "        vertical-align: top;\n",
       "    }\n",
       "\n",
       "    .dataframe thead th {\n",
       "        text-align: right;\n",
       "    }\n",
       "</style>\n",
       "<table border=\"1\" class=\"dataframe\">\n",
       "  <thead>\n",
       "    <tr style=\"text-align: right;\">\n",
       "      <th></th>\n",
       "      <th>Adjusted Close</th>\n",
       "      <th>% Change PMI</th>\n",
       "    </tr>\n",
       "    <tr>\n",
       "      <th>Date</th>\n",
       "      <th></th>\n",
       "      <th></th>\n",
       "    </tr>\n",
       "  </thead>\n",
       "  <tbody>\n",
       "    <tr>\n",
       "      <th>1970-01-30</th>\n",
       "      <td>0.000000</td>\n",
       "      <td>0.000000</td>\n",
       "    </tr>\n",
       "    <tr>\n",
       "      <th>1970-02-27</th>\n",
       "      <td>0.052693</td>\n",
       "      <td>-0.026694</td>\n",
       "    </tr>\n",
       "    <tr>\n",
       "      <th>1970-03-31</th>\n",
       "      <td>0.001453</td>\n",
       "      <td>-0.010549</td>\n",
       "    </tr>\n",
       "    <tr>\n",
       "      <th>1970-04-30</th>\n",
       "      <td>-0.090483</td>\n",
       "      <td>-0.040512</td>\n",
       "    </tr>\n",
       "    <tr>\n",
       "      <th>1970-05-29</th>\n",
       "      <td>-0.060967</td>\n",
       "      <td>0.048889</td>\n",
       "    </tr>\n",
       "  </tbody>\n",
       "</table>\n",
       "</div>"
      ],
      "text/plain": [
       "            Adjusted Close  % Change PMI\n",
       "Date                                    \n",
       "1970-01-30        0.000000      0.000000\n",
       "1970-02-27        0.052693     -0.026694\n",
       "1970-03-31        0.001453     -0.010549\n",
       "1970-04-30       -0.090483     -0.040512\n",
       "1970-05-29       -0.060967      0.048889"
      ]
     },
     "execution_count": 7,
     "metadata": {},
     "output_type": "execute_result"
    }
   ],
   "source": [
    "# Merge returns SPX, Change PMI\n",
    "Overview = pd.concat([df_Performance,data1], axis=1)\n",
    "Overview.fillna(0)\n",
    "Overview = Overview.fillna(0)\n",
    "Overview.head()\n"
   ]
  },
  {
   "cell_type": "code",
   "execution_count": 8,
   "metadata": {
    "scrolled": true
   },
   "outputs": [
    {
     "data": {
      "text/html": [
       "<div>\n",
       "<style scoped>\n",
       "    .dataframe tbody tr th:only-of-type {\n",
       "        vertical-align: middle;\n",
       "    }\n",
       "\n",
       "    .dataframe tbody tr th {\n",
       "        vertical-align: top;\n",
       "    }\n",
       "\n",
       "    .dataframe thead th {\n",
       "        text-align: right;\n",
       "    }\n",
       "</style>\n",
       "<table border=\"1\" class=\"dataframe\">\n",
       "  <thead>\n",
       "    <tr style=\"text-align: right;\">\n",
       "      <th></th>\n",
       "      <th>Adjusted Close</th>\n",
       "      <th>PMI</th>\n",
       "      <th>% Change PMI</th>\n",
       "    </tr>\n",
       "    <tr>\n",
       "      <th>Date</th>\n",
       "      <th></th>\n",
       "      <th></th>\n",
       "      <th></th>\n",
       "    </tr>\n",
       "  </thead>\n",
       "  <tbody>\n",
       "    <tr>\n",
       "      <th>1970-01-30</th>\n",
       "      <td>0.000000</td>\n",
       "      <td>48.7</td>\n",
       "      <td>0.000000</td>\n",
       "    </tr>\n",
       "    <tr>\n",
       "      <th>1970-02-27</th>\n",
       "      <td>0.052693</td>\n",
       "      <td>47.4</td>\n",
       "      <td>-0.026694</td>\n",
       "    </tr>\n",
       "    <tr>\n",
       "      <th>1970-03-31</th>\n",
       "      <td>0.001453</td>\n",
       "      <td>46.9</td>\n",
       "      <td>-0.010549</td>\n",
       "    </tr>\n",
       "    <tr>\n",
       "      <th>1970-04-30</th>\n",
       "      <td>-0.090483</td>\n",
       "      <td>45.0</td>\n",
       "      <td>-0.040512</td>\n",
       "    </tr>\n",
       "    <tr>\n",
       "      <th>1970-05-29</th>\n",
       "      <td>-0.060967</td>\n",
       "      <td>47.2</td>\n",
       "      <td>0.048889</td>\n",
       "    </tr>\n",
       "    <tr>\n",
       "      <th>...</th>\n",
       "      <td>...</td>\n",
       "      <td>...</td>\n",
       "      <td>...</td>\n",
       "    </tr>\n",
       "    <tr>\n",
       "      <th>2007-08-31</th>\n",
       "      <td>0.012857</td>\n",
       "      <td>52.2</td>\n",
       "      <td>0.007722</td>\n",
       "    </tr>\n",
       "    <tr>\n",
       "      <th>2007-09-28</th>\n",
       "      <td>0.035794</td>\n",
       "      <td>53.8</td>\n",
       "      <td>0.030651</td>\n",
       "    </tr>\n",
       "    <tr>\n",
       "      <th>2007-10-31</th>\n",
       "      <td>0.014822</td>\n",
       "      <td>52.8</td>\n",
       "      <td>-0.018587</td>\n",
       "    </tr>\n",
       "    <tr>\n",
       "      <th>2007-11-30</th>\n",
       "      <td>-0.044043</td>\n",
       "      <td>51.5</td>\n",
       "      <td>-0.024621</td>\n",
       "    </tr>\n",
       "    <tr>\n",
       "      <th>2007-12-31</th>\n",
       "      <td>-0.008628</td>\n",
       "      <td>50.1</td>\n",
       "      <td>-0.027184</td>\n",
       "    </tr>\n",
       "  </tbody>\n",
       "</table>\n",
       "<p>456 rows × 3 columns</p>\n",
       "</div>"
      ],
      "text/plain": [
       "            Adjusted Close   PMI  % Change PMI\n",
       "Date                                          \n",
       "1970-01-30        0.000000  48.7      0.000000\n",
       "1970-02-27        0.052693  47.4     -0.026694\n",
       "1970-03-31        0.001453  46.9     -0.010549\n",
       "1970-04-30       -0.090483  45.0     -0.040512\n",
       "1970-05-29       -0.060967  47.2      0.048889\n",
       "...                    ...   ...           ...\n",
       "2007-08-31        0.012857  52.2      0.007722\n",
       "2007-09-28        0.035794  53.8      0.030651\n",
       "2007-10-31        0.014822  52.8     -0.018587\n",
       "2007-11-30       -0.044043  51.5     -0.024621\n",
       "2007-12-31       -0.008628  50.1     -0.027184\n",
       "\n",
       "[456 rows x 3 columns]"
      ]
     },
     "execution_count": 8,
     "metadata": {},
     "output_type": "execute_result"
    }
   ],
   "source": [
    "# Merge monthly S&P 500 performance, PMI and monthly PMI changes into a table\n",
    "Overview2 = pd.concat([df_Performance,data,data1], axis=1, names=['Adjusted Close','PMI','Change PMI'])\n",
    "Overview2 = Overview2.fillna(0)\n",
    "Overview2\n",
    "\n",
    "\n",
    "Overview2"
   ]
  },
  {
   "cell_type": "code",
   "execution_count": 9,
   "metadata": {},
   "outputs": [
    {
     "data": {
      "text/html": [
       "<div>\n",
       "<style scoped>\n",
       "    .dataframe tbody tr th:only-of-type {\n",
       "        vertical-align: middle;\n",
       "    }\n",
       "\n",
       "    .dataframe tbody tr th {\n",
       "        vertical-align: top;\n",
       "    }\n",
       "\n",
       "    .dataframe thead th {\n",
       "        text-align: right;\n",
       "    }\n",
       "</style>\n",
       "<table border=\"1\" class=\"dataframe\">\n",
       "  <thead>\n",
       "    <tr style=\"text-align: right;\">\n",
       "      <th></th>\n",
       "      <th>const</th>\n",
       "      <th>Adjusted Close</th>\n",
       "      <th>% Change PMI</th>\n",
       "    </tr>\n",
       "    <tr>\n",
       "      <th>Date</th>\n",
       "      <th></th>\n",
       "      <th></th>\n",
       "      <th></th>\n",
       "    </tr>\n",
       "  </thead>\n",
       "  <tbody>\n",
       "    <tr>\n",
       "      <th>1970-01-30</th>\n",
       "      <td>1.0</td>\n",
       "      <td>0.000000</td>\n",
       "      <td>0.000000</td>\n",
       "    </tr>\n",
       "    <tr>\n",
       "      <th>1970-02-27</th>\n",
       "      <td>1.0</td>\n",
       "      <td>0.052693</td>\n",
       "      <td>-0.026694</td>\n",
       "    </tr>\n",
       "    <tr>\n",
       "      <th>1970-03-31</th>\n",
       "      <td>1.0</td>\n",
       "      <td>0.001453</td>\n",
       "      <td>-0.010549</td>\n",
       "    </tr>\n",
       "    <tr>\n",
       "      <th>1970-04-30</th>\n",
       "      <td>1.0</td>\n",
       "      <td>-0.090483</td>\n",
       "      <td>-0.040512</td>\n",
       "    </tr>\n",
       "    <tr>\n",
       "      <th>1970-05-29</th>\n",
       "      <td>1.0</td>\n",
       "      <td>-0.060967</td>\n",
       "      <td>0.048889</td>\n",
       "    </tr>\n",
       "  </tbody>\n",
       "</table>\n",
       "</div>"
      ],
      "text/plain": [
       "            const  Adjusted Close  % Change PMI\n",
       "Date                                           \n",
       "1970-01-30    1.0        0.000000      0.000000\n",
       "1970-02-27    1.0        0.052693     -0.026694\n",
       "1970-03-31    1.0        0.001453     -0.010549\n",
       "1970-04-30    1.0       -0.090483     -0.040512\n",
       "1970-05-29    1.0       -0.060967      0.048889"
      ]
     },
     "execution_count": 9,
     "metadata": {},
     "output_type": "execute_result"
    }
   ],
   "source": [
    "# Estimate OlS Regression on returns SPX and Change PMI\n",
    "Overview_df = sm.add_constant(Overview)\n",
    "Overview_df.head()"
   ]
  },
  {
   "cell_type": "code",
   "execution_count": 10,
   "metadata": {},
   "outputs": [
    {
     "name": "stdout",
     "output_type": "stream",
     "text": [
      "                                 OLS Regression Results                                \n",
      "=======================================================================================\n",
      "Dep. Variable:         Adjusted Close   R-squared (uncentered):                   0.009\n",
      "Model:                            OLS   Adj. R-squared (uncentered):              0.007\n",
      "Method:                 Least Squares   F-statistic:                              4.257\n",
      "Date:                Tue, 18 May 2021   Prob (F-statistic):                      0.0397\n",
      "Time:                        15:21:17   Log-Likelihood:                          781.22\n",
      "No. Observations:                 456   AIC:                                     -1560.\n",
      "Df Residuals:                     455   BIC:                                     -1556.\n",
      "Df Model:                           1                                                  \n",
      "Covariance Type:            nonrobust                                                  \n",
      "================================================================================\n",
      "                   coef    std err          t      P>|t|      [0.025      0.975]\n",
      "--------------------------------------------------------------------------------\n",
      "% Change PMI     0.0851      0.041      2.063      0.040       0.004       0.166\n",
      "==============================================================================\n",
      "Omnibus:                       34.650   Durbin-Watson:                   1.943\n",
      "Prob(Omnibus):                  0.000   Jarque-Bera (JB):               90.939\n",
      "Skew:                          -0.350   Prob(JB):                     1.79e-20\n",
      "Kurtosis:                       5.073   Cond. No.                         1.00\n",
      "==============================================================================\n",
      "\n",
      "Notes:\n",
      "[1] R² is computed without centering (uncentered) since the model does not contain a constant.\n",
      "[2] Standard Errors assume that the covariance matrix of the errors is correctly specified.\n"
     ]
    }
   ],
   "source": [
    "# Regression SPX return and PMI % change\n",
    "model = sm.OLS(Overview_df['Adjusted Close'], Overview_df['% Change PMI'], missing='drop')\n",
    "results = model.fit()\n",
    "print(results.summary())"
   ]
  },
  {
   "cell_type": "code",
   "execution_count": 11,
   "metadata": {},
   "outputs": [
    {
     "data": {
      "image/png": "[encoded data removed]",
      "text/plain": [
       "<Figure size 360x360 with 1 Axes>"
      ]
     },
     "metadata": {
      "needs_background": "light"
     },
     "output_type": "display_data"
    }
   ],
   "source": [
    "sns.lmplot(y=\"Adjusted Close\", x=\"% Change PMI\", data=Overview);"
   ]
  },
  {
   "cell_type": "code",
   "execution_count": 12,
   "metadata": {},
   "outputs": [
    {
     "data": {
      "text/plain": [
       "[<matplotlib.lines.Line2D at 0x191b4e82b80>]"
      ]
     },
     "execution_count": 12,
     "metadata": {},
     "output_type": "execute_result"
    },
    {
     "data": {
      "image/png": "[encoded data removed]",
      "text/plain": [
       "<Figure size 288x288 with 1 Axes>"
      ]
     },
     "metadata": {
      "needs_background": "light"
     },
     "output_type": "display_data"
    }
   ],
   "source": [
    "reg = np.polyfit(Overview['Adjusted Close'], Overview['% Change PMI'], deg=1)\n",
    "ax = Overview.plot(kind='scatter', y='Adjusted Close', x='% Change PMI', figsize=(4, 4))\n",
    "ax.plot(Overview['Adjusted Close'], np.polyval(reg, Overview['Adjusted Close']), 'r', lw=1\n",
    "    )"
   ]
  },
  {
   "cell_type": "code",
   "execution_count": 13,
   "metadata": {},
   "outputs": [
    {
     "data": {
      "text/plain": [
       "Text(0, 0.5, '% Change PMI')"
      ]
     },
     "execution_count": 13,
     "metadata": {},
     "output_type": "execute_result"
    },
    {
     "data": {
      "image/png": "[encoded data removed]",
      "text/plain": [
       "<Figure size 432x288 with 1 Axes>"
      ]
     },
     "metadata": {
      "needs_background": "light"
     },
     "output_type": "display_data"
    }
   ],
   "source": [
    "x = Overview[['Adjusted Close']]\n",
    "y = Overview[['% Change PMI']]\n",
    "\n",
    "regressor = LinearRegression()\n",
    "regressor.fit(x, y)\n",
    "y_pred = regressor.predict(x)\n",
    "\n",
    "plt.scatter(x, y, color = 'red')\n",
    "plt.plot(x, regressor.predict(x), color = 'blue')\n",
    "plt.xlabel('Adjusted Close')\n",
    "plt.ylabel('% Change PMI')\n"
   ]
  },
  {
   "cell_type": "code",
   "execution_count": 14,
   "metadata": {},
   "outputs": [
    {
     "data": {
      "text/html": [
       "<div>\n",
       "<style scoped>\n",
       "    .dataframe tbody tr th:only-of-type {\n",
       "        vertical-align: middle;\n",
       "    }\n",
       "\n",
       "    .dataframe tbody tr th {\n",
       "        vertical-align: top;\n",
       "    }\n",
       "\n",
       "    .dataframe thead th {\n",
       "        text-align: right;\n",
       "    }\n",
       "</style>\n",
       "<table border=\"1\" class=\"dataframe\">\n",
       "  <thead>\n",
       "    <tr style=\"text-align: right;\">\n",
       "      <th></th>\n",
       "      <th>Adjusted Close</th>\n",
       "      <th>% Change PMI</th>\n",
       "    </tr>\n",
       "  </thead>\n",
       "  <tbody>\n",
       "    <tr>\n",
       "      <th>Adjusted Close</th>\n",
       "      <td>1.00000</td>\n",
       "      <td>0.09334</td>\n",
       "    </tr>\n",
       "    <tr>\n",
       "      <th>% Change PMI</th>\n",
       "      <td>0.09334</td>\n",
       "      <td>1.00000</td>\n",
       "    </tr>\n",
       "  </tbody>\n",
       "</table>\n",
       "</div>"
      ],
      "text/plain": [
       "                Adjusted Close  % Change PMI\n",
       "Adjusted Close         1.00000       0.09334\n",
       "% Change PMI           0.09334       1.00000"
      ]
     },
     "execution_count": 14,
     "metadata": {},
     "output_type": "execute_result"
    }
   ],
   "source": [
    "# Compute Correlation between PMI Change and SPX monthly retunrs\n",
    "Overview.corr()"
   ]
  },
  {
   "cell_type": "code",
   "execution_count": 15,
   "metadata": {},
   "outputs": [
    {
     "data": {
      "text/html": [
       "<div>\n",
       "<style scoped>\n",
       "    .dataframe tbody tr th:only-of-type {\n",
       "        vertical-align: middle;\n",
       "    }\n",
       "\n",
       "    .dataframe tbody tr th {\n",
       "        vertical-align: top;\n",
       "    }\n",
       "\n",
       "    .dataframe thead th {\n",
       "        text-align: right;\n",
       "    }\n",
       "</style>\n",
       "<table border=\"1\" class=\"dataframe\">\n",
       "  <thead>\n",
       "    <tr style=\"text-align: right;\">\n",
       "      <th></th>\n",
       "      <th>Adjusted Close</th>\n",
       "      <th>PMI</th>\n",
       "      <th>% Change PMI</th>\n",
       "    </tr>\n",
       "    <tr>\n",
       "      <th>Date</th>\n",
       "      <th></th>\n",
       "      <th></th>\n",
       "      <th></th>\n",
       "    </tr>\n",
       "  </thead>\n",
       "  <tbody>\n",
       "    <tr>\n",
       "      <th>1970-01-30</th>\n",
       "      <td>0.000000</td>\n",
       "      <td>48.7</td>\n",
       "      <td>0.000000</td>\n",
       "    </tr>\n",
       "    <tr>\n",
       "      <th>1970-02-27</th>\n",
       "      <td>0.052693</td>\n",
       "      <td>47.4</td>\n",
       "      <td>-0.026694</td>\n",
       "    </tr>\n",
       "    <tr>\n",
       "      <th>1970-03-31</th>\n",
       "      <td>0.001453</td>\n",
       "      <td>46.9</td>\n",
       "      <td>-0.010549</td>\n",
       "    </tr>\n",
       "    <tr>\n",
       "      <th>1970-04-30</th>\n",
       "      <td>-0.090483</td>\n",
       "      <td>45.0</td>\n",
       "      <td>-0.040512</td>\n",
       "    </tr>\n",
       "    <tr>\n",
       "      <th>1970-05-29</th>\n",
       "      <td>-0.060967</td>\n",
       "      <td>47.2</td>\n",
       "      <td>0.048889</td>\n",
       "    </tr>\n",
       "    <tr>\n",
       "      <th>...</th>\n",
       "      <td>...</td>\n",
       "      <td>...</td>\n",
       "      <td>...</td>\n",
       "    </tr>\n",
       "    <tr>\n",
       "      <th>2007-08-31</th>\n",
       "      <td>0.012857</td>\n",
       "      <td>52.2</td>\n",
       "      <td>0.007722</td>\n",
       "    </tr>\n",
       "    <tr>\n",
       "      <th>2007-09-28</th>\n",
       "      <td>0.035794</td>\n",
       "      <td>53.8</td>\n",
       "      <td>0.030651</td>\n",
       "    </tr>\n",
       "    <tr>\n",
       "      <th>2007-10-31</th>\n",
       "      <td>0.014822</td>\n",
       "      <td>52.8</td>\n",
       "      <td>-0.018587</td>\n",
       "    </tr>\n",
       "    <tr>\n",
       "      <th>2007-11-30</th>\n",
       "      <td>-0.044043</td>\n",
       "      <td>51.5</td>\n",
       "      <td>-0.024621</td>\n",
       "    </tr>\n",
       "    <tr>\n",
       "      <th>2007-12-31</th>\n",
       "      <td>-0.008628</td>\n",
       "      <td>50.1</td>\n",
       "      <td>-0.027184</td>\n",
       "    </tr>\n",
       "  </tbody>\n",
       "</table>\n",
       "<p>456 rows × 3 columns</p>\n",
       "</div>"
      ],
      "text/plain": [
       "            Adjusted Close   PMI  % Change PMI\n",
       "Date                                          \n",
       "1970-01-30        0.000000  48.7      0.000000\n",
       "1970-02-27        0.052693  47.4     -0.026694\n",
       "1970-03-31        0.001453  46.9     -0.010549\n",
       "1970-04-30       -0.090483  45.0     -0.040512\n",
       "1970-05-29       -0.060967  47.2      0.048889\n",
       "...                    ...   ...           ...\n",
       "2007-08-31        0.012857  52.2      0.007722\n",
       "2007-09-28        0.035794  53.8      0.030651\n",
       "2007-10-31        0.014822  52.8     -0.018587\n",
       "2007-11-30       -0.044043  51.5     -0.024621\n",
       "2007-12-31       -0.008628  50.1     -0.027184\n",
       "\n",
       "[456 rows x 3 columns]"
      ]
     },
     "execution_count": 15,
     "metadata": {},
     "output_type": "execute_result"
    }
   ],
   "source": [
    "Overview2\n"
   ]
  },
  {
   "cell_type": "code",
   "execution_count": 16,
   "metadata": {},
   "outputs": [
    {
     "data": {
      "text/plain": [
       "-0.001989226112240542"
      ]
     },
     "execution_count": 16,
     "metadata": {},
     "output_type": "execute_result"
    }
   ],
   "source": [
    "# derive SPX returns from PMI 45-50, if PMI is increasing\n",
    "OV45_50_pos = Overview2[Overview2['PMI'].between(45,50)]\n",
    "OV45_50_pos = OV45_50_pos[OV45_50_pos['% Change PMI'] > 0]\n",
    "\n",
    "OV45_50_pos.head()\n",
    "return45_50_pos = OV45_50_pos.loc[:,'Adjusted Close']\n",
    "return45_50_pos.mean()\n",
    "\n",
    "return45_50_pos.mean()\n"
   ]
  },
  {
   "cell_type": "code",
   "execution_count": 32,
   "metadata": {},
   "outputs": [
    {
     "data": {
      "text/plain": [
       "0.007891923630139838"
      ]
     },
     "execution_count": 32,
     "metadata": {},
     "output_type": "execute_result"
    }
   ],
   "source": [
    "# derive SPX returns from PMI 45-50, if PMI is decreasing\n",
    "OV45_50_neg = Overview2[Overview2['PMI'].between(45,50)]\n",
    "OV45_50_neg = OV45_50_neg[OV45_50_neg['% Change PMI'] < 0]\n",
    "\n",
    "return45_50_neg = OV45_50_neg.loc[:,'Adjusted Close']\n",
    "return45_50_neg.mean()"
   ]
  },
  {
   "cell_type": "code",
   "execution_count": 35,
   "metadata": {},
   "outputs": [
    {
     "data": {
      "text/plain": [
       "0.016752940802345205"
      ]
     },
     "execution_count": 35,
     "metadata": {},
     "output_type": "execute_result"
    }
   ],
   "source": [
    "# derive SPX returns from PMI 40-45, if PMI is increasing\n",
    "OV40_45_pos = Overview2[Overview2['PMI'].between(0,45)]\n",
    "OV40_45_pos = OV40_45_pos[OV40_45_pos['% Change PMI'] > 0]\n",
    "\n",
    "return40_45_pos = OV40_45_pos.loc[:,'Adjusted Close']\n",
    "\n",
    "\n",
    "return40_45_pos.mean()\n",
    "\n"
   ]
  },
  {
   "cell_type": "code",
   "execution_count": 36,
   "metadata": {},
   "outputs": [
    {
     "data": {
      "text/plain": [
       "0.014998218368400883"
      ]
     },
     "execution_count": 36,
     "metadata": {},
     "output_type": "execute_result"
    }
   ],
   "source": [
    "# derive SPX returns from PMI 40-45, if PMI is decreasing\n",
    "OV40_45_neg = Overview2[Overview2['PMI'].between(0,45)]\n",
    "OV40_45_neg = OV40_45_neg[OV40_45_neg['% Change PMI'] < 0]\n",
    "\n",
    "return40_45_neg = OV40_45_neg.loc[:,'Adjusted Close']\n",
    "return40_45_neg.mean()"
   ]
  },
  {
   "cell_type": "code",
   "execution_count": 25,
   "metadata": {},
   "outputs": [
    {
     "data": {
      "text/plain": [
       "0.005975936960571183"
      ]
     },
     "execution_count": 25,
     "metadata": {},
     "output_type": "execute_result"
    }
   ],
   "source": [
    "# derive SPX returns from PMI 50-55, if PMI is increasing\n",
    "\n",
    "OV50_55_pos = Overview2[Overview2['PMI'].between(50,55)]\n",
    "OV50_55_pos = OV50_55_pos[OV50_55_pos['% Change PMI'] > 0]\n",
    "\n",
    "return50_55_pos = OV50_55_pos.loc[:,'Adjusted Close']\n",
    "return50_55_pos.mean()\n",
    "\n",
    "# result of 0.77% correct, double checked with excel\n"
   ]
  },
  {
   "cell_type": "code",
   "execution_count": 26,
   "metadata": {},
   "outputs": [
    {
     "data": {
      "text/plain": [
       "0.007781956836093576"
      ]
     },
     "execution_count": 26,
     "metadata": {},
     "output_type": "execute_result"
    }
   ],
   "source": [
    "# derive SPX returns from PMI 50-55, if PMI is decreasing\n",
    "\n",
    "OV50_55_neg = Overview2[Overview2['PMI'].between(50,55)]\n",
    "OV50_55_neg = OV50_55_neg[OV50_55_neg['% Change PMI'] < 0]\n",
    "\n",
    "return50_55_neg = OV50_55_neg.loc[:,'Adjusted Close']\n",
    "return50_55_neg.mean()"
   ]
  },
  {
   "cell_type": "code",
   "execution_count": 19,
   "metadata": {},
   "outputs": [
    {
     "data": {
      "text/plain": [
       "0.008798199360128751"
      ]
     },
     "execution_count": 19,
     "metadata": {},
     "output_type": "execute_result"
    }
   ],
   "source": [
    "# derive SPX returns from PMI 55-60, if PMI is increasing\n",
    "\n",
    "OV55_60_pos = Overview2[Overview2['PMI'].between(55,100)]\n",
    "OV55_60_pos = OV55_60_pos[OV55_60_pos['% Change PMI'] > 0]\n",
    "\n",
    "return55_60_pos = OV55_60_pos.loc[:,'Adjusted Close']\n",
    "\n",
    "return55_60_pos.mean()\n",
    "\n"
   ]
  },
  {
   "cell_type": "code",
   "execution_count": 44,
   "metadata": {},
   "outputs": [
    {
     "data": {
      "text/plain": [
       "0.005883519109019505"
      ]
     },
     "execution_count": 44,
     "metadata": {},
     "output_type": "execute_result"
    }
   ],
   "source": [
    "# derive SPX returns from PMI 55-60, if PMI is decreasing\n",
    "\n",
    "OV55_60_neg = Overview2[Overview2['PMI'].between(55,100)]\n",
    "OV55_60_neg = OV55_60_neg[OV55_60_neg['% Change PMI'] < 0]\n",
    "\n",
    "return55_60_neg = OV55_60_neg.loc[:,'Adjusted Close']\n",
    "\n",
    "return55_60_neg.mean()"
   ]
  },
  {
   "cell_type": "code",
   "execution_count": 21,
   "metadata": {},
   "outputs": [
    {
     "data": {
      "text/plain": [
       "0.005507640653593757"
      ]
     },
     "execution_count": 21,
     "metadata": {},
     "output_type": "execute_result"
    }
   ],
   "source": [
    "# derive SPX returns from PMI below 50, if PMI is increasing\n",
    "OV0_50_pos = Overview2[Overview2['PMI'].between(0,50)]\n",
    "OV0_50_pos = OV0_50_pos[OV0_50_pos['% Change PMI'] > 0]\n",
    "\n",
    "return0_50_pos = OV0_50_pos.loc[:,'Adjusted Close']\n",
    "\n",
    "return0_50_pos.mean()\n",
    "\n"
   ]
  },
  {
   "cell_type": "code",
   "execution_count": 22,
   "metadata": {},
   "outputs": [
    {
     "data": {
      "text/plain": [
       "0.011685615983634084"
      ]
     },
     "execution_count": 22,
     "metadata": {},
     "output_type": "execute_result"
    }
   ],
   "source": [
    "# derive SPX returns from PMI below 50, if PMI is decreasing\n",
    "\n",
    "OV0_50_neg = Overview2[Overview2['PMI'].between(0,50)]\n",
    "OV0_50_neg = OV0_50_neg[OV0_50_neg['% Change PMI'] < 0]\n",
    "\n",
    "return0_50_neg = OV0_50_neg.loc[:,'Adjusted Close']\n",
    "return0_50_neg.mean()\n"
   ]
  },
  {
   "cell_type": "code",
   "execution_count": 23,
   "metadata": {},
   "outputs": [
    {
     "data": {
      "text/plain": [
       "0.0076159877803284"
      ]
     },
     "execution_count": 23,
     "metadata": {},
     "output_type": "execute_result"
    }
   ],
   "source": [
    "# derive SPX returns from PMI above 50, if PMI is increasing\n",
    "\n",
    "OV50_100_pos = Overview2[Overview2['PMI'].between(50,100)]\n",
    "OV50_100_pos = OV50_100_pos[OV50_100_pos['% Change PMI'] > 0]\n",
    "\n",
    "return50_100_pos = OV50_100_pos.loc[:,'Adjusted Close']\n",
    "return50_100_pos.mean()"
   ]
  },
  {
   "cell_type": "code",
   "execution_count": 24,
   "metadata": {},
   "outputs": [
    {
     "data": {
      "text/plain": [
       "0.004010885792991157"
      ]
     },
     "execution_count": 24,
     "metadata": {},
     "output_type": "execute_result"
    }
   ],
   "source": [
    "# derive SPX returns from PMI above 50, if PMI is decreasing\n",
    "\n",
    "OV50_100_neg = Overview2[Overview2['PMI'].between(50,100)]\n",
    "OV50_100_neg = OV50_100_neg[OV50_100_neg['% Change PMI'] < 0]\n",
    "\n",
    "return50_100_neg = OV50_100_neg.loc[:,'Adjusted Close']\n",
    "return50_100_neg.mean()"
   ]
  },
  {
   "cell_type": "code",
   "execution_count": null,
   "metadata": {},
   "outputs": [],
   "source": [
    "# Now, use IP Change as controll varible to see impact"
   ]
  },
  {
   "cell_type": "code",
   "execution_count": 172,
   "metadata": {},
   "outputs": [
    {
     "data": {
      "text/html": [
       "<div>\n",
       "<style scoped>\n",
       "    .dataframe tbody tr th:only-of-type {\n",
       "        vertical-align: middle;\n",
       "    }\n",
       "\n",
       "    .dataframe tbody tr th {\n",
       "        vertical-align: top;\n",
       "    }\n",
       "\n",
       "    .dataframe thead th {\n",
       "        text-align: right;\n",
       "    }\n",
       "</style>\n",
       "<table border=\"1\" class=\"dataframe\">\n",
       "  <thead>\n",
       "    <tr style=\"text-align: right;\">\n",
       "      <th></th>\n",
       "      <th>% Change IP</th>\n",
       "    </tr>\n",
       "    <tr>\n",
       "      <th>Date</th>\n",
       "      <th></th>\n",
       "    </tr>\n",
       "  </thead>\n",
       "  <tbody>\n",
       "    <tr>\n",
       "      <th>2020-12-31</th>\n",
       "      <td>0.0102</td>\n",
       "    </tr>\n",
       "    <tr>\n",
       "      <th>2020-11-30</th>\n",
       "      <td>0.0089</td>\n",
       "    </tr>\n",
       "    <tr>\n",
       "      <th>2020-10-30</th>\n",
       "      <td>0.0101</td>\n",
       "    </tr>\n",
       "    <tr>\n",
       "      <th>2020-09-30</th>\n",
       "      <td>-0.0008</td>\n",
       "    </tr>\n",
       "    <tr>\n",
       "      <th>2020-08-31</th>\n",
       "      <td>0.0096</td>\n",
       "    </tr>\n",
       "    <tr>\n",
       "      <th>...</th>\n",
       "      <td>...</td>\n",
       "    </tr>\n",
       "    <tr>\n",
       "      <th>1970-05-29</th>\n",
       "      <td>-0.0012</td>\n",
       "    </tr>\n",
       "    <tr>\n",
       "      <th>1970-04-30</th>\n",
       "      <td>-0.0026</td>\n",
       "    </tr>\n",
       "    <tr>\n",
       "      <th>1970-03-31</th>\n",
       "      <td>-0.0013</td>\n",
       "    </tr>\n",
       "    <tr>\n",
       "      <th>1970-02-27</th>\n",
       "      <td>-0.0007</td>\n",
       "    </tr>\n",
       "    <tr>\n",
       "      <th>1970-01-30</th>\n",
       "      <td>-0.0185</td>\n",
       "    </tr>\n",
       "  </tbody>\n",
       "</table>\n",
       "<p>612 rows × 1 columns</p>\n",
       "</div>"
      ],
      "text/plain": [
       "            % Change IP\n",
       "Date                   \n",
       "2020-12-31       0.0102\n",
       "2020-11-30       0.0089\n",
       "2020-10-30       0.0101\n",
       "2020-09-30      -0.0008\n",
       "2020-08-31       0.0096\n",
       "...                 ...\n",
       "1970-05-29      -0.0012\n",
       "1970-04-30      -0.0026\n",
       "1970-03-31      -0.0013\n",
       "1970-02-27      -0.0007\n",
       "1970-01-30      -0.0185\n",
       "\n",
       "[612 rows x 1 columns]"
      ]
     },
     "execution_count": 172,
     "metadata": {},
     "output_type": "execute_result"
    }
   ],
   "source": [
    "IP_Change = pd.read_excel('IP Change.xlsx', index_col='Date')\n",
    "IP_Change"
   ]
  },
  {
   "cell_type": "code",
   "execution_count": 17,
   "metadata": {},
   "outputs": [
    {
     "ename": "NameError",
     "evalue": "name 'PMI_neg' is not defined",
     "output_type": "error",
     "traceback": [
      "\u001b[1;31m---------------------------------------------------------------------------\u001b[0m",
      "\u001b[1;31mNameError\u001b[0m                                 Traceback (most recent call last)",
      "\u001b[1;32m<ipython-input-17-ee147f999c5b>\u001b[0m in \u001b[0;36m<module>\u001b[1;34m\u001b[0m\n\u001b[0;32m      4\u001b[0m \u001b[0mPMI_pos\u001b[0m\u001b[1;33m\u001b[0m\u001b[1;33m\u001b[0m\u001b[0m\n\u001b[0;32m      5\u001b[0m \u001b[1;33m\u001b[0m\u001b[0m\n\u001b[1;32m----> 6\u001b[1;33m \u001b[0mPMI_neg\u001b[0m \u001b[1;33m=\u001b[0m \u001b[0mOverview2\u001b[0m\u001b[1;33m[\u001b[0m\u001b[0mOverview2\u001b[0m\u001b[1;33m[\u001b[0m\u001b[1;34m'% Change PMI'\u001b[0m\u001b[1;33m]\u001b[0m \u001b[1;33m<\u001b[0m \u001b[1;36m0\u001b[0m\u001b[1;33m]\u001b[0m\u001b[1;33m,\u001b[0m \u001b[0mrename\u001b[0m\u001b[1;33m=\u001b[0m\u001b[0mPMI_neg\u001b[0m\u001b[1;33m\u001b[0m\u001b[1;33m\u001b[0m\u001b[0m\n\u001b[0m\u001b[0;32m      7\u001b[0m \u001b[0mPMI_neg\u001b[0m \u001b[1;33m=\u001b[0m \u001b[0mPMI_neg\u001b[0m\u001b[1;33m.\u001b[0m\u001b[0mloc\u001b[0m\u001b[1;33m[\u001b[0m\u001b[1;33m:\u001b[0m\u001b[1;33m,\u001b[0m\u001b[1;33m[\u001b[0m\u001b[1;34m'% Change PMI'\u001b[0m\u001b[1;33m]\u001b[0m\u001b[1;33m]\u001b[0m\u001b[1;33m\u001b[0m\u001b[1;33m\u001b[0m\u001b[0m\n\u001b[0;32m      8\u001b[0m \u001b[0mPMI_neg\u001b[0m\u001b[1;33m\u001b[0m\u001b[1;33m\u001b[0m\u001b[0m\n",
      "\u001b[1;31mNameError\u001b[0m: name 'PMI_neg' is not defined"
     ]
    }
   ],
   "source": [
    "# Prepare PMI Change +/- for dummy\n",
    "PMI_pos = Overview2[Overview2['% Change PMI'] > 0]\n",
    "PMI_pos = PMI_pos.loc[:,['% Change PMI']]\n",
    "PMI_pos\n",
    "\n",
    "PMI_neg = Overview2[Overview2['% Change PMI'] < 0], rename=PMI_neg\n",
    "PMI_neg = PMI_neg.loc[:,['% Change PMI']]\n",
    "PMI_neg"
   ]
  },
  {
   "cell_type": "code",
   "execution_count": 173,
   "metadata": {},
   "outputs": [],
   "source": [
    "# Merge SPX Performance / PMI Change and IP Change\n",
    "Overview3 = pd.concat([df_Performance,data1,IP_Change], axis=1)\n",
    "Overview3 = Overview3.dropna()\n"
   ]
  },
  {
   "cell_type": "code",
   "execution_count": 121,
   "metadata": {},
   "outputs": [
    {
     "name": "stdout",
     "output_type": "stream",
     "text": [
      "            Adjusted Close  % Change PMI  % Change IP\n",
      "Date                                                 \n",
      "1970-02-27        0.052693     -0.026694      -0.0007\n",
      "1970-03-31        0.001453     -0.010549      -0.0013\n",
      "1970-04-30       -0.090483     -0.040512      -0.0026\n",
      "1970-05-29       -0.060967      0.048889      -0.0012\n",
      "1970-06-30       -0.050033      0.082627      -0.0032\n",
      "...                    ...           ...          ...\n",
      "2020-08-31        0.070065      0.035382       0.0096\n",
      "2020-09-30       -0.039228      0.001799      -0.0008\n",
      "2020-10-30       -0.027666      0.055655       0.0101\n",
      "2020-11-30        0.107546     -0.018707       0.0089\n",
      "2020-12-31        0.037121      0.048527       0.0102\n",
      "\n",
      "[611 rows x 3 columns]\n"
     ]
    }
   ],
   "source": [
    "print(Overview3)\n"
   ]
  },
  {
   "cell_type": "code",
   "execution_count": 22,
   "metadata": {},
   "outputs": [
    {
     "ename": "NameError",
     "evalue": "name 'Overview4' is not defined",
     "output_type": "error",
     "traceback": [
      "\u001b[1;31m---------------------------------------------------------------------------\u001b[0m",
      "\u001b[1;31mNameError\u001b[0m                                 Traceback (most recent call last)",
      "\u001b[1;32m<ipython-input-22-11645f0a686a>\u001b[0m in \u001b[0;36m<module>\u001b[1;34m\u001b[0m\n\u001b[0;32m      1\u001b[0m \u001b[0mOverview3\u001b[0m\u001b[1;33m[\u001b[0m\u001b[1;34m\"PMI Negative\"\u001b[0m\u001b[1;33m]\u001b[0m \u001b[1;33m=\u001b[0m \u001b[0mOverview\u001b[0m\u001b[1;33m[\u001b[0m\u001b[1;34m\"% Change PMI\"\u001b[0m\u001b[1;33m]\u001b[0m\u001b[1;33m\u001b[0m\u001b[1;33m\u001b[0m\u001b[0m\n\u001b[1;32m----> 2\u001b[1;33m \u001b[0mprint\u001b[0m\u001b[1;33m(\u001b[0m\u001b[0mOverview4\u001b[0m\u001b[1;33m)\u001b[0m\u001b[1;33m\u001b[0m\u001b[1;33m\u001b[0m\u001b[0m\n\u001b[0m",
      "\u001b[1;31mNameError\u001b[0m: name 'Overview4' is not defined"
     ]
    }
   ],
   "source": [
    "\n"
   ]
  },
  {
   "cell_type": "code",
   "execution_count": 136,
   "metadata": {},
   "outputs": [
    {
     "name": "stdout",
     "output_type": "stream",
     "text": [
      "            Adjusted Close  % Change PMI  % Change IP  dummy1  dummy2  dummy\n",
      "Date                                                                        \n",
      "1970-02-27        0.052693     -0.026694      -0.0007       1       0      0\n",
      "1970-03-31        0.001453     -0.010549      -0.0013       1       0      0\n",
      "1970-04-30       -0.090483     -0.040512      -0.0026       1       0      0\n",
      "1970-05-29       -0.060967      0.048889      -0.0012       1       1      1\n",
      "1970-06-30       -0.050033      0.082627      -0.0032       1       1      1\n",
      "...                    ...           ...          ...     ...     ...    ...\n",
      "2020-08-31        0.070065      0.035382       0.0096       1       1      1\n",
      "2020-09-30       -0.039228      0.001799      -0.0008       1       1      1\n",
      "2020-10-30       -0.027666      0.055655       0.0101       1       1      1\n",
      "2020-11-30        0.107546     -0.018707       0.0089       1       0      0\n",
      "2020-12-31        0.037121      0.048527       0.0102       1       1      1\n",
      "\n",
      "[611 rows x 6 columns]\n"
     ]
    },
    {
     "name": "stderr",
     "output_type": "stream",
     "text": [
      "<ipython-input-136-b72d5f105b3d>:6: SettingWithCopyWarning: \n",
      "A value is trying to be set on a copy of a slice from a DataFrame\n",
      "\n",
      "See the caveats in the documentation: https://pandas.pydata.org/pandas-docs/stable/user_guide/indexing.html#returning-a-view-versus-a-copy\n",
      "  Overview3['dummy'][i] = 1\n"
     ]
    }
   ],
   "source": [
    "# Create dummy for PMI Change where 1 is rising PMI and 0 decreasing PMI\n",
    "pd.get_dummies\n",
    "Overview3['dummy'] = 0\n",
    "for i in range(0,len(Overview3)): \n",
    "    if Overview3[\"% Change PMI\"][i] > 0:\n",
    "        Overview3['dummy'][i] = 1\n",
    "        \n",
    "        \n",
    "        \n",
    "        \n",
    "print(Overview3)\n",
    "\n"
   ]
  },
  {
   "cell_type": "code",
   "execution_count": 138,
   "metadata": {},
   "outputs": [
    {
     "data": {
      "text/plain": [
       "Date\n",
       "1970-02-27    0\n",
       "1970-03-31    0\n",
       "1970-04-30    0\n",
       "1970-05-29    1\n",
       "1970-06-30    1\n",
       "             ..\n",
       "2020-08-31    1\n",
       "2020-09-30    1\n",
       "2020-10-30    1\n",
       "2020-11-30    0\n",
       "2020-12-31    1\n",
       "Freq: BM, Name: dummy, Length: 611, dtype: int64"
      ]
     },
     "execution_count": 138,
     "metadata": {},
     "output_type": "execute_result"
    }
   ],
   "source": [
    "PMI_dummy = Overview3['dummy']\n",
    "PMI_dummy"
   ]
  },
  {
   "cell_type": "code",
   "execution_count": 211,
   "metadata": {},
   "outputs": [
    {
     "name": "stdout",
     "output_type": "stream",
     "text": [
      "            Adjusted Close  % Change PMI  % Change IP  dummy\n",
      "Date                                                        \n",
      "1970-02-27        0.052693     -0.026694      -0.0007    0.0\n",
      "1970-03-31        0.001453     -0.010549      -0.0013    0.0\n",
      "1970-04-30       -0.090483     -0.040512      -0.0026    0.0\n",
      "1970-05-29       -0.060967      0.048889      -0.0012    1.0\n",
      "1970-06-30       -0.050033      0.082627      -0.0032    1.0\n",
      "...                    ...           ...          ...    ...\n",
      "2020-08-31        0.070065      0.035382       0.0096    1.0\n",
      "2020-09-30       -0.039228      0.001799      -0.0008    1.0\n",
      "2020-10-30       -0.027666      0.055655       0.0101    1.0\n",
      "2020-11-30        0.107546     -0.018707       0.0089    0.0\n",
      "2020-12-31        0.037121      0.048527       0.0102    1.0\n",
      "\n",
      "[611 rows x 4 columns]\n"
     ]
    }
   ],
   "source": [
    "Overview4 = pd.concat([df_Performance,data1,IP_Change,PMI_dummy], axis=1)\n",
    "Overview4 = Overview4.dropna()\n",
    "print(Overview4)\n"
   ]
  },
  {
   "cell_type": "code",
   "execution_count": 218,
   "metadata": {},
   "outputs": [
    {
     "data": {
      "text/html": [
       "<table class=\"simpletable\">\n",
       "<caption>OLS Regression Results</caption>\n",
       "<tr>\n",
       "  <th>Dep. Variable:</th>     <td>Adjusted Close</td>  <th>  R-squared:         </th> <td>   0.002</td>\n",
       "</tr>\n",
       "<tr>\n",
       "  <th>Model:</th>                   <td>OLS</td>       <th>  Adj. R-squared:    </th> <td>  -0.001</td>\n",
       "</tr>\n",
       "<tr>\n",
       "  <th>Method:</th>             <td>Least Squares</td>  <th>  F-statistic:       </th> <td>  0.5852</td>\n",
       "</tr>\n",
       "<tr>\n",
       "  <th>Date:</th>             <td>Tue, 27 Apr 2021</td> <th>  Prob (F-statistic):</th>  <td> 0.557</td> \n",
       "</tr>\n",
       "<tr>\n",
       "  <th>Time:</th>                 <td>20:58:54</td>     <th>  Log-Likelihood:    </th> <td>  1042.5</td>\n",
       "</tr>\n",
       "<tr>\n",
       "  <th>No. Observations:</th>      <td>   611</td>      <th>  AIC:               </th> <td>  -2079.</td>\n",
       "</tr>\n",
       "<tr>\n",
       "  <th>Df Residuals:</th>          <td>   608</td>      <th>  BIC:               </th> <td>  -2066.</td>\n",
       "</tr>\n",
       "<tr>\n",
       "  <th>Df Model:</th>              <td>     2</td>      <th>                     </th>     <td> </td>   \n",
       "</tr>\n",
       "<tr>\n",
       "  <th>Covariance Type:</th>      <td>nonrobust</td>    <th>                     </th>     <td> </td>   \n",
       "</tr>\n",
       "</table>\n",
       "<table class=\"simpletable\">\n",
       "<tr>\n",
       "       <td></td>          <th>coef</th>     <th>std err</th>      <th>t</th>      <th>P>|t|</th>  <th>[0.025</th>    <th>0.975]</th>  \n",
       "</tr>\n",
       "<tr>\n",
       "  <th>const</th>       <td>    0.0065</td> <td>    0.002</td> <td>    2.617</td> <td> 0.009</td> <td>    0.002</td> <td>    0.011</td>\n",
       "</tr>\n",
       "<tr>\n",
       "  <th>% Change IP</th> <td>   -0.1893</td> <td>    0.190</td> <td>   -0.997</td> <td> 0.319</td> <td>   -0.562</td> <td>    0.183</td>\n",
       "</tr>\n",
       "<tr>\n",
       "  <th>dummy</th>       <td>    0.0021</td> <td>    0.004</td> <td>    0.581</td> <td> 0.561</td> <td>   -0.005</td> <td>    0.009</td>\n",
       "</tr>\n",
       "</table>\n",
       "<table class=\"simpletable\">\n",
       "<tr>\n",
       "  <th>Omnibus:</th>       <td>48.799</td> <th>  Durbin-Watson:     </th> <td>   1.929</td>\n",
       "</tr>\n",
       "<tr>\n",
       "  <th>Prob(Omnibus):</th> <td> 0.000</td> <th>  Jarque-Bera (JB):  </th> <td> 102.735</td>\n",
       "</tr>\n",
       "<tr>\n",
       "  <th>Skew:</th>          <td>-0.472</td> <th>  Prob(JB):          </th> <td>4.91e-23</td>\n",
       "</tr>\n",
       "<tr>\n",
       "  <th>Kurtosis:</th>      <td> 4.773</td> <th>  Cond. No.          </th> <td>    121.</td>\n",
       "</tr>\n",
       "</table><br/><br/>Notes:<br/>[1] Standard Errors assume that the covariance matrix of the errors is correctly specified."
      ],
      "text/plain": [
       "<class 'statsmodels.iolib.summary.Summary'>\n",
       "\"\"\"\n",
       "                            OLS Regression Results                            \n",
       "==============================================================================\n",
       "Dep. Variable:         Adjusted Close   R-squared:                       0.002\n",
       "Model:                            OLS   Adj. R-squared:                 -0.001\n",
       "Method:                 Least Squares   F-statistic:                    0.5852\n",
       "Date:                Tue, 27 Apr 2021   Prob (F-statistic):              0.557\n",
       "Time:                        20:58:54   Log-Likelihood:                 1042.5\n",
       "No. Observations:                 611   AIC:                            -2079.\n",
       "Df Residuals:                     608   BIC:                            -2066.\n",
       "Df Model:                           2                                         \n",
       "Covariance Type:            nonrobust                                         \n",
       "===============================================================================\n",
       "                  coef    std err          t      P>|t|      [0.025      0.975]\n",
       "-------------------------------------------------------------------------------\n",
       "const           0.0065      0.002      2.617      0.009       0.002       0.011\n",
       "% Change IP    -0.1893      0.190     -0.997      0.319      -0.562       0.183\n",
       "dummy           0.0021      0.004      0.581      0.561      -0.005       0.009\n",
       "==============================================================================\n",
       "Omnibus:                       48.799   Durbin-Watson:                   1.929\n",
       "Prob(Omnibus):                  0.000   Jarque-Bera (JB):              102.735\n",
       "Skew:                          -0.472   Prob(JB):                     4.91e-23\n",
       "Kurtosis:                       4.773   Cond. No.                         121.\n",
       "==============================================================================\n",
       "\n",
       "Notes:\n",
       "[1] Standard Errors assume that the covariance matrix of the errors is correctly specified.\n",
       "\"\"\""
      ]
     },
     "execution_count": 218,
     "metadata": {},
     "output_type": "execute_result"
    }
   ],
   "source": [
    "\n",
    "y = Overview4['Adjusted Close']\n",
    "x1 = Overview4[['% Change IP','dummy']]\n",
    "x = x = sm.add_constant(x1)\n",
    "results2 = sm. OLS(y,x).fit()\n",
    "results2.summary()"
   ]
  },
  {
   "cell_type": "code",
   "execution_count": 222,
   "metadata": {},
   "outputs": [
    {
     "data": {
      "text/html": [
       "<div>\n",
       "<style scoped>\n",
       "    .dataframe tbody tr th:only-of-type {\n",
       "        vertical-align: middle;\n",
       "    }\n",
       "\n",
       "    .dataframe tbody tr th {\n",
       "        vertical-align: top;\n",
       "    }\n",
       "\n",
       "    .dataframe thead th {\n",
       "        text-align: right;\n",
       "    }\n",
       "</style>\n",
       "<table border=\"1\" class=\"dataframe\">\n",
       "  <thead>\n",
       "    <tr style=\"text-align: right;\">\n",
       "      <th></th>\n",
       "      <th>Adjusted Close</th>\n",
       "      <th>% Change PMI</th>\n",
       "      <th>% Change IP</th>\n",
       "      <th>dummy</th>\n",
       "    </tr>\n",
       "  </thead>\n",
       "  <tbody>\n",
       "    <tr>\n",
       "      <th>count</th>\n",
       "      <td>611.000000</td>\n",
       "      <td>611.000000</td>\n",
       "      <td>611.000000</td>\n",
       "      <td>611.000000</td>\n",
       "    </tr>\n",
       "    <tr>\n",
       "      <th>mean</th>\n",
       "      <td>0.007196</td>\n",
       "      <td>0.001477</td>\n",
       "      <td>0.001676</td>\n",
       "      <td>0.484452</td>\n",
       "    </tr>\n",
       "    <tr>\n",
       "      <th>std</th>\n",
       "      <td>0.044008</td>\n",
       "      <td>0.047599</td>\n",
       "      <td>0.009532</td>\n",
       "      <td>0.500168</td>\n",
       "    </tr>\n",
       "    <tr>\n",
       "      <th>min</th>\n",
       "      <td>-0.217630</td>\n",
       "      <td>-0.213904</td>\n",
       "      <td>-0.126800</td>\n",
       "      <td>0.000000</td>\n",
       "    </tr>\n",
       "    <tr>\n",
       "      <th>25%</th>\n",
       "      <td>-0.017779</td>\n",
       "      <td>-0.024369</td>\n",
       "      <td>-0.001850</td>\n",
       "      <td>0.000000</td>\n",
       "    </tr>\n",
       "    <tr>\n",
       "      <th>50%</th>\n",
       "      <td>0.009980</td>\n",
       "      <td>0.000000</td>\n",
       "      <td>0.002100</td>\n",
       "      <td>0.000000</td>\n",
       "    </tr>\n",
       "    <tr>\n",
       "      <th>75%</th>\n",
       "      <td>0.035754</td>\n",
       "      <td>0.024911</td>\n",
       "      <td>0.006100</td>\n",
       "      <td>1.000000</td>\n",
       "    </tr>\n",
       "    <tr>\n",
       "      <th>max</th>\n",
       "      <td>0.163047</td>\n",
       "      <td>0.300000</td>\n",
       "      <td>0.062400</td>\n",
       "      <td>1.000000</td>\n",
       "    </tr>\n",
       "  </tbody>\n",
       "</table>\n",
       "</div>"
      ],
      "text/plain": [
       "       Adjusted Close  % Change PMI  % Change IP       dummy\n",
       "count      611.000000    611.000000   611.000000  611.000000\n",
       "mean         0.007196      0.001477     0.001676    0.484452\n",
       "std          0.044008      0.047599     0.009532    0.500168\n",
       "min         -0.217630     -0.213904    -0.126800    0.000000\n",
       "25%         -0.017779     -0.024369    -0.001850    0.000000\n",
       "50%          0.009980      0.000000     0.002100    0.000000\n",
       "75%          0.035754      0.024911     0.006100    1.000000\n",
       "max          0.163047      0.300000     0.062400    1.000000"
      ]
     },
     "execution_count": 222,
     "metadata": {},
     "output_type": "execute_result"
    }
   ],
   "source": [
    "Overview4.describe()"
   ]
  },
  {
   "cell_type": "code",
   "execution_count": 38,
   "metadata": {},
   "outputs": [
    {
     "data": {
      "text/html": [
       "<div>\n",
       "<style scoped>\n",
       "    .dataframe tbody tr th:only-of-type {\n",
       "        vertical-align: middle;\n",
       "    }\n",
       "\n",
       "    .dataframe tbody tr th {\n",
       "        vertical-align: top;\n",
       "    }\n",
       "\n",
       "    .dataframe thead th {\n",
       "        text-align: right;\n",
       "    }\n",
       "</style>\n",
       "<table border=\"1\" class=\"dataframe\">\n",
       "  <thead>\n",
       "    <tr style=\"text-align: right;\">\n",
       "      <th></th>\n",
       "      <th>Adjusted Close</th>\n",
       "      <th>PMI</th>\n",
       "      <th>% Change PMI</th>\n",
       "    </tr>\n",
       "    <tr>\n",
       "      <th>Date</th>\n",
       "      <th></th>\n",
       "      <th></th>\n",
       "      <th></th>\n",
       "    </tr>\n",
       "  </thead>\n",
       "  <tbody>\n",
       "    <tr>\n",
       "      <th>1970-01-30</th>\n",
       "      <td>0.000000</td>\n",
       "      <td>48.7</td>\n",
       "      <td>0.000000</td>\n",
       "    </tr>\n",
       "    <tr>\n",
       "      <th>1970-02-27</th>\n",
       "      <td>0.052693</td>\n",
       "      <td>47.4</td>\n",
       "      <td>-0.026694</td>\n",
       "    </tr>\n",
       "    <tr>\n",
       "      <th>1970-03-31</th>\n",
       "      <td>0.001453</td>\n",
       "      <td>46.9</td>\n",
       "      <td>-0.010549</td>\n",
       "    </tr>\n",
       "    <tr>\n",
       "      <th>1970-04-30</th>\n",
       "      <td>-0.090483</td>\n",
       "      <td>45.0</td>\n",
       "      <td>-0.040512</td>\n",
       "    </tr>\n",
       "    <tr>\n",
       "      <th>1970-05-29</th>\n",
       "      <td>-0.060967</td>\n",
       "      <td>47.2</td>\n",
       "      <td>0.048889</td>\n",
       "    </tr>\n",
       "    <tr>\n",
       "      <th>...</th>\n",
       "      <td>...</td>\n",
       "      <td>...</td>\n",
       "      <td>...</td>\n",
       "    </tr>\n",
       "    <tr>\n",
       "      <th>2007-08-31</th>\n",
       "      <td>0.012857</td>\n",
       "      <td>52.2</td>\n",
       "      <td>0.007722</td>\n",
       "    </tr>\n",
       "    <tr>\n",
       "      <th>2007-09-28</th>\n",
       "      <td>0.035794</td>\n",
       "      <td>53.8</td>\n",
       "      <td>0.030651</td>\n",
       "    </tr>\n",
       "    <tr>\n",
       "      <th>2007-10-31</th>\n",
       "      <td>0.014822</td>\n",
       "      <td>52.8</td>\n",
       "      <td>-0.018587</td>\n",
       "    </tr>\n",
       "    <tr>\n",
       "      <th>2007-11-30</th>\n",
       "      <td>-0.044043</td>\n",
       "      <td>51.5</td>\n",
       "      <td>-0.024621</td>\n",
       "    </tr>\n",
       "    <tr>\n",
       "      <th>2007-12-31</th>\n",
       "      <td>-0.008628</td>\n",
       "      <td>50.1</td>\n",
       "      <td>-0.027184</td>\n",
       "    </tr>\n",
       "  </tbody>\n",
       "</table>\n",
       "<p>456 rows × 3 columns</p>\n",
       "</div>"
      ],
      "text/plain": [
       "            Adjusted Close   PMI  % Change PMI\n",
       "Date                                          \n",
       "1970-01-30        0.000000  48.7      0.000000\n",
       "1970-02-27        0.052693  47.4     -0.026694\n",
       "1970-03-31        0.001453  46.9     -0.010549\n",
       "1970-04-30       -0.090483  45.0     -0.040512\n",
       "1970-05-29       -0.060967  47.2      0.048889\n",
       "...                    ...   ...           ...\n",
       "2007-08-31        0.012857  52.2      0.007722\n",
       "2007-09-28        0.035794  53.8      0.030651\n",
       "2007-10-31        0.014822  52.8     -0.018587\n",
       "2007-11-30       -0.044043  51.5     -0.024621\n",
       "2007-12-31       -0.008628  50.1     -0.027184\n",
       "\n",
       "[456 rows x 3 columns]"
      ]
     },
     "execution_count": 38,
     "metadata": {},
     "output_type": "execute_result"
    }
   ],
   "source": [
    "Overview2\n",
    "Overview5 = Overview2.sort_index(ascending=True) \n",
    "Overview5"
   ]
  },
  {
   "cell_type": "code",
   "execution_count": null,
   "metadata": {},
   "outputs": [],
   "source": []
  },
  {
   "cell_type": "code",
   "execution_count": 39,
   "metadata": {},
   "outputs": [
    {
     "data": {
      "text/html": [
       "<div>\n",
       "<style scoped>\n",
       "    .dataframe tbody tr th:only-of-type {\n",
       "        vertical-align: middle;\n",
       "    }\n",
       "\n",
       "    .dataframe tbody tr th {\n",
       "        vertical-align: top;\n",
       "    }\n",
       "\n",
       "    .dataframe thead th {\n",
       "        text-align: right;\n",
       "    }\n",
       "</style>\n",
       "<table border=\"1\" class=\"dataframe\">\n",
       "  <thead>\n",
       "    <tr style=\"text-align: right;\">\n",
       "      <th></th>\n",
       "      <th>Adjusted Close</th>\n",
       "      <th>PMI</th>\n",
       "      <th>% Change PMI</th>\n",
       "    </tr>\n",
       "    <tr>\n",
       "      <th>Date</th>\n",
       "      <th></th>\n",
       "      <th></th>\n",
       "      <th></th>\n",
       "    </tr>\n",
       "  </thead>\n",
       "  <tbody>\n",
       "    <tr>\n",
       "      <th>1970-01-30</th>\n",
       "      <td>0.008019</td>\n",
       "      <td>46.225000</td>\n",
       "      <td>-0.004025</td>\n",
       "    </tr>\n",
       "    <tr>\n",
       "      <th>1970-02-27</th>\n",
       "      <td>0.011392</td>\n",
       "      <td>46.158333</td>\n",
       "      <td>0.000564</td>\n",
       "    </tr>\n",
       "    <tr>\n",
       "      <th>1970-03-31</th>\n",
       "      <td>0.007757</td>\n",
       "      <td>46.775000</td>\n",
       "      <td>0.014793</td>\n",
       "    </tr>\n",
       "    <tr>\n",
       "      <th>1970-04-30</th>\n",
       "      <td>0.010702</td>\n",
       "      <td>47.133333</td>\n",
       "      <td>0.010197</td>\n",
       "    </tr>\n",
       "    <tr>\n",
       "      <th>1970-05-29</th>\n",
       "      <td>0.021267</td>\n",
       "      <td>47.925000</td>\n",
       "      <td>0.018944</td>\n",
       "    </tr>\n",
       "    <tr>\n",
       "      <th>...</th>\n",
       "      <td>...</td>\n",
       "      <td>...</td>\n",
       "      <td>...</td>\n",
       "    </tr>\n",
       "    <tr>\n",
       "      <th>2007-08-31</th>\n",
       "      <td>NaN</td>\n",
       "      <td>NaN</td>\n",
       "      <td>NaN</td>\n",
       "    </tr>\n",
       "    <tr>\n",
       "      <th>2007-09-28</th>\n",
       "      <td>NaN</td>\n",
       "      <td>NaN</td>\n",
       "      <td>NaN</td>\n",
       "    </tr>\n",
       "    <tr>\n",
       "      <th>2007-10-31</th>\n",
       "      <td>NaN</td>\n",
       "      <td>NaN</td>\n",
       "      <td>NaN</td>\n",
       "    </tr>\n",
       "    <tr>\n",
       "      <th>2007-11-30</th>\n",
       "      <td>NaN</td>\n",
       "      <td>NaN</td>\n",
       "      <td>NaN</td>\n",
       "    </tr>\n",
       "    <tr>\n",
       "      <th>2007-12-31</th>\n",
       "      <td>NaN</td>\n",
       "      <td>NaN</td>\n",
       "      <td>NaN</td>\n",
       "    </tr>\n",
       "  </tbody>\n",
       "</table>\n",
       "<p>456 rows × 3 columns</p>\n",
       "</div>"
      ],
      "text/plain": [
       "            Adjusted Close        PMI  % Change PMI\n",
       "Date                                               \n",
       "1970-01-30        0.008019  46.225000     -0.004025\n",
       "1970-02-27        0.011392  46.158333      0.000564\n",
       "1970-03-31        0.007757  46.775000      0.014793\n",
       "1970-04-30        0.010702  47.133333      0.010197\n",
       "1970-05-29        0.021267  47.925000      0.018944\n",
       "...                    ...        ...           ...\n",
       "2007-08-31             NaN        NaN           NaN\n",
       "2007-09-28             NaN        NaN           NaN\n",
       "2007-10-31             NaN        NaN           NaN\n",
       "2007-11-30             NaN        NaN           NaN\n",
       "2007-12-31             NaN        NaN           NaN\n",
       "\n",
       "[456 rows x 3 columns]"
      ]
     },
     "execution_count": 39,
     "metadata": {},
     "output_type": "execute_result"
    }
   ],
   "source": [
    "indexer = pd.api.indexers.FixedForwardWindowIndexer(window_size=12)\n",
    "Overview5.rolling(window=indexer).mean()"
   ]
  },
  {
   "cell_type": "code",
   "execution_count": 41,
   "metadata": {},
   "outputs": [
    {
     "data": {
      "text/html": [
       "<div>\n",
       "<style scoped>\n",
       "    .dataframe tbody tr th:only-of-type {\n",
       "        vertical-align: middle;\n",
       "    }\n",
       "\n",
       "    .dataframe tbody tr th {\n",
       "        vertical-align: top;\n",
       "    }\n",
       "\n",
       "    .dataframe thead th {\n",
       "        text-align: right;\n",
       "    }\n",
       "</style>\n",
       "<table border=\"1\" class=\"dataframe\">\n",
       "  <thead>\n",
       "    <tr style=\"text-align: right;\">\n",
       "      <th></th>\n",
       "      <th>Adjusted Close</th>\n",
       "    </tr>\n",
       "    <tr>\n",
       "      <th>Date</th>\n",
       "      <th></th>\n",
       "    </tr>\n",
       "  </thead>\n",
       "  <tbody>\n",
       "    <tr>\n",
       "      <th>1970-01-30</th>\n",
       "      <td>NaN</td>\n",
       "    </tr>\n",
       "    <tr>\n",
       "      <th>1970-02-27</th>\n",
       "      <td>0.051352</td>\n",
       "    </tr>\n",
       "    <tr>\n",
       "      <th>1970-03-31</th>\n",
       "      <td>0.001451</td>\n",
       "    </tr>\n",
       "    <tr>\n",
       "      <th>1970-04-30</th>\n",
       "      <td>-0.094842</td>\n",
       "    </tr>\n",
       "    <tr>\n",
       "      <th>1970-05-29</th>\n",
       "      <td>-0.062904</td>\n",
       "    </tr>\n",
       "    <tr>\n",
       "      <th>...</th>\n",
       "      <td>...</td>\n",
       "    </tr>\n",
       "    <tr>\n",
       "      <th>2007-08-31</th>\n",
       "      <td>0.012775</td>\n",
       "    </tr>\n",
       "    <tr>\n",
       "      <th>2007-09-28</th>\n",
       "      <td>0.035168</td>\n",
       "    </tr>\n",
       "    <tr>\n",
       "      <th>2007-10-31</th>\n",
       "      <td>0.014714</td>\n",
       "    </tr>\n",
       "    <tr>\n",
       "      <th>2007-11-30</th>\n",
       "      <td>-0.045043</td>\n",
       "    </tr>\n",
       "    <tr>\n",
       "      <th>2007-12-31</th>\n",
       "      <td>-0.008666</td>\n",
       "    </tr>\n",
       "  </tbody>\n",
       "</table>\n",
       "<p>456 rows × 1 columns</p>\n",
       "</div>"
      ],
      "text/plain": [
       "            Adjusted Close\n",
       "Date                      \n",
       "1970-01-30             NaN\n",
       "1970-02-27        0.051352\n",
       "1970-03-31        0.001451\n",
       "1970-04-30       -0.094842\n",
       "1970-05-29       -0.062904\n",
       "...                    ...\n",
       "2007-08-31        0.012775\n",
       "2007-09-28        0.035168\n",
       "2007-10-31        0.014714\n",
       "2007-11-30       -0.045043\n",
       "2007-12-31       -0.008666\n",
       "\n",
       "[456 rows x 1 columns]"
      ]
     },
     "execution_count": 41,
     "metadata": {},
     "output_type": "execute_result"
    }
   ],
   "source": [
    "# compute log returns of SPX Prices\n",
    "df1 = np.log(df / df.shift(1))\n",
    "df1   "
   ]
  },
  {
   "cell_type": "code",
   "execution_count": 42,
   "metadata": {},
   "outputs": [
    {
     "data": {
      "text/html": [
       "<div>\n",
       "<style scoped>\n",
       "    .dataframe tbody tr th:only-of-type {\n",
       "        vertical-align: middle;\n",
       "    }\n",
       "\n",
       "    .dataframe tbody tr th {\n",
       "        vertical-align: top;\n",
       "    }\n",
       "\n",
       "    .dataframe thead th {\n",
       "        text-align: right;\n",
       "    }\n",
       "</style>\n",
       "<table border=\"1\" class=\"dataframe\">\n",
       "  <thead>\n",
       "    <tr style=\"text-align: right;\">\n",
       "      <th></th>\n",
       "      <th>Adjusted Close</th>\n",
       "    </tr>\n",
       "    <tr>\n",
       "      <th>Date</th>\n",
       "      <th></th>\n",
       "    </tr>\n",
       "  </thead>\n",
       "  <tbody>\n",
       "    <tr>\n",
       "      <th>2006-05-31</th>\n",
       "      <td>0.155180</td>\n",
       "    </tr>\n",
       "    <tr>\n",
       "      <th>2006-06-30</th>\n",
       "      <td>0.168608</td>\n",
       "    </tr>\n",
       "    <tr>\n",
       "      <th>2006-07-31</th>\n",
       "      <td>0.136024</td>\n",
       "    </tr>\n",
       "    <tr>\n",
       "      <th>2006-08-31</th>\n",
       "      <td>0.143726</td>\n",
       "    </tr>\n",
       "    <tr>\n",
       "      <th>2006-09-29</th>\n",
       "      <td>0.157843</td>\n",
       "    </tr>\n",
       "    <tr>\n",
       "      <th>2006-10-31</th>\n",
       "      <td>0.148287</td>\n",
       "    </tr>\n",
       "    <tr>\n",
       "      <th>2006-11-30</th>\n",
       "      <td>0.072222</td>\n",
       "    </tr>\n",
       "    <tr>\n",
       "      <th>2006-12-29</th>\n",
       "      <td>0.047224</td>\n",
       "    </tr>\n",
       "    <tr>\n",
       "      <th>2007-01-31</th>\n",
       "      <td>NaN</td>\n",
       "    </tr>\n",
       "    <tr>\n",
       "      <th>2007-02-28</th>\n",
       "      <td>NaN</td>\n",
       "    </tr>\n",
       "    <tr>\n",
       "      <th>2007-03-30</th>\n",
       "      <td>NaN</td>\n",
       "    </tr>\n",
       "    <tr>\n",
       "      <th>2007-04-30</th>\n",
       "      <td>NaN</td>\n",
       "    </tr>\n",
       "    <tr>\n",
       "      <th>2007-05-31</th>\n",
       "      <td>NaN</td>\n",
       "    </tr>\n",
       "    <tr>\n",
       "      <th>2007-06-29</th>\n",
       "      <td>NaN</td>\n",
       "    </tr>\n",
       "    <tr>\n",
       "      <th>2007-07-31</th>\n",
       "      <td>NaN</td>\n",
       "    </tr>\n",
       "    <tr>\n",
       "      <th>2007-08-31</th>\n",
       "      <td>NaN</td>\n",
       "    </tr>\n",
       "    <tr>\n",
       "      <th>2007-09-28</th>\n",
       "      <td>NaN</td>\n",
       "    </tr>\n",
       "    <tr>\n",
       "      <th>2007-10-31</th>\n",
       "      <td>NaN</td>\n",
       "    </tr>\n",
       "    <tr>\n",
       "      <th>2007-11-30</th>\n",
       "      <td>NaN</td>\n",
       "    </tr>\n",
       "    <tr>\n",
       "      <th>2007-12-31</th>\n",
       "      <td>NaN</td>\n",
       "    </tr>\n",
       "  </tbody>\n",
       "</table>\n",
       "</div>"
      ],
      "text/plain": [
       "            Adjusted Close\n",
       "Date                      \n",
       "2006-05-31        0.155180\n",
       "2006-06-30        0.168608\n",
       "2006-07-31        0.136024\n",
       "2006-08-31        0.143726\n",
       "2006-09-29        0.157843\n",
       "2006-10-31        0.148287\n",
       "2006-11-30        0.072222\n",
       "2006-12-29        0.047224\n",
       "2007-01-31             NaN\n",
       "2007-02-28             NaN\n",
       "2007-03-30             NaN\n",
       "2007-04-30             NaN\n",
       "2007-05-31             NaN\n",
       "2007-06-29             NaN\n",
       "2007-07-31             NaN\n",
       "2007-08-31             NaN\n",
       "2007-09-28             NaN\n",
       "2007-10-31             NaN\n",
       "2007-11-30             NaN\n",
       "2007-12-31             NaN"
      ]
     },
     "execution_count": 42,
     "metadata": {},
     "output_type": "execute_result"
    }
   ],
   "source": [
    "# Implement Forward Indexer for 1 year and summarize returns (log returns)\n",
    "indexer = pd.api.indexers.FixedForwardWindowIndexer(window_size=13)                       \n",
    "df2 = df1.rolling(window=indexer, min_periods=13).sum()\n",
    "df2.last('20M')"
   ]
  },
  {
   "cell_type": "code",
   "execution_count": 43,
   "metadata": {},
   "outputs": [
    {
     "data": {
      "text/html": [
       "<div>\n",
       "<style scoped>\n",
       "    .dataframe tbody tr th:only-of-type {\n",
       "        vertical-align: middle;\n",
       "    }\n",
       "\n",
       "    .dataframe tbody tr th {\n",
       "        vertical-align: top;\n",
       "    }\n",
       "\n",
       "    .dataframe thead th {\n",
       "        text-align: right;\n",
       "    }\n",
       "</style>\n",
       "<table border=\"1\" class=\"dataframe\">\n",
       "  <thead>\n",
       "    <tr style=\"text-align: right;\">\n",
       "      <th></th>\n",
       "      <th>Adjusted Close</th>\n",
       "      <th>PMI</th>\n",
       "      <th>% Change PMI</th>\n",
       "    </tr>\n",
       "    <tr>\n",
       "      <th>Date</th>\n",
       "      <th></th>\n",
       "      <th></th>\n",
       "      <th></th>\n",
       "    </tr>\n",
       "  </thead>\n",
       "  <tbody>\n",
       "    <tr>\n",
       "      <th>1970-02-27</th>\n",
       "      <td>0.129244</td>\n",
       "      <td>47.4</td>\n",
       "      <td>-0.026694</td>\n",
       "    </tr>\n",
       "    <tr>\n",
       "      <th>1970-03-31</th>\n",
       "      <td>0.114027</td>\n",
       "      <td>46.9</td>\n",
       "      <td>-0.010549</td>\n",
       "    </tr>\n",
       "    <tr>\n",
       "      <th>1970-04-30</th>\n",
       "      <td>0.148220</td>\n",
       "      <td>45.0</td>\n",
       "      <td>-0.040512</td>\n",
       "    </tr>\n",
       "    <tr>\n",
       "      <th>1970-05-29</th>\n",
       "      <td>0.200615</td>\n",
       "      <td>47.2</td>\n",
       "      <td>0.048889</td>\n",
       "    </tr>\n",
       "    <tr>\n",
       "      <th>1970-06-30</th>\n",
       "      <td>0.264222</td>\n",
       "      <td>51.1</td>\n",
       "      <td>0.082627</td>\n",
       "    </tr>\n",
       "    <tr>\n",
       "      <th>...</th>\n",
       "      <td>...</td>\n",
       "      <td>...</td>\n",
       "      <td>...</td>\n",
       "    </tr>\n",
       "    <tr>\n",
       "      <th>2006-08-31</th>\n",
       "      <td>0.143726</td>\n",
       "      <td>53.7</td>\n",
       "      <td>0.013208</td>\n",
       "    </tr>\n",
       "    <tr>\n",
       "      <th>2006-09-29</th>\n",
       "      <td>0.157843</td>\n",
       "      <td>52.2</td>\n",
       "      <td>-0.027933</td>\n",
       "    </tr>\n",
       "    <tr>\n",
       "      <th>2006-10-31</th>\n",
       "      <td>0.148287</td>\n",
       "      <td>51.4</td>\n",
       "      <td>-0.015326</td>\n",
       "    </tr>\n",
       "    <tr>\n",
       "      <th>2006-11-30</th>\n",
       "      <td>0.072222</td>\n",
       "      <td>50.3</td>\n",
       "      <td>-0.021401</td>\n",
       "    </tr>\n",
       "    <tr>\n",
       "      <th>2006-12-29</th>\n",
       "      <td>0.047224</td>\n",
       "      <td>51.4</td>\n",
       "      <td>0.021869</td>\n",
       "    </tr>\n",
       "  </tbody>\n",
       "</table>\n",
       "<p>443 rows × 3 columns</p>\n",
       "</div>"
      ],
      "text/plain": [
       "            Adjusted Close   PMI  % Change PMI\n",
       "Date                                          \n",
       "1970-02-27        0.129244  47.4     -0.026694\n",
       "1970-03-31        0.114027  46.9     -0.010549\n",
       "1970-04-30        0.148220  45.0     -0.040512\n",
       "1970-05-29        0.200615  47.2      0.048889\n",
       "1970-06-30        0.264222  51.1      0.082627\n",
       "...                    ...   ...           ...\n",
       "2006-08-31        0.143726  53.7      0.013208\n",
       "2006-09-29        0.157843  52.2     -0.027933\n",
       "2006-10-31        0.148287  51.4     -0.015326\n",
       "2006-11-30        0.072222  50.3     -0.021401\n",
       "2006-12-29        0.047224  51.4      0.021869\n",
       "\n",
       "[443 rows x 3 columns]"
      ]
     },
     "execution_count": 43,
     "metadata": {},
     "output_type": "execute_result"
    }
   ],
   "source": [
    "Overview6 = pd.concat([df2,data,data1], axis=1, names=['12M Performance','PMI','Change PMI'])\n",
    "Overview6 = Overview6.dropna()\n",
    "Overview6"
   ]
  },
  {
   "cell_type": "code",
   "execution_count": 44,
   "metadata": {},
   "outputs": [
    {
     "data": {
      "text/plain": [
       "0.07990998479485413"
      ]
     },
     "execution_count": 44,
     "metadata": {},
     "output_type": "execute_result"
    }
   ],
   "source": [
    "# derive SPX returns from PMI 45-50, if PMI is increasing\n",
    "OVY45_50_pos = Overview6[Overview6['PMI'].between(45,50)]\n",
    "OVY45_50_pos = OVY45_50_pos[OVY45_50_pos['% Change PMI'] > 0]\n",
    "\n",
    "OVY45_50_pos.head()\n",
    "\n",
    "returnY45_50_pos = OVY45_50_pos.loc[:,'Adjusted Close']\n",
    "returnY45_50_pos.mean()\n",
    "\n",
    "\n"
   ]
  },
  {
   "cell_type": "code",
   "execution_count": 45,
   "metadata": {},
   "outputs": [
    {
     "data": {
      "text/plain": [
       "0.12222421858348372"
      ]
     },
     "execution_count": 45,
     "metadata": {},
     "output_type": "execute_result"
    }
   ],
   "source": [
    "# derive SPX returns from PMI 45-50, if PMI is decreasing\n",
    "OVY45_50_neg = Overview6[Overview6['PMI'].between(45,50)]\n",
    "OVY45_50_neg = OVY45_50_neg[OVY45_50_neg['% Change PMI'] < 0]\n",
    "\n",
    "returnY45_50_neg = OVY45_50_neg.loc[:,'Adjusted Close']\n",
    "returnY45_50_neg.mean()\n"
   ]
  },
  {
   "cell_type": "code",
   "execution_count": 46,
   "metadata": {},
   "outputs": [
    {
     "data": {
      "text/plain": [
       "0.08613076992904077"
      ]
     },
     "execution_count": 46,
     "metadata": {},
     "output_type": "execute_result"
    }
   ],
   "source": [
    "# derive SPX returns from PMI 50-55, if PMI is increasing\n",
    "\n",
    "OVY50_55_pos = Overview6[Overview6['PMI'].between(50,55)]\n",
    "OVY50_55_pos = OVY50_55_pos[OVY50_55_pos['% Change PMI'] > 0]\n",
    "\n",
    "returnY50_55_pos = OVY50_55_pos.loc[:,'Adjusted Close']\n",
    "returnY50_55_pos.mean()"
   ]
  },
  {
   "cell_type": "code",
   "execution_count": 47,
   "metadata": {},
   "outputs": [
    {
     "data": {
      "text/plain": [
       "0.10963132137199935"
      ]
     },
     "execution_count": 47,
     "metadata": {},
     "output_type": "execute_result"
    }
   ],
   "source": [
    "# derive SPX returns from PMI 50-55, if PMI is decreasing\n",
    "\n",
    "OVY50_55_neg = Overview6[Overview6['PMI'].between(50,55)]\n",
    "OVY50_55_neg = OVY50_55_neg[OVY50_55_neg['% Change PMI'] < 0]\n",
    "\n",
    "returnY50_55_neg = OVY50_55_neg.loc[:,'Adjusted Close']\n",
    "returnY50_55_neg.mean()"
   ]
  },
  {
   "cell_type": "code",
   "execution_count": 48,
   "metadata": {},
   "outputs": [
    {
     "data": {
      "text/plain": [
       "0.02425072888009335"
      ]
     },
     "execution_count": 48,
     "metadata": {},
     "output_type": "execute_result"
    }
   ],
   "source": [
    "# derive SPX returns from PMI 55-60, if PMI is increasing\n",
    "\n",
    "OVY55_60_pos = Overview6[Overview6['PMI'].between(55,100)]\n",
    "OVY55_60_pos = OVY55_60_pos[OVY55_60_pos['% Change PMI'] > 0]\n",
    "\n",
    "returnY55_60_pos = OVY55_60_pos.loc[:,'Adjusted Close']\n",
    "\n",
    "returnY55_60_pos.mean()\n"
   ]
  },
  {
   "cell_type": "code",
   "execution_count": 49,
   "metadata": {},
   "outputs": [
    {
     "data": {
      "text/plain": [
       "0.05675118891162312"
      ]
     },
     "execution_count": 49,
     "metadata": {},
     "output_type": "execute_result"
    }
   ],
   "source": [
    "# derive SPX returns from PMI 55-60, if PMI is decreasing\n",
    "\n",
    "OVY55_60_neg = Overview6[Overview6['PMI'].between(55,100)]\n",
    "OVY55_60_neg = OVY55_60_neg[OVY55_60_neg['% Change PMI'] < 0]\n",
    "\n",
    "returnY55_60_neg = OVY55_60_neg.loc[:,'Adjusted Close']\n",
    "\n",
    "returnY55_60_neg.mean()"
   ]
  },
  {
   "cell_type": "code",
   "execution_count": 50,
   "metadata": {},
   "outputs": [
    {
     "data": {
      "text/plain": [
       "0.141824428217304"
      ]
     },
     "execution_count": 50,
     "metadata": {},
     "output_type": "execute_result"
    }
   ],
   "source": [
    "# derive SPX returns from PMI 40-45, if PMI is increasing\n",
    "OVY00_45_pos = Overview6[Overview6['PMI'].between(0,45)]\n",
    "OVY00_45_pos = OVY00_45_pos[OVY00_45_pos['% Change PMI'] > 0]\n",
    "\n",
    "returnY00_45_pos = OVY00_45_pos.loc[:,'Adjusted Close']\n",
    "\n",
    "returnY00_45_pos.mean()"
   ]
  },
  {
   "cell_type": "code",
   "execution_count": null,
   "metadata": {},
   "outputs": [],
   "source": []
  },
  {
   "cell_type": "code",
   "execution_count": 51,
   "metadata": {},
   "outputs": [
    {
     "data": {
      "text/plain": [
       "0.14995115924083519"
      ]
     },
     "execution_count": 51,
     "metadata": {},
     "output_type": "execute_result"
    }
   ],
   "source": [
    "# derive SPX returns from PMI 40-45, if PMI is decreasing\n",
    "OVY00_45_neg = Overview6[Overview6['PMI'].between(0,45)]\n",
    "OVY00_45_neg = OVY00_45_neg[OVY00_45_neg['% Change PMI'] < 0]\n",
    "\n",
    "returnY00_45_neg = OVY00_45_neg.loc[:,'Adjusted Close']\n",
    "returnY00_45_neg.mean()"
   ]
  },
  {
   "cell_type": "code",
   "execution_count": 52,
   "metadata": {},
   "outputs": [
    {
     "data": {
      "text/plain": [
       "0.10467576216383409"
      ]
     },
     "execution_count": 52,
     "metadata": {},
     "output_type": "execute_result"
    }
   ],
   "source": [
    "# derive SPX returns from PMI below 50, if PMI is increasing\n",
    "OVY0_50_pos = Overview6[Overview6['PMI'].between(0,50)]\n",
    "OVY0_50_pos = OVY0_50_pos[OVY0_50_pos['% Change PMI'] > 0]\n",
    "\n",
    "returnY0_50_pos = OVY0_50_pos.loc[:,'Adjusted Close']\n",
    "\n",
    "returnY0_50_pos.mean()\n"
   ]
  },
  {
   "cell_type": "code",
   "execution_count": 53,
   "metadata": {},
   "outputs": [
    {
     "data": {
      "text/plain": [
       "0.1321473072742769"
      ]
     },
     "execution_count": 53,
     "metadata": {},
     "output_type": "execute_result"
    }
   ],
   "source": [
    "# derive SPX returns from PMI below 50, if PMI is decreasing\n",
    "\n",
    "OVY0_50_neg = Overview6[Overview6['PMI'].between(0,50)]\n",
    "OVY0_50_neg = OVY0_50_neg[OVY0_50_neg['% Change PMI'] < 0]\n",
    "\n",
    "returnY0_50_neg = OVY0_50_neg.loc[:,'Adjusted Close']\n",
    "returnY0_50_neg.mean()"
   ]
  },
  {
   "cell_type": "code",
   "execution_count": 54,
   "metadata": {},
   "outputs": [
    {
     "data": {
      "text/plain": [
       "0.05275482033664739"
      ]
     },
     "execution_count": 54,
     "metadata": {},
     "output_type": "execute_result"
    }
   ],
   "source": [
    "# derive SPX returns from PMI above 50, if PMI is increasing\n",
    "\n",
    "OVY50_100_pos = Overview6[Overview6['PMI'].between(50,100)]\n",
    "OVY50_100_pos = OVY50_100_pos[OVY50_100_pos['% Change PMI'] > 0]\n",
    "\n",
    "returnY50_100_pos = OVY50_100_pos.loc[:,'Adjusted Close']\n",
    "returnY50_100_pos.mean()"
   ]
  },
  {
   "cell_type": "code",
   "execution_count": 55,
   "metadata": {},
   "outputs": [
    {
     "data": {
      "text/plain": [
       "0.08421480655077075"
      ]
     },
     "execution_count": 55,
     "metadata": {},
     "output_type": "execute_result"
    }
   ],
   "source": [
    "# derive SPX returns from PMI above 50, if PMI is decreasing\n",
    "\n",
    "OVY50_100_neg = Overview6[Overview6['PMI'].between(50,100)]\n",
    "OVY50_100_neg = OVY50_100_neg[OVY50_100_neg['% Change PMI'] < 0]\n",
    "\n",
    "returnY50_100_neg = OVY50_100_neg.loc[:,'Adjusted Close']\n",
    "returnY50_100_neg.mean()"
   ]
  },
  {
   "cell_type": "code",
   "execution_count": 56,
   "metadata": {},
   "outputs": [
    {
     "data": {
      "text/html": [
       "<div>\n",
       "<style scoped>\n",
       "    .dataframe tbody tr th:only-of-type {\n",
       "        vertical-align: middle;\n",
       "    }\n",
       "\n",
       "    .dataframe tbody tr th {\n",
       "        vertical-align: top;\n",
       "    }\n",
       "\n",
       "    .dataframe thead th {\n",
       "        text-align: right;\n",
       "    }\n",
       "</style>\n",
       "<table border=\"1\" class=\"dataframe\">\n",
       "  <thead>\n",
       "    <tr style=\"text-align: right;\">\n",
       "      <th></th>\n",
       "      <th>Adjusted Close</th>\n",
       "      <th>% Change PMI</th>\n",
       "    </tr>\n",
       "    <tr>\n",
       "      <th>Date</th>\n",
       "      <th></th>\n",
       "      <th></th>\n",
       "    </tr>\n",
       "  </thead>\n",
       "  <tbody>\n",
       "    <tr>\n",
       "      <th>1970-02-27</th>\n",
       "      <td>0.129244</td>\n",
       "      <td>-0.026694</td>\n",
       "    </tr>\n",
       "    <tr>\n",
       "      <th>1970-03-31</th>\n",
       "      <td>0.114027</td>\n",
       "      <td>-0.010549</td>\n",
       "    </tr>\n",
       "    <tr>\n",
       "      <th>1970-04-30</th>\n",
       "      <td>0.148220</td>\n",
       "      <td>-0.040512</td>\n",
       "    </tr>\n",
       "    <tr>\n",
       "      <th>1970-05-29</th>\n",
       "      <td>0.200615</td>\n",
       "      <td>0.048889</td>\n",
       "    </tr>\n",
       "    <tr>\n",
       "      <th>1970-06-30</th>\n",
       "      <td>0.264222</td>\n",
       "      <td>0.082627</td>\n",
       "    </tr>\n",
       "    <tr>\n",
       "      <th>...</th>\n",
       "      <td>...</td>\n",
       "      <td>...</td>\n",
       "    </tr>\n",
       "    <tr>\n",
       "      <th>2006-08-31</th>\n",
       "      <td>0.143726</td>\n",
       "      <td>0.013208</td>\n",
       "    </tr>\n",
       "    <tr>\n",
       "      <th>2006-09-29</th>\n",
       "      <td>0.157843</td>\n",
       "      <td>-0.027933</td>\n",
       "    </tr>\n",
       "    <tr>\n",
       "      <th>2006-10-31</th>\n",
       "      <td>0.148287</td>\n",
       "      <td>-0.015326</td>\n",
       "    </tr>\n",
       "    <tr>\n",
       "      <th>2006-11-30</th>\n",
       "      <td>0.072222</td>\n",
       "      <td>-0.021401</td>\n",
       "    </tr>\n",
       "    <tr>\n",
       "      <th>2006-12-29</th>\n",
       "      <td>0.047224</td>\n",
       "      <td>0.021869</td>\n",
       "    </tr>\n",
       "  </tbody>\n",
       "</table>\n",
       "<p>443 rows × 2 columns</p>\n",
       "</div>"
      ],
      "text/plain": [
       "            Adjusted Close  % Change PMI\n",
       "Date                                    \n",
       "1970-02-27        0.129244     -0.026694\n",
       "1970-03-31        0.114027     -0.010549\n",
       "1970-04-30        0.148220     -0.040512\n",
       "1970-05-29        0.200615      0.048889\n",
       "1970-06-30        0.264222      0.082627\n",
       "...                    ...           ...\n",
       "2006-08-31        0.143726      0.013208\n",
       "2006-09-29        0.157843     -0.027933\n",
       "2006-10-31        0.148287     -0.015326\n",
       "2006-11-30        0.072222     -0.021401\n",
       "2006-12-29        0.047224      0.021869\n",
       "\n",
       "[443 rows x 2 columns]"
      ]
     },
     "execution_count": 56,
     "metadata": {},
     "output_type": "execute_result"
    }
   ],
   "source": [
    "Overview7 = pd.concat([df2,data1], axis=1, names=['12M Performance','Change PMI'])\n",
    "Overview7 = Overview7.dropna(0)\n",
    "Overview7"
   ]
  },
  {
   "cell_type": "code",
   "execution_count": 57,
   "metadata": {},
   "outputs": [
    {
     "data": {
      "text/html": [
       "<div>\n",
       "<style scoped>\n",
       "    .dataframe tbody tr th:only-of-type {\n",
       "        vertical-align: middle;\n",
       "    }\n",
       "\n",
       "    .dataframe tbody tr th {\n",
       "        vertical-align: top;\n",
       "    }\n",
       "\n",
       "    .dataframe thead th {\n",
       "        text-align: right;\n",
       "    }\n",
       "</style>\n",
       "<table border=\"1\" class=\"dataframe\">\n",
       "  <thead>\n",
       "    <tr style=\"text-align: right;\">\n",
       "      <th></th>\n",
       "      <th>Adjusted Close</th>\n",
       "      <th>% Change PMI</th>\n",
       "    </tr>\n",
       "  </thead>\n",
       "  <tbody>\n",
       "    <tr>\n",
       "      <th>Adjusted Close</th>\n",
       "      <td>1.000000</td>\n",
       "      <td>-0.063027</td>\n",
       "    </tr>\n",
       "    <tr>\n",
       "      <th>% Change PMI</th>\n",
       "      <td>-0.063027</td>\n",
       "      <td>1.000000</td>\n",
       "    </tr>\n",
       "  </tbody>\n",
       "</table>\n",
       "</div>"
      ],
      "text/plain": [
       "                Adjusted Close  % Change PMI\n",
       "Adjusted Close        1.000000     -0.063027\n",
       "% Change PMI         -0.063027      1.000000"
      ]
     },
     "execution_count": 57,
     "metadata": {},
     "output_type": "execute_result"
    }
   ],
   "source": [
    "Overview7.corr()"
   ]
  }
 ],
 "metadata": {
  "kernelspec": {
   "display_name": "Python 3",
   "language": "python",
   "name": "python3"
  },
  "language_info": {
   "codemirror_mode": {
    "name": "ipython",
    "version": 3
   },
   "file_extension": ".py",
   "mimetype": "text/x-python",
   "name": "python",
   "nbconvert_exporter": "python",
   "pygments_lexer": "ipython3",
   "version": "3.8.5"
  }
 },
 "nbformat": 4,
 "nbformat_minor": 4
}
