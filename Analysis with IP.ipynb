{
 "cells": [
  {
   "cell_type": "code",
   "execution_count": 1,
   "metadata": {},
   "outputs": [],
   "source": [
    "import numpy, pandas, quandl"
   ]
  },
  {
   "cell_type": "code",
   "execution_count": 2,
   "metadata": {},
   "outputs": [],
   "source": [
    "import numpy as np \n",
    "import pandas as pd\n",
    "import quandl\n",
    "from pylab import mpl, plt\n",
    "plt.style.use('seaborn')\n",
    "%matplotlib inline\n",
    "import pandas_datareader.data as web\n",
    "import datetime\n",
    "import statsmodels.api as sm\n",
    "import seaborn as sns\n",
    "from sklearn.linear_model import LinearRegression\n",
    "from pandas import Series, DataFrame\n",
    "import statsmodels.formula.api as smf\n",
    "\n",
    "quandl.ApiConfig.api_key = \"pTygJpdkhxBLRczvBgTp\"\n"
   ]
  },
  {
   "cell_type": "code",
   "execution_count": 25,
   "metadata": {},
   "outputs": [
    {
     "data": {
      "text/html": [
       "<div>\n",
       "<style scoped>\n",
       "    .dataframe tbody tr th:only-of-type {\n",
       "        vertical-align: middle;\n",
       "    }\n",
       "\n",
       "    .dataframe tbody tr th {\n",
       "        vertical-align: top;\n",
       "    }\n",
       "\n",
       "    .dataframe thead th {\n",
       "        text-align: right;\n",
       "    }\n",
       "</style>\n",
       "<table border=\"1\" class=\"dataframe\">\n",
       "  <thead>\n",
       "    <tr style=\"text-align: right;\">\n",
       "      <th></th>\n",
       "      <th>Adjusted Close</th>\n",
       "      <th>% Change</th>\n",
       "    </tr>\n",
       "    <tr>\n",
       "      <th>Date</th>\n",
       "      <th></th>\n",
       "      <th></th>\n",
       "    </tr>\n",
       "  </thead>\n",
       "  <tbody>\n",
       "    <tr>\n",
       "      <th>2020-08-31</th>\n",
       "      <td>3500.31</td>\n",
       "      <td>7.006469</td>\n",
       "    </tr>\n",
       "    <tr>\n",
       "      <th>2020-09-30</th>\n",
       "      <td>3363.00</td>\n",
       "      <td>-3.922795</td>\n",
       "    </tr>\n",
       "    <tr>\n",
       "      <th>2020-10-30</th>\n",
       "      <td>3269.96</td>\n",
       "      <td>-2.766577</td>\n",
       "    </tr>\n",
       "    <tr>\n",
       "      <th>2020-11-30</th>\n",
       "      <td>3621.63</td>\n",
       "      <td>10.754566</td>\n",
       "    </tr>\n",
       "    <tr>\n",
       "      <th>2020-12-31</th>\n",
       "      <td>3756.07</td>\n",
       "      <td>3.712141</td>\n",
       "    </tr>\n",
       "  </tbody>\n",
       "</table>\n",
       "</div>"
      ],
      "text/plain": [
       "            Adjusted Close   % Change\n",
       "Date                                 \n",
       "2020-08-31         3500.31   7.006469\n",
       "2020-09-30         3363.00  -3.922795\n",
       "2020-10-30         3269.96  -2.766577\n",
       "2020-11-30         3621.63  10.754566\n",
       "2020-12-31         3756.07   3.712141"
      ]
     },
     "execution_count": 25,
     "metadata": {},
     "output_type": "execute_result"
    }
   ],
   "source": [
    "# import S&P 500 Prices and % Change from Excel \n",
    "names= ['Date','Adjusted Close', '% Change']\n",
    "df = pd.read_excel('SP500 Prices.xlsx', names=['Date','Adjusted Close','% Change'])\n",
    "df.head()\n",
    "\n",
    "\n",
    "df = pd.read_excel('SP500 Prices.xlsx', names=names, index_col='Date')\n",
    "df.head()\n",
    "\n",
    "\n",
    "df = (df.sort_values(by=['Date']))\n",
    "\n",
    "df.tail()\n",
    "\n",
    "\n"
   ]
  },
  {
   "cell_type": "code",
   "execution_count": 27,
   "metadata": {},
   "outputs": [
    {
     "data": {
      "text/html": [
       "<div>\n",
       "<style scoped>\n",
       "    .dataframe tbody tr th:only-of-type {\n",
       "        vertical-align: middle;\n",
       "    }\n",
       "\n",
       "    .dataframe tbody tr th {\n",
       "        vertical-align: top;\n",
       "    }\n",
       "\n",
       "    .dataframe thead th {\n",
       "        text-align: right;\n",
       "    }\n",
       "</style>\n",
       "<table border=\"1\" class=\"dataframe\">\n",
       "  <thead>\n",
       "    <tr style=\"text-align: right;\">\n",
       "      <th></th>\n",
       "      <th>% Change IP</th>\n",
       "    </tr>\n",
       "    <tr>\n",
       "      <th>Date</th>\n",
       "      <th></th>\n",
       "    </tr>\n",
       "  </thead>\n",
       "  <tbody>\n",
       "    <tr>\n",
       "      <th>2020-12-31</th>\n",
       "      <td>0.0102</td>\n",
       "    </tr>\n",
       "    <tr>\n",
       "      <th>2020-11-30</th>\n",
       "      <td>0.0089</td>\n",
       "    </tr>\n",
       "    <tr>\n",
       "      <th>2020-10-30</th>\n",
       "      <td>0.0101</td>\n",
       "    </tr>\n",
       "    <tr>\n",
       "      <th>2020-09-30</th>\n",
       "      <td>-0.0008</td>\n",
       "    </tr>\n",
       "    <tr>\n",
       "      <th>2020-08-31</th>\n",
       "      <td>0.0096</td>\n",
       "    </tr>\n",
       "    <tr>\n",
       "      <th>...</th>\n",
       "      <td>...</td>\n",
       "    </tr>\n",
       "    <tr>\n",
       "      <th>1970-05-29</th>\n",
       "      <td>-0.0012</td>\n",
       "    </tr>\n",
       "    <tr>\n",
       "      <th>1970-04-30</th>\n",
       "      <td>-0.0026</td>\n",
       "    </tr>\n",
       "    <tr>\n",
       "      <th>1970-03-31</th>\n",
       "      <td>-0.0013</td>\n",
       "    </tr>\n",
       "    <tr>\n",
       "      <th>1970-02-27</th>\n",
       "      <td>-0.0007</td>\n",
       "    </tr>\n",
       "    <tr>\n",
       "      <th>1970-01-30</th>\n",
       "      <td>-0.0185</td>\n",
       "    </tr>\n",
       "  </tbody>\n",
       "</table>\n",
       "<p>612 rows × 1 columns</p>\n",
       "</div>"
      ],
      "text/plain": [
       "            % Change IP\n",
       "Date                   \n",
       "2020-12-31       0.0102\n",
       "2020-11-30       0.0089\n",
       "2020-10-30       0.0101\n",
       "2020-09-30      -0.0008\n",
       "2020-08-31       0.0096\n",
       "...                 ...\n",
       "1970-05-29      -0.0012\n",
       "1970-04-30      -0.0026\n",
       "1970-03-31      -0.0013\n",
       "1970-02-27      -0.0007\n",
       "1970-01-30      -0.0185\n",
       "\n",
       "[612 rows x 1 columns]"
      ]
     },
     "execution_count": 27,
     "metadata": {},
     "output_type": "execute_result"
    }
   ],
   "source": [
    "# import ISM PMI from Eccel\n",
    "names= ['Date','% Change IP']\n",
    "data = pd.read_excel('IP Change.xlsx', names=names, index_col='Date')\n",
    "data.head()\n",
    "\n",
    "\n",
    "data = data.loc[:,['% Change IP']]\n",
    "data\n"
   ]
  },
  {
   "cell_type": "code",
   "execution_count": 5,
   "metadata": {
    "scrolled": true
   },
   "outputs": [
    {
     "data": {
      "text/html": [
       "<div>\n",
       "<style scoped>\n",
       "    .dataframe tbody tr th:only-of-type {\n",
       "        vertical-align: middle;\n",
       "    }\n",
       "\n",
       "    .dataframe tbody tr th {\n",
       "        vertical-align: top;\n",
       "    }\n",
       "\n",
       "    .dataframe thead th {\n",
       "        text-align: right;\n",
       "    }\n",
       "</style>\n",
       "<table border=\"1\" class=\"dataframe\">\n",
       "  <thead>\n",
       "    <tr style=\"text-align: right;\">\n",
       "      <th></th>\n",
       "      <th>Adjusted Close</th>\n",
       "    </tr>\n",
       "    <tr>\n",
       "      <th>Date</th>\n",
       "      <th></th>\n",
       "    </tr>\n",
       "  </thead>\n",
       "  <tbody>\n",
       "    <tr>\n",
       "      <th>1970-01-30</th>\n",
       "      <td>85.02</td>\n",
       "    </tr>\n",
       "    <tr>\n",
       "      <th>1970-02-27</th>\n",
       "      <td>89.50</td>\n",
       "    </tr>\n",
       "    <tr>\n",
       "      <th>1970-03-31</th>\n",
       "      <td>89.63</td>\n",
       "    </tr>\n",
       "    <tr>\n",
       "      <th>1970-04-30</th>\n",
       "      <td>81.52</td>\n",
       "    </tr>\n",
       "    <tr>\n",
       "      <th>1970-05-29</th>\n",
       "      <td>76.55</td>\n",
       "    </tr>\n",
       "  </tbody>\n",
       "</table>\n",
       "</div>"
      ],
      "text/plain": [
       "            Adjusted Close\n",
       "Date                      \n",
       "1970-01-30           85.02\n",
       "1970-02-27           89.50\n",
       "1970-03-31           89.63\n",
       "1970-04-30           81.52\n",
       "1970-05-29           76.55"
      ]
     },
     "execution_count": 5,
     "metadata": {},
     "output_type": "execute_result"
    }
   ],
   "source": [
    "# Reduce S&P 500 data to monthly adjusted Close prices\n",
    "df = df.loc[:,['Adjusted Close']]\n",
    "df.head()"
   ]
  },
  {
   "cell_type": "code",
   "execution_count": 6,
   "metadata": {
    "scrolled": true
   },
   "outputs": [
    {
     "data": {
      "text/html": [
       "<div>\n",
       "<style scoped>\n",
       "    .dataframe tbody tr th:only-of-type {\n",
       "        vertical-align: middle;\n",
       "    }\n",
       "\n",
       "    .dataframe tbody tr th {\n",
       "        vertical-align: top;\n",
       "    }\n",
       "\n",
       "    .dataframe thead th {\n",
       "        text-align: right;\n",
       "    }\n",
       "</style>\n",
       "<table border=\"1\" class=\"dataframe\">\n",
       "  <thead>\n",
       "    <tr style=\"text-align: right;\">\n",
       "      <th></th>\n",
       "      <th>Adjusted Close</th>\n",
       "    </tr>\n",
       "    <tr>\n",
       "      <th>Date</th>\n",
       "      <th></th>\n",
       "    </tr>\n",
       "  </thead>\n",
       "  <tbody>\n",
       "    <tr>\n",
       "      <th>1970-01-30</th>\n",
       "      <td>NaN</td>\n",
       "    </tr>\n",
       "    <tr>\n",
       "      <th>1970-02-27</th>\n",
       "      <td>0.052693</td>\n",
       "    </tr>\n",
       "    <tr>\n",
       "      <th>1970-03-31</th>\n",
       "      <td>0.001453</td>\n",
       "    </tr>\n",
       "    <tr>\n",
       "      <th>1970-04-30</th>\n",
       "      <td>-0.090483</td>\n",
       "    </tr>\n",
       "    <tr>\n",
       "      <th>1970-05-29</th>\n",
       "      <td>-0.060967</td>\n",
       "    </tr>\n",
       "  </tbody>\n",
       "</table>\n",
       "</div>"
      ],
      "text/plain": [
       "            Adjusted Close\n",
       "Date                      \n",
       "1970-01-30             NaN\n",
       "1970-02-27        0.052693\n",
       "1970-03-31        0.001453\n",
       "1970-04-30       -0.090483\n",
       "1970-05-29       -0.060967"
      ]
     },
     "execution_count": 6,
     "metadata": {},
     "output_type": "execute_result"
    }
   ],
   "source": [
    "# Compute returns from Price Series of S&P 500\n",
    "df_Performance = df.pct_change()\n",
    "df_Performance.head()\n",
    "\n"
   ]
  },
  {
   "cell_type": "code",
   "execution_count": 7,
   "metadata": {},
   "outputs": [
    {
     "data": {
      "text/html": [
       "<div>\n",
       "<style scoped>\n",
       "    .dataframe tbody tr th:only-of-type {\n",
       "        vertical-align: middle;\n",
       "    }\n",
       "\n",
       "    .dataframe tbody tr th {\n",
       "        vertical-align: top;\n",
       "    }\n",
       "\n",
       "    .dataframe thead th {\n",
       "        text-align: right;\n",
       "    }\n",
       "</style>\n",
       "<table border=\"1\" class=\"dataframe\">\n",
       "  <thead>\n",
       "    <tr style=\"text-align: right;\">\n",
       "      <th></th>\n",
       "      <th>Adjusted Close</th>\n",
       "      <th>% Change IP</th>\n",
       "    </tr>\n",
       "    <tr>\n",
       "      <th>Date</th>\n",
       "      <th></th>\n",
       "      <th></th>\n",
       "    </tr>\n",
       "  </thead>\n",
       "  <tbody>\n",
       "    <tr>\n",
       "      <th>1970-01-30</th>\n",
       "      <td>0.000000</td>\n",
       "      <td>-0.0185</td>\n",
       "    </tr>\n",
       "    <tr>\n",
       "      <th>1970-02-27</th>\n",
       "      <td>0.052693</td>\n",
       "      <td>-0.0007</td>\n",
       "    </tr>\n",
       "    <tr>\n",
       "      <th>1970-03-31</th>\n",
       "      <td>0.001453</td>\n",
       "      <td>-0.0013</td>\n",
       "    </tr>\n",
       "    <tr>\n",
       "      <th>1970-04-30</th>\n",
       "      <td>-0.090483</td>\n",
       "      <td>-0.0026</td>\n",
       "    </tr>\n",
       "    <tr>\n",
       "      <th>1970-05-29</th>\n",
       "      <td>-0.060967</td>\n",
       "      <td>-0.0012</td>\n",
       "    </tr>\n",
       "    <tr>\n",
       "      <th>...</th>\n",
       "      <td>...</td>\n",
       "      <td>...</td>\n",
       "    </tr>\n",
       "    <tr>\n",
       "      <th>2020-08-31</th>\n",
       "      <td>0.070065</td>\n",
       "      <td>0.0096</td>\n",
       "    </tr>\n",
       "    <tr>\n",
       "      <th>2020-09-30</th>\n",
       "      <td>-0.039228</td>\n",
       "      <td>-0.0008</td>\n",
       "    </tr>\n",
       "    <tr>\n",
       "      <th>2020-10-30</th>\n",
       "      <td>-0.027666</td>\n",
       "      <td>0.0101</td>\n",
       "    </tr>\n",
       "    <tr>\n",
       "      <th>2020-11-30</th>\n",
       "      <td>0.107546</td>\n",
       "      <td>0.0089</td>\n",
       "    </tr>\n",
       "    <tr>\n",
       "      <th>2020-12-31</th>\n",
       "      <td>0.037121</td>\n",
       "      <td>0.0102</td>\n",
       "    </tr>\n",
       "  </tbody>\n",
       "</table>\n",
       "<p>612 rows × 2 columns</p>\n",
       "</div>"
      ],
      "text/plain": [
       "            Adjusted Close  % Change IP\n",
       "Date                                   \n",
       "1970-01-30        0.000000      -0.0185\n",
       "1970-02-27        0.052693      -0.0007\n",
       "1970-03-31        0.001453      -0.0013\n",
       "1970-04-30       -0.090483      -0.0026\n",
       "1970-05-29       -0.060967      -0.0012\n",
       "...                    ...          ...\n",
       "2020-08-31        0.070065       0.0096\n",
       "2020-09-30       -0.039228      -0.0008\n",
       "2020-10-30       -0.027666       0.0101\n",
       "2020-11-30        0.107546       0.0089\n",
       "2020-12-31        0.037121       0.0102\n",
       "\n",
       "[612 rows x 2 columns]"
      ]
     },
     "execution_count": 7,
     "metadata": {},
     "output_type": "execute_result"
    }
   ],
   "source": [
    "# Merge returns SPX, Change PMI\n",
    "Overview = pd.concat([df_Performance,data], axis=1)\n",
    "Overview.fillna(0)\n",
    "Overview = Overview.fillna(0)\n",
    "Overview\n"
   ]
  },
  {
   "cell_type": "code",
   "execution_count": 8,
   "metadata": {
    "scrolled": true
   },
   "outputs": [
    {
     "name": "stdout",
     "output_type": "stream",
     "text": [
      "            Adjusted Close  % Change IP\n",
      "Date                                   \n",
      "1970-01-30        0.000000      -0.0185\n",
      "1970-02-27        0.052693      -0.0007\n",
      "1970-03-31        0.001453      -0.0013\n",
      "1970-04-30       -0.090483      -0.0026\n",
      "1970-05-29       -0.060967      -0.0012\n",
      "...                    ...          ...\n",
      "2020-08-31        0.070065       0.0096\n",
      "2020-09-30       -0.039228      -0.0008\n",
      "2020-10-30       -0.027666       0.0101\n",
      "2020-11-30        0.107546       0.0089\n",
      "2020-12-31        0.037121       0.0102\n",
      "\n",
      "[612 rows x 2 columns]\n"
     ]
    },
    {
     "data": {
      "text/html": [
       "<div>\n",
       "<style scoped>\n",
       "    .dataframe tbody tr th:only-of-type {\n",
       "        vertical-align: middle;\n",
       "    }\n",
       "\n",
       "    .dataframe tbody tr th {\n",
       "        vertical-align: top;\n",
       "    }\n",
       "\n",
       "    .dataframe thead th {\n",
       "        text-align: right;\n",
       "    }\n",
       "</style>\n",
       "<table border=\"1\" class=\"dataframe\">\n",
       "  <thead>\n",
       "    <tr style=\"text-align: right;\">\n",
       "      <th></th>\n",
       "      <th>Adjusted Close</th>\n",
       "      <th>% Change IP</th>\n",
       "    </tr>\n",
       "    <tr>\n",
       "      <th>Date</th>\n",
       "      <th></th>\n",
       "      <th></th>\n",
       "    </tr>\n",
       "  </thead>\n",
       "  <tbody>\n",
       "    <tr>\n",
       "      <th>1970-01-30</th>\n",
       "      <td>0.000000</td>\n",
       "      <td>-0.0185</td>\n",
       "    </tr>\n",
       "    <tr>\n",
       "      <th>1970-02-27</th>\n",
       "      <td>0.052693</td>\n",
       "      <td>-0.0007</td>\n",
       "    </tr>\n",
       "    <tr>\n",
       "      <th>1970-03-31</th>\n",
       "      <td>0.001453</td>\n",
       "      <td>-0.0013</td>\n",
       "    </tr>\n",
       "    <tr>\n",
       "      <th>1970-04-30</th>\n",
       "      <td>-0.090483</td>\n",
       "      <td>-0.0026</td>\n",
       "    </tr>\n",
       "    <tr>\n",
       "      <th>1970-05-29</th>\n",
       "      <td>-0.060967</td>\n",
       "      <td>-0.0012</td>\n",
       "    </tr>\n",
       "    <tr>\n",
       "      <th>...</th>\n",
       "      <td>...</td>\n",
       "      <td>...</td>\n",
       "    </tr>\n",
       "    <tr>\n",
       "      <th>2020-08-31</th>\n",
       "      <td>0.070065</td>\n",
       "      <td>0.0096</td>\n",
       "    </tr>\n",
       "    <tr>\n",
       "      <th>2020-09-30</th>\n",
       "      <td>-0.039228</td>\n",
       "      <td>-0.0008</td>\n",
       "    </tr>\n",
       "    <tr>\n",
       "      <th>2020-10-30</th>\n",
       "      <td>-0.027666</td>\n",
       "      <td>0.0101</td>\n",
       "    </tr>\n",
       "    <tr>\n",
       "      <th>2020-11-30</th>\n",
       "      <td>0.107546</td>\n",
       "      <td>0.0089</td>\n",
       "    </tr>\n",
       "    <tr>\n",
       "      <th>2020-12-31</th>\n",
       "      <td>0.037121</td>\n",
       "      <td>0.0102</td>\n",
       "    </tr>\n",
       "  </tbody>\n",
       "</table>\n",
       "<p>612 rows × 2 columns</p>\n",
       "</div>"
      ],
      "text/plain": [
       "            Adjusted Close  % Change IP\n",
       "Date                                   \n",
       "1970-01-30        0.000000      -0.0185\n",
       "1970-02-27        0.052693      -0.0007\n",
       "1970-03-31        0.001453      -0.0013\n",
       "1970-04-30       -0.090483      -0.0026\n",
       "1970-05-29       -0.060967      -0.0012\n",
       "...                    ...          ...\n",
       "2020-08-31        0.070065       0.0096\n",
       "2020-09-30       -0.039228      -0.0008\n",
       "2020-10-30       -0.027666       0.0101\n",
       "2020-11-30        0.107546       0.0089\n",
       "2020-12-31        0.037121       0.0102\n",
       "\n",
       "[612 rows x 2 columns]"
      ]
     },
     "execution_count": 8,
     "metadata": {},
     "output_type": "execute_result"
    }
   ],
   "source": [
    "# Merge monthly S&P 500 performance, PMI and monthly PMI changes into a table\n",
    "Overview2 = pd.concat([df_Performance,data], axis=1, names=['Adjusted Close','% Change IP'])\n",
    "Overview2 = Overview2.fillna(0)\n",
    "Overview2\n",
    "\n",
    "print(Overview2)\n",
    "Overview2"
   ]
  },
  {
   "cell_type": "code",
   "execution_count": 9,
   "metadata": {},
   "outputs": [
    {
     "data": {
      "text/html": [
       "<div>\n",
       "<style scoped>\n",
       "    .dataframe tbody tr th:only-of-type {\n",
       "        vertical-align: middle;\n",
       "    }\n",
       "\n",
       "    .dataframe tbody tr th {\n",
       "        vertical-align: top;\n",
       "    }\n",
       "\n",
       "    .dataframe thead th {\n",
       "        text-align: right;\n",
       "    }\n",
       "</style>\n",
       "<table border=\"1\" class=\"dataframe\">\n",
       "  <thead>\n",
       "    <tr style=\"text-align: right;\">\n",
       "      <th></th>\n",
       "      <th>const</th>\n",
       "      <th>Adjusted Close</th>\n",
       "      <th>% Change IP</th>\n",
       "    </tr>\n",
       "    <tr>\n",
       "      <th>Date</th>\n",
       "      <th></th>\n",
       "      <th></th>\n",
       "      <th></th>\n",
       "    </tr>\n",
       "  </thead>\n",
       "  <tbody>\n",
       "    <tr>\n",
       "      <th>1970-01-30</th>\n",
       "      <td>1.0</td>\n",
       "      <td>0.000000</td>\n",
       "      <td>-0.0185</td>\n",
       "    </tr>\n",
       "    <tr>\n",
       "      <th>1970-02-27</th>\n",
       "      <td>1.0</td>\n",
       "      <td>0.052693</td>\n",
       "      <td>-0.0007</td>\n",
       "    </tr>\n",
       "    <tr>\n",
       "      <th>1970-03-31</th>\n",
       "      <td>1.0</td>\n",
       "      <td>0.001453</td>\n",
       "      <td>-0.0013</td>\n",
       "    </tr>\n",
       "    <tr>\n",
       "      <th>1970-04-30</th>\n",
       "      <td>1.0</td>\n",
       "      <td>-0.090483</td>\n",
       "      <td>-0.0026</td>\n",
       "    </tr>\n",
       "    <tr>\n",
       "      <th>1970-05-29</th>\n",
       "      <td>1.0</td>\n",
       "      <td>-0.060967</td>\n",
       "      <td>-0.0012</td>\n",
       "    </tr>\n",
       "  </tbody>\n",
       "</table>\n",
       "</div>"
      ],
      "text/plain": [
       "            const  Adjusted Close  % Change IP\n",
       "Date                                          \n",
       "1970-01-30    1.0        0.000000      -0.0185\n",
       "1970-02-27    1.0        0.052693      -0.0007\n",
       "1970-03-31    1.0        0.001453      -0.0013\n",
       "1970-04-30    1.0       -0.090483      -0.0026\n",
       "1970-05-29    1.0       -0.060967      -0.0012"
      ]
     },
     "execution_count": 9,
     "metadata": {},
     "output_type": "execute_result"
    }
   ],
   "source": [
    "# Estimate OlS Regression on returns SPX and Change PMI\n",
    "Overview_df = sm.add_constant(Overview)\n",
    "Overview_df.head()"
   ]
  },
  {
   "cell_type": "code",
   "execution_count": 28,
   "metadata": {},
   "outputs": [
    {
     "name": "stdout",
     "output_type": "stream",
     "text": [
      "                                 OLS Regression Results                                \n",
      "=======================================================================================\n",
      "Dep. Variable:         Adjusted Close   R-squared (uncentered):                   0.000\n",
      "Model:                            OLS   Adj. R-squared (uncentered):             -0.002\n",
      "Method:                 Least Squares   F-statistic:                            0.03827\n",
      "Date:                Tue, 18 May 2021   Prob (F-statistic):                       0.845\n",
      "Time:                        22:26:44   Log-Likelihood:                          1036.1\n",
      "No. Observations:                 612   AIC:                                     -2070.\n",
      "Df Residuals:                     611   BIC:                                     -2066.\n",
      "Df Model:                           1                                                  \n",
      "Covariance Type:            nonrobust                                                  \n",
      "===============================================================================\n",
      "                  coef    std err          t      P>|t|      [0.025      0.975]\n",
      "-------------------------------------------------------------------------------\n",
      "% Change IP    -0.0364      0.186     -0.196      0.845      -0.401       0.329\n",
      "==============================================================================\n",
      "Omnibus:                       48.313   Durbin-Watson:                   1.888\n",
      "Prob(Omnibus):                  0.000   Jarque-Bera (JB):              104.808\n",
      "Skew:                          -0.457   Prob(JB):                     1.74e-23\n",
      "Kurtosis:                       4.810   Cond. No.                         1.00\n",
      "==============================================================================\n",
      "\n",
      "Notes:\n",
      "[1] R² is computed without centering (uncentered) since the model does not contain a constant.\n",
      "[2] Standard Errors assume that the covariance matrix of the errors is correctly specified.\n"
     ]
    }
   ],
   "source": [
    "# Regression SPX return and PMI % change\n",
    "model = sm.OLS(Overview_df['Adjusted Close'], Overview_df['% Change IP'], missing='drop')\n",
    "results = model.fit()\n",
    "print(results.summary())"
   ]
  },
  {
   "cell_type": "code",
   "execution_count": 14,
   "metadata": {},
   "outputs": [
    {
     "ename": "NameError",
     "evalue": "name 'x' is not defined",
     "output_type": "error",
     "traceback": [
      "\u001b[1;31m---------------------------------------------------------------------------\u001b[0m",
      "\u001b[1;31mNameError\u001b[0m                                 Traceback (most recent call last)",
      "\u001b[1;32m<ipython-input-14-70bb9e3918c5>\u001b[0m in \u001b[0;36m<module>\u001b[1;34m\u001b[0m\n\u001b[0;32m      2\u001b[0m \u001b[0myx\u001b[0m \u001b[1;33m=\u001b[0m \u001b[0mOverview_df\u001b[0m\u001b[1;33m[\u001b[0m\u001b[1;34m'Adjusted Close'\u001b[0m\u001b[1;33m]\u001b[0m\u001b[1;33m\u001b[0m\u001b[1;33m\u001b[0m\u001b[0m\n\u001b[0;32m      3\u001b[0m \u001b[0mx2\u001b[0m \u001b[1;33m=\u001b[0m \u001b[0mOverview_df\u001b[0m\u001b[1;33m[\u001b[0m\u001b[1;34m'% Change IP'\u001b[0m\u001b[1;33m]\u001b[0m\u001b[1;33m\u001b[0m\u001b[1;33m\u001b[0m\u001b[0m\n\u001b[1;32m----> 4\u001b[1;33m \u001b[0mx\u001b[0m \u001b[1;33m=\u001b[0m \u001b[0mx\u001b[0m \u001b[1;33m=\u001b[0m \u001b[0msm\u001b[0m\u001b[1;33m.\u001b[0m\u001b[0madd_constant\u001b[0m\u001b[1;33m(\u001b[0m\u001b[0mx\u001b[0m\u001b[1;33m)\u001b[0m\u001b[1;33m\u001b[0m\u001b[1;33m\u001b[0m\u001b[0m\n\u001b[0m\u001b[0;32m      5\u001b[0m \u001b[0mresults3\u001b[0m \u001b[1;33m=\u001b[0m \u001b[0msm\u001b[0m\u001b[1;33m.\u001b[0m \u001b[0mOLS\u001b[0m\u001b[1;33m(\u001b[0m\u001b[0myx\u001b[0m\u001b[1;33m,\u001b[0m\u001b[0mx2\u001b[0m\u001b[1;33m)\u001b[0m\u001b[1;33m.\u001b[0m\u001b[0mfit\u001b[0m\u001b[1;33m(\u001b[0m\u001b[1;33m)\u001b[0m\u001b[1;33m\u001b[0m\u001b[1;33m\u001b[0m\u001b[0m\n\u001b[0;32m      6\u001b[0m \u001b[0mresults3\u001b[0m\u001b[1;33m.\u001b[0m\u001b[0msummary\u001b[0m\u001b[1;33m(\u001b[0m\u001b[1;33m)\u001b[0m\u001b[1;33m\u001b[0m\u001b[1;33m\u001b[0m\u001b[0m\n",
      "\u001b[1;31mNameError\u001b[0m: name 'x' is not defined"
     ]
    }
   ],
   "source": [
    "# Regression SPX return and PMI Change\n",
    "yx = Overview_df['Adjusted Close']\n",
    "x2 = Overview_df['% Change IP']\n",
    "x = x = sm.add_constant(x)\n",
    "results3 = sm. OLS(yx,x2).fit()\n",
    "results3.summary()"
   ]
  },
  {
   "cell_type": "code",
   "execution_count": 24,
   "metadata": {},
   "outputs": [
    {
     "data": {
      "image/png": "[encoded data removed]",
      "text/plain": [
       "<Figure size 360x360 with 1 Axes>"
      ]
     },
     "metadata": {
      "needs_background": "light"
     },
     "output_type": "display_data"
    }
   ],
   "source": [
    "sns.lmplot(y=\"Adjusted Close\", x=\"% Change IP\", data=Overview);"
   ]
  },
  {
   "cell_type": "code",
   "execution_count": 23,
   "metadata": {},
   "outputs": [
    {
     "data": {
      "text/plain": [
       "[<matplotlib.lines.Line2D at 0x1a3fbd442b0>]"
      ]
     },
     "execution_count": 23,
     "metadata": {},
     "output_type": "execute_result"
    },
    {
     "data": {
      "image/png": "[encoded data removed]",
      "text/plain": [
       "<Figure size 288x288 with 1 Axes>"
      ]
     },
     "metadata": {
      "needs_background": "light"
     },
     "output_type": "display_data"
    }
   ],
   "source": [
    "reg = np.polyfit(Overview['Adjusted Close'], Overview['% Change IP'], deg=1)\n",
    "ax = Overview.plot(kind='scatter', y='Adjusted Close', x='% Change IP', figsize=(4, 4))\n",
    "ax.plot(Overview['Adjusted Close'], np.polyval(reg, Overview['Adjusted Close']), 'r', lw=1\n",
    "    )"
   ]
  },
  {
   "cell_type": "code",
   "execution_count": 17,
   "metadata": {},
   "outputs": [
    {
     "data": {
      "text/plain": [
       "Text(0, 0.5, '% Change IP')"
      ]
     },
     "execution_count": 17,
     "metadata": {},
     "output_type": "execute_result"
    },
    {
     "data": {
      "image/png": "[encoded data removed]",
      "text/plain": [
       "<Figure size 432x288 with 1 Axes>"
      ]
     },
     "metadata": {
      "needs_background": "light"
     },
     "output_type": "display_data"
    }
   ],
   "source": [
    "x = Overview[['Adjusted Close']]\n",
    "y = Overview[['% Change IP']]\n",
    "\n",
    "regressor = LinearRegression()\n",
    "regressor.fit(x, y)\n",
    "y_pred = regressor.predict(x)\n",
    "\n",
    "plt.scatter(x, y, color = 'red')\n",
    "plt.plot(x, regressor.predict(x), color = 'blue')\n",
    "plt.xlabel('Adjusted Close')\n",
    "plt.ylabel('% Change IP')\n"
   ]
  },
  {
   "cell_type": "code",
   "execution_count": 29,
   "metadata": {},
   "outputs": [
    {
     "data": {
      "text/html": [
       "<div>\n",
       "<style scoped>\n",
       "    .dataframe tbody tr th:only-of-type {\n",
       "        vertical-align: middle;\n",
       "    }\n",
       "\n",
       "    .dataframe tbody tr th {\n",
       "        vertical-align: top;\n",
       "    }\n",
       "\n",
       "    .dataframe thead th {\n",
       "        text-align: right;\n",
       "    }\n",
       "</style>\n",
       "<table border=\"1\" class=\"dataframe\">\n",
       "  <thead>\n",
       "    <tr style=\"text-align: right;\">\n",
       "      <th></th>\n",
       "      <th>Adjusted Close</th>\n",
       "      <th>% Change IP</th>\n",
       "    </tr>\n",
       "  </thead>\n",
       "  <tbody>\n",
       "    <tr>\n",
       "      <th>Adjusted Close</th>\n",
       "      <td>1.000000</td>\n",
       "      <td>-0.036264</td>\n",
       "    </tr>\n",
       "    <tr>\n",
       "      <th>% Change IP</th>\n",
       "      <td>-0.036264</td>\n",
       "      <td>1.000000</td>\n",
       "    </tr>\n",
       "  </tbody>\n",
       "</table>\n",
       "</div>"
      ],
      "text/plain": [
       "                Adjusted Close  % Change IP\n",
       "Adjusted Close        1.000000    -0.036264\n",
       "% Change IP          -0.036264     1.000000"
      ]
     },
     "execution_count": 29,
     "metadata": {},
     "output_type": "execute_result"
    }
   ],
   "source": [
    "# Compute Correlation between PMI Change and SPX monthly retunrs\n",
    "Overview.corr()"
   ]
  },
  {
   "cell_type": "code",
   "execution_count": null,
   "metadata": {},
   "outputs": [],
   "source": [
    "Overview2\n"
   ]
  },
  {
   "cell_type": "code",
   "execution_count": 12,
   "metadata": {},
   "outputs": [
    {
     "ename": "KeyError",
     "evalue": "'PMI'",
     "output_type": "error",
     "traceback": [
      "\u001b[1;31m---------------------------------------------------------------------------\u001b[0m",
      "\u001b[1;31mKeyError\u001b[0m                                  Traceback (most recent call last)",
      "\u001b[1;32m~\\anaconda3\\lib\\site-packages\\pandas\\core\\indexes\\base.py\u001b[0m in \u001b[0;36mget_loc\u001b[1;34m(self, key, method, tolerance)\u001b[0m\n\u001b[0;32m   2894\u001b[0m             \u001b[1;32mtry\u001b[0m\u001b[1;33m:\u001b[0m\u001b[1;33m\u001b[0m\u001b[1;33m\u001b[0m\u001b[0m\n\u001b[1;32m-> 2895\u001b[1;33m                 \u001b[1;32mreturn\u001b[0m \u001b[0mself\u001b[0m\u001b[1;33m.\u001b[0m\u001b[0m_engine\u001b[0m\u001b[1;33m.\u001b[0m\u001b[0mget_loc\u001b[0m\u001b[1;33m(\u001b[0m\u001b[0mcasted_key\u001b[0m\u001b[1;33m)\u001b[0m\u001b[1;33m\u001b[0m\u001b[1;33m\u001b[0m\u001b[0m\n\u001b[0m\u001b[0;32m   2896\u001b[0m             \u001b[1;32mexcept\u001b[0m \u001b[0mKeyError\u001b[0m \u001b[1;32mas\u001b[0m \u001b[0merr\u001b[0m\u001b[1;33m:\u001b[0m\u001b[1;33m\u001b[0m\u001b[1;33m\u001b[0m\u001b[0m\n",
      "\u001b[1;32mpandas\\_libs\\index.pyx\u001b[0m in \u001b[0;36mpandas._libs.index.IndexEngine.get_loc\u001b[1;34m()\u001b[0m\n",
      "\u001b[1;32mpandas\\_libs\\index.pyx\u001b[0m in \u001b[0;36mpandas._libs.index.IndexEngine.get_loc\u001b[1;34m()\u001b[0m\n",
      "\u001b[1;32mpandas\\_libs\\hashtable_class_helper.pxi\u001b[0m in \u001b[0;36mpandas._libs.hashtable.PyObjectHashTable.get_item\u001b[1;34m()\u001b[0m\n",
      "\u001b[1;32mpandas\\_libs\\hashtable_class_helper.pxi\u001b[0m in \u001b[0;36mpandas._libs.hashtable.PyObjectHashTable.get_item\u001b[1;34m()\u001b[0m\n",
      "\u001b[1;31mKeyError\u001b[0m: 'PMI'",
      "\nThe above exception was the direct cause of the following exception:\n",
      "\u001b[1;31mKeyError\u001b[0m                                  Traceback (most recent call last)",
      "\u001b[1;32m<ipython-input-12-3071c8876ec4>\u001b[0m in \u001b[0;36m<module>\u001b[1;34m\u001b[0m\n\u001b[0;32m      1\u001b[0m \u001b[1;31m# derive SPX returns from PMI 45-50, if PMI is increasing\u001b[0m\u001b[1;33m\u001b[0m\u001b[1;33m\u001b[0m\u001b[1;33m\u001b[0m\u001b[0m\n\u001b[1;32m----> 2\u001b[1;33m \u001b[0mOV45_50_pos\u001b[0m \u001b[1;33m=\u001b[0m \u001b[0mOverview2\u001b[0m\u001b[1;33m[\u001b[0m\u001b[0mOverview2\u001b[0m\u001b[1;33m[\u001b[0m\u001b[1;34m'PMI'\u001b[0m\u001b[1;33m]\u001b[0m\u001b[1;33m.\u001b[0m\u001b[0mbetween\u001b[0m\u001b[1;33m(\u001b[0m\u001b[1;36m45\u001b[0m\u001b[1;33m,\u001b[0m\u001b[1;36m50\u001b[0m\u001b[1;33m)\u001b[0m\u001b[1;33m]\u001b[0m\u001b[1;33m\u001b[0m\u001b[1;33m\u001b[0m\u001b[0m\n\u001b[0m\u001b[0;32m      3\u001b[0m \u001b[0mOV45_50_pos\u001b[0m \u001b[1;33m=\u001b[0m \u001b[0mOV45_50_pos\u001b[0m\u001b[1;33m[\u001b[0m\u001b[0mOV45_50_pos\u001b[0m\u001b[1;33m[\u001b[0m\u001b[1;34m'% Change IP'\u001b[0m\u001b[1;33m]\u001b[0m \u001b[1;33m>\u001b[0m \u001b[1;36m0\u001b[0m\u001b[1;33m]\u001b[0m\u001b[1;33m\u001b[0m\u001b[1;33m\u001b[0m\u001b[0m\n\u001b[0;32m      4\u001b[0m \u001b[1;33m\u001b[0m\u001b[0m\n\u001b[0;32m      5\u001b[0m \u001b[0mOV45_50_pos\u001b[0m\u001b[1;33m.\u001b[0m\u001b[0mhead\u001b[0m\u001b[1;33m(\u001b[0m\u001b[1;33m)\u001b[0m\u001b[1;33m\u001b[0m\u001b[1;33m\u001b[0m\u001b[0m\n",
      "\u001b[1;32m~\\anaconda3\\lib\\site-packages\\pandas\\core\\frame.py\u001b[0m in \u001b[0;36m__getitem__\u001b[1;34m(self, key)\u001b[0m\n\u001b[0;32m   2900\u001b[0m             \u001b[1;32mif\u001b[0m \u001b[0mself\u001b[0m\u001b[1;33m.\u001b[0m\u001b[0mcolumns\u001b[0m\u001b[1;33m.\u001b[0m\u001b[0mnlevels\u001b[0m \u001b[1;33m>\u001b[0m \u001b[1;36m1\u001b[0m\u001b[1;33m:\u001b[0m\u001b[1;33m\u001b[0m\u001b[1;33m\u001b[0m\u001b[0m\n\u001b[0;32m   2901\u001b[0m                 \u001b[1;32mreturn\u001b[0m \u001b[0mself\u001b[0m\u001b[1;33m.\u001b[0m\u001b[0m_getitem_multilevel\u001b[0m\u001b[1;33m(\u001b[0m\u001b[0mkey\u001b[0m\u001b[1;33m)\u001b[0m\u001b[1;33m\u001b[0m\u001b[1;33m\u001b[0m\u001b[0m\n\u001b[1;32m-> 2902\u001b[1;33m             \u001b[0mindexer\u001b[0m \u001b[1;33m=\u001b[0m \u001b[0mself\u001b[0m\u001b[1;33m.\u001b[0m\u001b[0mcolumns\u001b[0m\u001b[1;33m.\u001b[0m\u001b[0mget_loc\u001b[0m\u001b[1;33m(\u001b[0m\u001b[0mkey\u001b[0m\u001b[1;33m)\u001b[0m\u001b[1;33m\u001b[0m\u001b[1;33m\u001b[0m\u001b[0m\n\u001b[0m\u001b[0;32m   2903\u001b[0m             \u001b[1;32mif\u001b[0m \u001b[0mis_integer\u001b[0m\u001b[1;33m(\u001b[0m\u001b[0mindexer\u001b[0m\u001b[1;33m)\u001b[0m\u001b[1;33m:\u001b[0m\u001b[1;33m\u001b[0m\u001b[1;33m\u001b[0m\u001b[0m\n\u001b[0;32m   2904\u001b[0m                 \u001b[0mindexer\u001b[0m \u001b[1;33m=\u001b[0m \u001b[1;33m[\u001b[0m\u001b[0mindexer\u001b[0m\u001b[1;33m]\u001b[0m\u001b[1;33m\u001b[0m\u001b[1;33m\u001b[0m\u001b[0m\n",
      "\u001b[1;32m~\\anaconda3\\lib\\site-packages\\pandas\\core\\indexes\\base.py\u001b[0m in \u001b[0;36mget_loc\u001b[1;34m(self, key, method, tolerance)\u001b[0m\n\u001b[0;32m   2895\u001b[0m                 \u001b[1;32mreturn\u001b[0m \u001b[0mself\u001b[0m\u001b[1;33m.\u001b[0m\u001b[0m_engine\u001b[0m\u001b[1;33m.\u001b[0m\u001b[0mget_loc\u001b[0m\u001b[1;33m(\u001b[0m\u001b[0mcasted_key\u001b[0m\u001b[1;33m)\u001b[0m\u001b[1;33m\u001b[0m\u001b[1;33m\u001b[0m\u001b[0m\n\u001b[0;32m   2896\u001b[0m             \u001b[1;32mexcept\u001b[0m \u001b[0mKeyError\u001b[0m \u001b[1;32mas\u001b[0m \u001b[0merr\u001b[0m\u001b[1;33m:\u001b[0m\u001b[1;33m\u001b[0m\u001b[1;33m\u001b[0m\u001b[0m\n\u001b[1;32m-> 2897\u001b[1;33m                 \u001b[1;32mraise\u001b[0m \u001b[0mKeyError\u001b[0m\u001b[1;33m(\u001b[0m\u001b[0mkey\u001b[0m\u001b[1;33m)\u001b[0m \u001b[1;32mfrom\u001b[0m \u001b[0merr\u001b[0m\u001b[1;33m\u001b[0m\u001b[1;33m\u001b[0m\u001b[0m\n\u001b[0m\u001b[0;32m   2898\u001b[0m \u001b[1;33m\u001b[0m\u001b[0m\n\u001b[0;32m   2899\u001b[0m         \u001b[1;32mif\u001b[0m \u001b[0mtolerance\u001b[0m \u001b[1;32mis\u001b[0m \u001b[1;32mnot\u001b[0m \u001b[1;32mNone\u001b[0m\u001b[1;33m:\u001b[0m\u001b[1;33m\u001b[0m\u001b[1;33m\u001b[0m\u001b[0m\n",
      "\u001b[1;31mKeyError\u001b[0m: 'PMI'"
     ]
    }
   ],
   "source": [
    "# derive SPX returns from PMI 45-50, if PMI is increasing\n",
    "OV45_50_pos = Overview2[Overview2['PMI'].between(45,50)]\n",
    "OV45_50_pos = OV45_50_pos[OV45_50_pos['% Change IP'] > 0]\n",
    "\n",
    "OV45_50_pos.head()\n",
    "return45_50_pos = OV45_50_pos.loc[:,'Adjusted Close']\n",
    "return45_50_pos.mean()\n",
    "\n",
    "return45_50_pos.mean()\n"
   ]
  },
  {
   "cell_type": "code",
   "execution_count": null,
   "metadata": {},
   "outputs": [],
   "source": [
    "# derive SPX returns from PMI 45-50, if PMI is decreasing\n",
    "OV45_50_neg = Overview2[Overview2['PMI'].between(45,50)]\n",
    "OV45_50_neg = OV45_50_neg[OV45_50_neg['% Change PMI'] < 0]\n",
    "\n",
    "return45_50_neg = OV45_50_neg.loc[:,'Adjusted Close']\n",
    "return45_50_neg.mean()"
   ]
  },
  {
   "cell_type": "code",
   "execution_count": null,
   "metadata": {},
   "outputs": [],
   "source": [
    "# derive SPX returns from PMI 40-45, if PMI is increasing\n",
    "OV40_45_pos = Overview2[Overview2['PMI'].between(40,45)]\n",
    "OV40_45_pos = OV40_45_pos[OV40_45_pos['% Change PMI'] > 0]\n",
    "\n",
    "return40_45_pos = OV40_45_pos.loc[:,'Adjusted Close']\n",
    "\n",
    "\n",
    "return\n",
    "\n"
   ]
  },
  {
   "cell_type": "code",
   "execution_count": null,
   "metadata": {},
   "outputs": [],
   "source": [
    "# derive SPX returns from PMI 40-45, if PMI is decreasing\n",
    "OV40_45_neg = Overview2[Overview2['PMI'].between(40,45)]\n",
    "OV40_45_neg = OV40_45_neg[OV40_45_neg['% Change PMI'] < 0]\n",
    "\n",
    "return40_45_neg = OV40_45_neg.loc[:,'Adjusted Close']\n",
    "return40_45_neg.mean()"
   ]
  },
  {
   "cell_type": "code",
   "execution_count": null,
   "metadata": {},
   "outputs": [],
   "source": [
    "# derive SPX returns from PMI 50-55, if PMI is increasing\n",
    "\n",
    "OV50_55_pos = Overview2[Overview2['PMI'].between(50,55)]\n",
    "OV50_55_pos = OV50_55_pos[OV50_55_pos['% Change PMI'] > 0]\n",
    "\n",
    "return50_55_pos = OV50_55_pos.loc[:,'Adjusted Close']\n",
    "return50_55_pos.mean()\n",
    "\n",
    "# result of 0.77% correct, double checked with excel\n"
   ]
  },
  {
   "cell_type": "code",
   "execution_count": null,
   "metadata": {},
   "outputs": [],
   "source": [
    "# derive SPX returns from PMI 50-55, if PMI is decreasing\n",
    "\n",
    "OV50_55_neg = Overview2[Overview2['PMI'].between(50,55)]\n",
    "OV50_55_neg = OV50_55_neg[OV50_55_neg['% Change PMI'] < 0]\n",
    "\n",
    "return50_55_neg = OV50_55_neg.loc[:,'Adjusted Close']\n",
    "return50_55_neg.mean()"
   ]
  },
  {
   "cell_type": "code",
   "execution_count": null,
   "metadata": {},
   "outputs": [],
   "source": [
    "# derive SPX returns from PMI 55-60, if PMI is increasing\n",
    "\n",
    "OV55_60_pos = Overview2[Overview2['PMI'].between(55,60)]\n",
    "OV55_60_pos = OV55_60_pos[OV55_60_pos['% Change PMI'] > 0]\n",
    "\n",
    "return55_60_pos = OV55_60_pos.loc[:,'Adjusted Close']\n",
    "\n",
    "return55_60_pos.mean()\n",
    "\n"
   ]
  },
  {
   "cell_type": "code",
   "execution_count": null,
   "metadata": {},
   "outputs": [],
   "source": [
    "# derive SPX returns from PMI 55-60, if PMI is decreasing\n",
    "\n",
    "OV55_60_neg = Overview2[Overview2['PMI'].between(55,60)]\n",
    "OV55_60_neg = OV55_60_neg[OV55_60_neg['% Change PMI'] < 0]\n",
    "\n",
    "return55_60_neg = OV55_60_neg.loc[:,'Adjusted Close']\n",
    "\n",
    "return55_60_neg.mean()"
   ]
  },
  {
   "cell_type": "code",
   "execution_count": null,
   "metadata": {},
   "outputs": [],
   "source": [
    "# derive SPX returns from PMI below 50, if PMI is increasing\n",
    "OV0_50_pos = Overview2[Overview2['PMI'].between(0,50)]\n",
    "OV0_50_pos = OV0_50_pos[OV0_50_pos['% Change PMI'] > 0]\n",
    "\n",
    "return0_50_pos = OV0_50_pos.loc[:,'Adjusted Close']\n",
    "\n",
    "return0_50_pos.mean()\n",
    "\n"
   ]
  },
  {
   "cell_type": "code",
   "execution_count": null,
   "metadata": {},
   "outputs": [],
   "source": [
    "# derive SPX returns from PMI below 50, if PMI is decreasing\n",
    "\n",
    "OV0_50_neg = Overview2[Overview2['PMI'].between(0,50)]\n",
    "OV0_50_neg = OV0_50_neg[OV0_50_neg['% Change PMI'] < 0]\n",
    "\n",
    "return0_50_neg = OV0_50_neg.loc[:,'Adjusted Close']\n",
    "return0_50_neg.mean()\n"
   ]
  },
  {
   "cell_type": "code",
   "execution_count": null,
   "metadata": {},
   "outputs": [],
   "source": [
    "# derive SPX returns from PMI above 50, if PMI is increasing\n",
    "\n",
    "OV50_100_pos = Overview2[Overview2['PMI'].between(50,100)]\n",
    "OV50_100_pos = OV50_100_pos[OV50_100_pos['% Change PMI'] > 0]\n",
    "\n",
    "return50_100_pos = OV50_100_pos.loc[:,'Adjusted Close']\n",
    "return50_100_pos.mean()"
   ]
  },
  {
   "cell_type": "code",
   "execution_count": null,
   "metadata": {},
   "outputs": [],
   "source": [
    "# derive SPX returns from PMI above 50, if PMI is decreasing\n",
    "\n",
    "OV50_100_neg = Overview2[Overview2['PMI'].between(50,100)]\n",
    "OV50_100_neg = OV50_100_neg[OV50_100_neg['% Change PMI'] < 0]\n",
    "\n",
    "return50_100_neg = OV50_100_neg.loc[:,'Adjusted Close']\n",
    "return50_100_neg.mean()"
   ]
  },
  {
   "cell_type": "code",
   "execution_count": null,
   "metadata": {},
   "outputs": [],
   "source": [
    "# Now, use IP Change as controll varible to see impact"
   ]
  },
  {
   "cell_type": "code",
   "execution_count": null,
   "metadata": {},
   "outputs": [],
   "source": [
    "IP_Change = pd.read_excel('IP Change.xlsx', index_col='Date')\n",
    "IP_Change"
   ]
  },
  {
   "cell_type": "code",
   "execution_count": null,
   "metadata": {},
   "outputs": [],
   "source": [
    "# Prepare PMI Change +/- for dummy\n",
    "PMI_pos = Overview2[Overview2['% Change PMI'] > 0]\n",
    "PMI_pos = PMI_pos.loc[:,['% Change PMI']]\n",
    "PMI_pos\n",
    "\n",
    "PMI_neg = Overview2[Overview2['% Change PMI'] < 0], rename=PMI_neg\n",
    "PMI_neg = PMI_neg.loc[:,['% Change PMI']]\n",
    "PMI_neg"
   ]
  },
  {
   "cell_type": "code",
   "execution_count": null,
   "metadata": {},
   "outputs": [],
   "source": [
    "# Merge SPX Performance / PMI Change and IP Change\n",
    "Overview3 = pd.concat([df_Performance,data1,IP_Change], axis=1)\n",
    "Overview3 = Overview3.dropna()\n"
   ]
  },
  {
   "cell_type": "code",
   "execution_count": null,
   "metadata": {},
   "outputs": [],
   "source": [
    "print(Overview3)\n"
   ]
  },
  {
   "cell_type": "code",
   "execution_count": null,
   "metadata": {},
   "outputs": [],
   "source": [
    "\n"
   ]
  },
  {
   "cell_type": "code",
   "execution_count": null,
   "metadata": {},
   "outputs": [],
   "source": [
    "# Create dummy for PMI Change where 1 is rising PMI and 0 decreasing PMI\n",
    "pd.get_dummies\n",
    "Overview3['dummy'] = 0\n",
    "for i in range(0,len(Overview3)): \n",
    "    if Overview3[\"% Change PMI\"][i] > 0:\n",
    "        Overview3['dummy'][i] = 1\n",
    "        \n",
    "        \n",
    "        \n",
    "        \n",
    "print(Overview3)\n",
    "\n"
   ]
  },
  {
   "cell_type": "code",
   "execution_count": null,
   "metadata": {},
   "outputs": [],
   "source": [
    "PMI_dummy = Overview3['dummy']\n",
    "PMI_dummy"
   ]
  },
  {
   "cell_type": "code",
   "execution_count": null,
   "metadata": {},
   "outputs": [],
   "source": [
    "Overview4 = pd.concat([df_Performance,data1,IP_Change,PMI_dummy], axis=1)\n",
    "Overview4 = Overview4.dropna()\n",
    "print(Overview4)\n"
   ]
  },
  {
   "cell_type": "code",
   "execution_count": null,
   "metadata": {},
   "outputs": [],
   "source": [
    "\n",
    "y = Overview4['Adjusted Close']\n",
    "x1 = Overview4[['% Change IP','dummy']]\n",
    "x = x = sm.add_constant(x1)\n",
    "results2 = sm. OLS(y,x).fit()\n",
    "results2.summary()"
   ]
  },
  {
   "cell_type": "code",
   "execution_count": null,
   "metadata": {},
   "outputs": [],
   "source": []
  },
  {
   "cell_type": "code",
   "execution_count": null,
   "metadata": {},
   "outputs": [],
   "source": [
    "Overview4.describe()"
   ]
  }
 ],
 "metadata": {
  "kernelspec": {
   "display_name": "Python 3",
   "language": "python",
   "name": "python3"
  },
  "language_info": {
   "codemirror_mode": {
    "name": "ipython",
    "version": 3
   },
   "file_extension": ".py",
   "mimetype": "text/x-python",
   "name": "python",
   "nbconvert_exporter": "python",
   "pygments_lexer": "ipython3",
   "version": "3.8.5"
  }
 },
 "nbformat": 4,
 "nbformat_minor": 4
}
