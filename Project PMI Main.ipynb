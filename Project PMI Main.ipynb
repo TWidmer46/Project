{
 "cells": [
  {
   "cell_type": "code",
   "execution_count": 39,
   "metadata": {},
   "outputs": [],
   "source": [
    "import numpy, pandas, quandl"
   ]
  },
  {
   "cell_type": "code",
   "execution_count": 75,
   "metadata": {},
   "outputs": [],
   "source": [
    "import numpy as np \n",
    "import pandas as pd\n",
    "import quandl\n",
    "from pylab import mpl, plt\n",
    "plt.style.use('seaborn')\n",
    "%matplotlib inline\n",
    "import pandas_datareader.data as web\n",
    "import datetime\n",
    "import statsmodels.api as sm\n",
    "import seaborn as sns\n",
    "from sklearn.linear_model import LinearRegression\n",
    "from pandas import Series, DataFrame\n",
    "import statsmodels.formula.api as smf\n",
    "\n",
    "quandl.ApiConfig.api_key = \"pTygJpdkhxBLRczvBgTp\"\n"
   ]
  },
  {
   "cell_type": "code",
   "execution_count": 76,
   "metadata": {},
   "outputs": [
    {
     "data": {
      "text/html": [
       "<div>\n",
       "<style scoped>\n",
       "    .dataframe tbody tr th:only-of-type {\n",
       "        vertical-align: middle;\n",
       "    }\n",
       "\n",
       "    .dataframe tbody tr th {\n",
       "        vertical-align: top;\n",
       "    }\n",
       "\n",
       "    .dataframe thead th {\n",
       "        text-align: right;\n",
       "    }\n",
       "</style>\n",
       "<table border=\"1\" class=\"dataframe\">\n",
       "  <thead>\n",
       "    <tr style=\"text-align: right;\">\n",
       "      <th></th>\n",
       "      <th>Adjusted Close</th>\n",
       "      <th>% Change</th>\n",
       "    </tr>\n",
       "    <tr>\n",
       "      <th>Date</th>\n",
       "      <th></th>\n",
       "      <th></th>\n",
       "    </tr>\n",
       "  </thead>\n",
       "  <tbody>\n",
       "    <tr>\n",
       "      <th>1970-01-30</th>\n",
       "      <td>85.02</td>\n",
       "      <td>-7.647187</td>\n",
       "    </tr>\n",
       "    <tr>\n",
       "      <th>1970-02-27</th>\n",
       "      <td>89.50</td>\n",
       "      <td>5.269348</td>\n",
       "    </tr>\n",
       "    <tr>\n",
       "      <th>1970-03-31</th>\n",
       "      <td>89.63</td>\n",
       "      <td>0.145251</td>\n",
       "    </tr>\n",
       "    <tr>\n",
       "      <th>1970-04-30</th>\n",
       "      <td>81.52</td>\n",
       "      <td>-9.048310</td>\n",
       "    </tr>\n",
       "    <tr>\n",
       "      <th>1970-05-29</th>\n",
       "      <td>76.55</td>\n",
       "      <td>-6.096663</td>\n",
       "    </tr>\n",
       "    <tr>\n",
       "      <th>...</th>\n",
       "      <td>...</td>\n",
       "      <td>...</td>\n",
       "    </tr>\n",
       "    <tr>\n",
       "      <th>2020-08-31</th>\n",
       "      <td>3500.31</td>\n",
       "      <td>7.006469</td>\n",
       "    </tr>\n",
       "    <tr>\n",
       "      <th>2020-09-30</th>\n",
       "      <td>3363.00</td>\n",
       "      <td>-3.922795</td>\n",
       "    </tr>\n",
       "    <tr>\n",
       "      <th>2020-10-30</th>\n",
       "      <td>3269.96</td>\n",
       "      <td>-2.766577</td>\n",
       "    </tr>\n",
       "    <tr>\n",
       "      <th>2020-11-30</th>\n",
       "      <td>3621.63</td>\n",
       "      <td>10.754566</td>\n",
       "    </tr>\n",
       "    <tr>\n",
       "      <th>2020-12-31</th>\n",
       "      <td>3756.07</td>\n",
       "      <td>3.712141</td>\n",
       "    </tr>\n",
       "  </tbody>\n",
       "</table>\n",
       "<p>612 rows × 2 columns</p>\n",
       "</div>"
      ],
      "text/plain": [
       "            Adjusted Close   % Change\n",
       "Date                                 \n",
       "1970-01-30           85.02  -7.647187\n",
       "1970-02-27           89.50   5.269348\n",
       "1970-03-31           89.63   0.145251\n",
       "1970-04-30           81.52  -9.048310\n",
       "1970-05-29           76.55  -6.096663\n",
       "...                    ...        ...\n",
       "2020-08-31         3500.31   7.006469\n",
       "2020-09-30         3363.00  -3.922795\n",
       "2020-10-30         3269.96  -2.766577\n",
       "2020-11-30         3621.63  10.754566\n",
       "2020-12-31         3756.07   3.712141\n",
       "\n",
       "[612 rows x 2 columns]"
      ]
     },
     "execution_count": 76,
     "metadata": {},
     "output_type": "execute_result"
    }
   ],
   "source": [
    "# import S&P 500 Prices and % Change from Excel \n",
    "names= ['Date','Adjusted Close', '% Change']\n",
    "df = pd.read_excel('SP500 Prices.xlsx', names=['Date','Adjusted Close','% Change'])\n",
    "df.head()\n",
    "\n",
    "\n",
    "df = pd.read_excel('SP500 Prices.xlsx', names=names, index_col='Date')\n",
    "df.head()\n",
    "\n",
    "\n",
    "\n",
    "\n",
    "df\n",
    "\n",
    "\n"
   ]
  },
  {
   "cell_type": "code",
   "execution_count": 77,
   "metadata": {},
   "outputs": [
    {
     "data": {
      "text/html": [
       "<div>\n",
       "<style scoped>\n",
       "    .dataframe tbody tr th:only-of-type {\n",
       "        vertical-align: middle;\n",
       "    }\n",
       "\n",
       "    .dataframe tbody tr th {\n",
       "        vertical-align: top;\n",
       "    }\n",
       "\n",
       "    .dataframe thead th {\n",
       "        text-align: right;\n",
       "    }\n",
       "</style>\n",
       "<table border=\"1\" class=\"dataframe\">\n",
       "  <thead>\n",
       "    <tr style=\"text-align: right;\">\n",
       "      <th></th>\n",
       "      <th>PMI</th>\n",
       "    </tr>\n",
       "    <tr>\n",
       "      <th>Date</th>\n",
       "      <th></th>\n",
       "    </tr>\n",
       "  </thead>\n",
       "  <tbody>\n",
       "    <tr>\n",
       "      <th>1970-01-30</th>\n",
       "      <td>48.7</td>\n",
       "    </tr>\n",
       "    <tr>\n",
       "      <th>1970-02-27</th>\n",
       "      <td>47.4</td>\n",
       "    </tr>\n",
       "    <tr>\n",
       "      <th>1970-03-31</th>\n",
       "      <td>46.9</td>\n",
       "    </tr>\n",
       "    <tr>\n",
       "      <th>1970-04-30</th>\n",
       "      <td>45.0</td>\n",
       "    </tr>\n",
       "    <tr>\n",
       "      <th>1970-05-29</th>\n",
       "      <td>47.2</td>\n",
       "    </tr>\n",
       "  </tbody>\n",
       "</table>\n",
       "</div>"
      ],
      "text/plain": [
       "             PMI\n",
       "Date            \n",
       "1970-01-30  48.7\n",
       "1970-02-27  47.4\n",
       "1970-03-31  46.9\n",
       "1970-04-30  45.0\n",
       "1970-05-29  47.2"
      ]
     },
     "execution_count": 77,
     "metadata": {},
     "output_type": "execute_result"
    }
   ],
   "source": [
    "# import ISM PMI from Eccel\n",
    "names= ['Date','PMI', 'Change PMI']\n",
    "data = pd.read_excel('PMI_monthly.xlsx', names=names, index_col='Date')\n",
    "data.head()\n",
    "\n",
    "\n",
    "data = data.loc[:,['PMI']]\n",
    "data.head()\n"
   ]
  },
  {
   "cell_type": "code",
   "execution_count": 78,
   "metadata": {},
   "outputs": [
    {
     "data": {
      "text/html": [
       "<div>\n",
       "<style scoped>\n",
       "    .dataframe tbody tr th:only-of-type {\n",
       "        vertical-align: middle;\n",
       "    }\n",
       "\n",
       "    .dataframe tbody tr th {\n",
       "        vertical-align: top;\n",
       "    }\n",
       "\n",
       "    .dataframe thead th {\n",
       "        text-align: right;\n",
       "    }\n",
       "</style>\n",
       "<table border=\"1\" class=\"dataframe\">\n",
       "  <thead>\n",
       "    <tr style=\"text-align: right;\">\n",
       "      <th></th>\n",
       "      <th>% Change PMI</th>\n",
       "    </tr>\n",
       "    <tr>\n",
       "      <th>Date</th>\n",
       "      <th></th>\n",
       "    </tr>\n",
       "  </thead>\n",
       "  <tbody>\n",
       "    <tr>\n",
       "      <th>2020-08-31</th>\n",
       "      <td>0.035382</td>\n",
       "    </tr>\n",
       "    <tr>\n",
       "      <th>2020-09-30</th>\n",
       "      <td>0.001799</td>\n",
       "    </tr>\n",
       "    <tr>\n",
       "      <th>2020-10-30</th>\n",
       "      <td>0.055655</td>\n",
       "    </tr>\n",
       "    <tr>\n",
       "      <th>2020-11-30</th>\n",
       "      <td>-0.018707</td>\n",
       "    </tr>\n",
       "    <tr>\n",
       "      <th>2020-12-31</th>\n",
       "      <td>0.048527</td>\n",
       "    </tr>\n",
       "  </tbody>\n",
       "</table>\n",
       "</div>"
      ],
      "text/plain": [
       "            % Change PMI\n",
       "Date                    \n",
       "2020-08-31      0.035382\n",
       "2020-09-30      0.001799\n",
       "2020-10-30      0.055655\n",
       "2020-11-30     -0.018707\n",
       "2020-12-31      0.048527"
      ]
     },
     "execution_count": 78,
     "metadata": {},
     "output_type": "execute_result"
    }
   ],
   "source": [
    "# calculate monthly percentage change of PMI\n",
    "data1 = data.pct_change()\n",
    "data1\n",
    "\n",
    "data1 = data1.rename(columns ={\"PMI\":\"% Change PMI\"})\n",
    "data1.tail()"
   ]
  },
  {
   "cell_type": "code",
   "execution_count": 79,
   "metadata": {
    "scrolled": true
   },
   "outputs": [
    {
     "data": {
      "text/html": [
       "<div>\n",
       "<style scoped>\n",
       "    .dataframe tbody tr th:only-of-type {\n",
       "        vertical-align: middle;\n",
       "    }\n",
       "\n",
       "    .dataframe tbody tr th {\n",
       "        vertical-align: top;\n",
       "    }\n",
       "\n",
       "    .dataframe thead th {\n",
       "        text-align: right;\n",
       "    }\n",
       "</style>\n",
       "<table border=\"1\" class=\"dataframe\">\n",
       "  <thead>\n",
       "    <tr style=\"text-align: right;\">\n",
       "      <th></th>\n",
       "      <th>Adjusted Close</th>\n",
       "    </tr>\n",
       "    <tr>\n",
       "      <th>Date</th>\n",
       "      <th></th>\n",
       "    </tr>\n",
       "  </thead>\n",
       "  <tbody>\n",
       "    <tr>\n",
       "      <th>1970-01-30</th>\n",
       "      <td>85.02</td>\n",
       "    </tr>\n",
       "    <tr>\n",
       "      <th>1970-02-27</th>\n",
       "      <td>89.50</td>\n",
       "    </tr>\n",
       "    <tr>\n",
       "      <th>1970-03-31</th>\n",
       "      <td>89.63</td>\n",
       "    </tr>\n",
       "    <tr>\n",
       "      <th>1970-04-30</th>\n",
       "      <td>81.52</td>\n",
       "    </tr>\n",
       "    <tr>\n",
       "      <th>1970-05-29</th>\n",
       "      <td>76.55</td>\n",
       "    </tr>\n",
       "    <tr>\n",
       "      <th>...</th>\n",
       "      <td>...</td>\n",
       "    </tr>\n",
       "    <tr>\n",
       "      <th>2020-08-31</th>\n",
       "      <td>3500.31</td>\n",
       "    </tr>\n",
       "    <tr>\n",
       "      <th>2020-09-30</th>\n",
       "      <td>3363.00</td>\n",
       "    </tr>\n",
       "    <tr>\n",
       "      <th>2020-10-30</th>\n",
       "      <td>3269.96</td>\n",
       "    </tr>\n",
       "    <tr>\n",
       "      <th>2020-11-30</th>\n",
       "      <td>3621.63</td>\n",
       "    </tr>\n",
       "    <tr>\n",
       "      <th>2020-12-31</th>\n",
       "      <td>3756.07</td>\n",
       "    </tr>\n",
       "  </tbody>\n",
       "</table>\n",
       "<p>612 rows × 1 columns</p>\n",
       "</div>"
      ],
      "text/plain": [
       "            Adjusted Close\n",
       "Date                      \n",
       "1970-01-30           85.02\n",
       "1970-02-27           89.50\n",
       "1970-03-31           89.63\n",
       "1970-04-30           81.52\n",
       "1970-05-29           76.55\n",
       "...                    ...\n",
       "2020-08-31         3500.31\n",
       "2020-09-30         3363.00\n",
       "2020-10-30         3269.96\n",
       "2020-11-30         3621.63\n",
       "2020-12-31         3756.07\n",
       "\n",
       "[612 rows x 1 columns]"
      ]
     },
     "execution_count": 79,
     "metadata": {},
     "output_type": "execute_result"
    }
   ],
   "source": [
    "# Reduce S&P 500 data to monthly adjusted Close prices\n",
    "df = df.loc[:,['Adjusted Close']]\n",
    "df\n"
   ]
  },
  {
   "cell_type": "code",
   "execution_count": 80,
   "metadata": {
    "scrolled": true
   },
   "outputs": [
    {
     "data": {
      "text/html": [
       "<div>\n",
       "<style scoped>\n",
       "    .dataframe tbody tr th:only-of-type {\n",
       "        vertical-align: middle;\n",
       "    }\n",
       "\n",
       "    .dataframe tbody tr th {\n",
       "        vertical-align: top;\n",
       "    }\n",
       "\n",
       "    .dataframe thead th {\n",
       "        text-align: right;\n",
       "    }\n",
       "</style>\n",
       "<table border=\"1\" class=\"dataframe\">\n",
       "  <thead>\n",
       "    <tr style=\"text-align: right;\">\n",
       "      <th></th>\n",
       "      <th>Adjusted Close</th>\n",
       "    </tr>\n",
       "    <tr>\n",
       "      <th>Date</th>\n",
       "      <th></th>\n",
       "    </tr>\n",
       "  </thead>\n",
       "  <tbody>\n",
       "    <tr>\n",
       "      <th>2020-08-31</th>\n",
       "      <td>0.070065</td>\n",
       "    </tr>\n",
       "    <tr>\n",
       "      <th>2020-09-30</th>\n",
       "      <td>-0.039228</td>\n",
       "    </tr>\n",
       "    <tr>\n",
       "      <th>2020-10-30</th>\n",
       "      <td>-0.027666</td>\n",
       "    </tr>\n",
       "    <tr>\n",
       "      <th>2020-11-30</th>\n",
       "      <td>0.107546</td>\n",
       "    </tr>\n",
       "    <tr>\n",
       "      <th>2020-12-31</th>\n",
       "      <td>0.037121</td>\n",
       "    </tr>\n",
       "  </tbody>\n",
       "</table>\n",
       "</div>"
      ],
      "text/plain": [
       "            Adjusted Close\n",
       "Date                      \n",
       "2020-08-31        0.070065\n",
       "2020-09-30       -0.039228\n",
       "2020-10-30       -0.027666\n",
       "2020-11-30        0.107546\n",
       "2020-12-31        0.037121"
      ]
     },
     "execution_count": 80,
     "metadata": {},
     "output_type": "execute_result"
    }
   ],
   "source": [
    "# Compute returns from Price Series of S&P 500\n",
    "df_Performance = df.pct_change()\n",
    "df_Performance.tail()\n",
    "\n"
   ]
  },
  {
   "cell_type": "code",
   "execution_count": 81,
   "metadata": {},
   "outputs": [
    {
     "data": {
      "text/html": [
       "<div>\n",
       "<style scoped>\n",
       "    .dataframe tbody tr th:only-of-type {\n",
       "        vertical-align: middle;\n",
       "    }\n",
       "\n",
       "    .dataframe tbody tr th {\n",
       "        vertical-align: top;\n",
       "    }\n",
       "\n",
       "    .dataframe thead th {\n",
       "        text-align: right;\n",
       "    }\n",
       "</style>\n",
       "<table border=\"1\" class=\"dataframe\">\n",
       "  <thead>\n",
       "    <tr style=\"text-align: right;\">\n",
       "      <th></th>\n",
       "      <th>Adjusted Close</th>\n",
       "      <th>% Change PMI</th>\n",
       "    </tr>\n",
       "    <tr>\n",
       "      <th>Date</th>\n",
       "      <th></th>\n",
       "      <th></th>\n",
       "    </tr>\n",
       "  </thead>\n",
       "  <tbody>\n",
       "    <tr>\n",
       "      <th>2020-08-31</th>\n",
       "      <td>0.070065</td>\n",
       "      <td>0.035382</td>\n",
       "    </tr>\n",
       "    <tr>\n",
       "      <th>2020-09-30</th>\n",
       "      <td>-0.039228</td>\n",
       "      <td>0.001799</td>\n",
       "    </tr>\n",
       "    <tr>\n",
       "      <th>2020-10-30</th>\n",
       "      <td>-0.027666</td>\n",
       "      <td>0.055655</td>\n",
       "    </tr>\n",
       "    <tr>\n",
       "      <th>2020-11-30</th>\n",
       "      <td>0.107546</td>\n",
       "      <td>-0.018707</td>\n",
       "    </tr>\n",
       "    <tr>\n",
       "      <th>2020-12-31</th>\n",
       "      <td>0.037121</td>\n",
       "      <td>0.048527</td>\n",
       "    </tr>\n",
       "  </tbody>\n",
       "</table>\n",
       "</div>"
      ],
      "text/plain": [
       "            Adjusted Close  % Change PMI\n",
       "Date                                    \n",
       "2020-08-31        0.070065      0.035382\n",
       "2020-09-30       -0.039228      0.001799\n",
       "2020-10-30       -0.027666      0.055655\n",
       "2020-11-30        0.107546     -0.018707\n",
       "2020-12-31        0.037121      0.048527"
      ]
     },
     "execution_count": 81,
     "metadata": {},
     "output_type": "execute_result"
    }
   ],
   "source": [
    "# Merge returns SPX, Change PMI\n",
    "Overview = pd.concat([df_Performance,data1], axis=1)\n",
    "Overview.fillna(0)\n",
    "Overview = Overview.fillna(0)\n",
    "Overview.tail()\n"
   ]
  },
  {
   "cell_type": "code",
   "execution_count": 82,
   "metadata": {
    "scrolled": true
   },
   "outputs": [
    {
     "name": "stdout",
     "output_type": "stream",
     "text": [
      "            Adjusted Close   PMI  % Change PMI\n",
      "Date                                          \n",
      "1970-01-30        0.000000  48.7      0.000000\n",
      "1970-02-27        0.052693  47.4     -0.026694\n",
      "1970-03-31        0.001453  46.9     -0.010549\n",
      "1970-04-30       -0.090483  45.0     -0.040512\n",
      "1970-05-29       -0.060967  47.2      0.048889\n",
      "...                    ...   ...           ...\n",
      "2020-08-31        0.070065  55.6      0.035382\n",
      "2020-09-30       -0.039228  55.7      0.001799\n",
      "2020-10-30       -0.027666  58.8      0.055655\n",
      "2020-11-30        0.107546  57.7     -0.018707\n",
      "2020-12-31        0.037121  60.5      0.048527\n",
      "\n",
      "[612 rows x 3 columns]\n"
     ]
    }
   ],
   "source": [
    "# Merge monthly S&P 500 performance, PMI and monthly PMI changes into a table\n",
    "Overview2 = pd.concat([df_Performance,data,data1], axis=1, names=['Adjusted Close','PMI','Change PMI'])\n",
    "Overview2 = Overview2.fillna(0)\n",
    "Overview2\n",
    "\n",
    "print(Overview2)\n"
   ]
  },
  {
   "cell_type": "code",
   "execution_count": 83,
   "metadata": {},
   "outputs": [
    {
     "data": {
      "image/png": "[encoded data removed]",
      "text/plain": [
       "<Figure size 1152x144 with 1 Axes>"
      ]
     },
     "metadata": {
      "needs_background": "light"
     },
     "output_type": "display_data"
    }
   ],
   "source": [
    "df_Performance.plot(lw=2.0, figsize=(16,2));"
   ]
  },
  {
   "cell_type": "code",
   "execution_count": 84,
   "metadata": {},
   "outputs": [
    {
     "data": {
      "image/png": "[encoded data removed]",
      "text/plain": [
       "<Figure size 1152x144 with 1 Axes>"
      ]
     },
     "metadata": {
      "needs_background": "light"
     },
     "output_type": "display_data"
    }
   ],
   "source": [
    "data1.plot(lw=2.0, figsize=(16,2));"
   ]
  },
  {
   "cell_type": "code",
   "execution_count": 85,
   "metadata": {},
   "outputs": [
    {
     "data": {
      "image/png": "[encoded data removed]",
      "text/plain": [
       "<Figure size 1152x144 with 1 Axes>"
      ]
     },
     "metadata": {
      "needs_background": "light"
     },
     "output_type": "display_data"
    }
   ],
   "source": [
    "data.plot(lw=2.0, figsize=(16,2));"
   ]
  },
  {
   "cell_type": "code",
   "execution_count": 86,
   "metadata": {},
   "outputs": [
    {
     "data": {
      "text/html": [
       "<div>\n",
       "<style scoped>\n",
       "    .dataframe tbody tr th:only-of-type {\n",
       "        vertical-align: middle;\n",
       "    }\n",
       "\n",
       "    .dataframe tbody tr th {\n",
       "        vertical-align: top;\n",
       "    }\n",
       "\n",
       "    .dataframe thead th {\n",
       "        text-align: right;\n",
       "    }\n",
       "</style>\n",
       "<table border=\"1\" class=\"dataframe\">\n",
       "  <thead>\n",
       "    <tr style=\"text-align: right;\">\n",
       "      <th></th>\n",
       "      <th>const</th>\n",
       "      <th>Adjusted Close</th>\n",
       "      <th>% Change PMI</th>\n",
       "    </tr>\n",
       "    <tr>\n",
       "      <th>Date</th>\n",
       "      <th></th>\n",
       "      <th></th>\n",
       "      <th></th>\n",
       "    </tr>\n",
       "  </thead>\n",
       "  <tbody>\n",
       "    <tr>\n",
       "      <th>1970-01-30</th>\n",
       "      <td>1.0</td>\n",
       "      <td>0.000000</td>\n",
       "      <td>0.000000</td>\n",
       "    </tr>\n",
       "    <tr>\n",
       "      <th>1970-02-27</th>\n",
       "      <td>1.0</td>\n",
       "      <td>0.052693</td>\n",
       "      <td>-0.026694</td>\n",
       "    </tr>\n",
       "    <tr>\n",
       "      <th>1970-03-31</th>\n",
       "      <td>1.0</td>\n",
       "      <td>0.001453</td>\n",
       "      <td>-0.010549</td>\n",
       "    </tr>\n",
       "    <tr>\n",
       "      <th>1970-04-30</th>\n",
       "      <td>1.0</td>\n",
       "      <td>-0.090483</td>\n",
       "      <td>-0.040512</td>\n",
       "    </tr>\n",
       "    <tr>\n",
       "      <th>1970-05-29</th>\n",
       "      <td>1.0</td>\n",
       "      <td>-0.060967</td>\n",
       "      <td>0.048889</td>\n",
       "    </tr>\n",
       "  </tbody>\n",
       "</table>\n",
       "</div>"
      ],
      "text/plain": [
       "            const  Adjusted Close  % Change PMI\n",
       "Date                                           \n",
       "1970-01-30    1.0        0.000000      0.000000\n",
       "1970-02-27    1.0        0.052693     -0.026694\n",
       "1970-03-31    1.0        0.001453     -0.010549\n",
       "1970-04-30    1.0       -0.090483     -0.040512\n",
       "1970-05-29    1.0       -0.060967      0.048889"
      ]
     },
     "execution_count": 86,
     "metadata": {},
     "output_type": "execute_result"
    }
   ],
   "source": [
    "# Estimate OlS Regression on returns SPX and Change PMI\n",
    "Overview_df = sm.add_constant(Overview)\n",
    "Overview_df.head()"
   ]
  },
  {
   "cell_type": "code",
   "execution_count": 87,
   "metadata": {},
   "outputs": [
    {
     "name": "stdout",
     "output_type": "stream",
     "text": [
      "                                 OLS Regression Results                                \n",
      "=======================================================================================\n",
      "Dep. Variable:         Adjusted Close   R-squared (uncentered):                   0.015\n",
      "Model:                            OLS   Adj. R-squared (uncentered):              0.013\n",
      "Method:                 Least Squares   F-statistic:                              9.309\n",
      "Date:                Wed, 19 May 2021   Prob (F-statistic):                     0.00238\n",
      "Time:                        10:00:43   Log-Likelihood:                          1040.7\n",
      "No. Observations:                 612   AIC:                                     -2079.\n",
      "Df Residuals:                     611   BIC:                                     -2075.\n",
      "Df Model:                           1                                                  \n",
      "Covariance Type:            nonrobust                                                  \n",
      "================================================================================\n",
      "                   coef    std err          t      P>|t|      [0.025      0.975]\n",
      "--------------------------------------------------------------------------------\n",
      "% Change PMI     0.1147      0.038      3.051      0.002       0.041       0.189\n",
      "==============================================================================\n",
      "Omnibus:                       43.415   Durbin-Watson:                   1.932\n",
      "Prob(Omnibus):                  0.000   Jarque-Bera (JB):              101.355\n",
      "Skew:                          -0.385   Prob(JB):                     9.79e-23\n",
      "Kurtosis:                       4.839   Cond. No.                         1.00\n",
      "==============================================================================\n",
      "\n",
      "Notes:\n",
      "[1] R² is computed without centering (uncentered) since the model does not contain a constant.\n",
      "[2] Standard Errors assume that the covariance matrix of the errors is correctly specified.\n"
     ]
    }
   ],
   "source": [
    "# Regression SPX return and PMI % change\n",
    "model = sm.OLS(Overview_df['Adjusted Close'], Overview_df['% Change PMI'], missing='drop')\n",
    "results = model.fit()\n",
    "print(results.summary())"
   ]
  },
  {
   "cell_type": "code",
   "execution_count": 88,
   "metadata": {},
   "outputs": [
    {
     "data": {
      "image/png": "[encoded data removed]",
      "text/plain": [
       "<Figure size 360x360 with 1 Axes>"
      ]
     },
     "metadata": {
      "needs_background": "light"
     },
     "output_type": "display_data"
    }
   ],
   "source": [
    "sns.lmplot(y=\"Adjusted Close\", x=\"% Change PMI\", data=Overview);"
   ]
  },
  {
   "cell_type": "code",
   "execution_count": 89,
   "metadata": {},
   "outputs": [
    {
     "data": {
      "text/plain": [
       "[<matplotlib.lines.Line2D at 0x2090d89ebe0>]"
      ]
     },
     "execution_count": 89,
     "metadata": {},
     "output_type": "execute_result"
    },
    {
     "data": {
      "image/png": "[encoded data removed]",
      "text/plain": [
       "<Figure size 288x288 with 1 Axes>"
      ]
     },
     "metadata": {
      "needs_background": "light"
     },
     "output_type": "display_data"
    }
   ],
   "source": [
    "reg = np.polyfit(Overview['Adjusted Close'], Overview['% Change PMI'], deg=1)\n",
    "ax = Overview.plot(kind='scatter', y='Adjusted Close', x='% Change PMI', figsize=(4, 4))\n",
    "ax.plot(Overview['Adjusted Close'], np.polyval(reg, Overview['Adjusted Close']), 'r', lw=1\n",
    "    )"
   ]
  },
  {
   "cell_type": "code",
   "execution_count": 90,
   "metadata": {},
   "outputs": [
    {
     "data": {
      "text/plain": [
       "Text(0, 0.5, '% Change PMI')"
      ]
     },
     "execution_count": 90,
     "metadata": {},
     "output_type": "execute_result"
    },
    {
     "data": {
      "image/png": "[encoded data removed]",
      "text/plain": [
       "<Figure size 432x288 with 1 Axes>"
      ]
     },
     "metadata": {
      "needs_background": "light"
     },
     "output_type": "display_data"
    }
   ],
   "source": [
    "x = Overview[['Adjusted Close']]\n",
    "y = Overview[['% Change PMI']]\n",
    "\n",
    "regressor = LinearRegression()\n",
    "regressor.fit(x, y)\n",
    "y_pred = regressor.predict(x)\n",
    "\n",
    "plt.scatter(x, y, color = 'red')\n",
    "plt.plot(x, regressor.predict(x), color = 'blue')\n",
    "plt.xlabel('Adjusted Close')\n",
    "plt.ylabel('% Change PMI')\n"
   ]
  },
  {
   "cell_type": "code",
   "execution_count": 91,
   "metadata": {},
   "outputs": [
    {
     "data": {
      "text/html": [
       "<div>\n",
       "<style scoped>\n",
       "    .dataframe tbody tr th:only-of-type {\n",
       "        vertical-align: middle;\n",
       "    }\n",
       "\n",
       "    .dataframe tbody tr th {\n",
       "        vertical-align: top;\n",
       "    }\n",
       "\n",
       "    .dataframe thead th {\n",
       "        text-align: right;\n",
       "    }\n",
       "</style>\n",
       "<table border=\"1\" class=\"dataframe\">\n",
       "  <thead>\n",
       "    <tr style=\"text-align: right;\">\n",
       "      <th></th>\n",
       "      <th>Adjusted Close</th>\n",
       "      <th>% Change PMI</th>\n",
       "    </tr>\n",
       "  </thead>\n",
       "  <tbody>\n",
       "    <tr>\n",
       "      <th>Adjusted Close</th>\n",
       "      <td>1.000000</td>\n",
       "      <td>0.119116</td>\n",
       "    </tr>\n",
       "    <tr>\n",
       "      <th>% Change PMI</th>\n",
       "      <td>0.119116</td>\n",
       "      <td>1.000000</td>\n",
       "    </tr>\n",
       "  </tbody>\n",
       "</table>\n",
       "</div>"
      ],
      "text/plain": [
       "                Adjusted Close  % Change PMI\n",
       "Adjusted Close        1.000000      0.119116\n",
       "% Change PMI          0.119116      1.000000"
      ]
     },
     "execution_count": 91,
     "metadata": {},
     "output_type": "execute_result"
    }
   ],
   "source": [
    "# Compute Correlation between PMI Change and SPX monthly retunrs\n",
    "Overview.corr()"
   ]
  },
  {
   "cell_type": "code",
   "execution_count": 92,
   "metadata": {},
   "outputs": [
    {
     "data": {
      "text/html": [
       "<div>\n",
       "<style scoped>\n",
       "    .dataframe tbody tr th:only-of-type {\n",
       "        vertical-align: middle;\n",
       "    }\n",
       "\n",
       "    .dataframe tbody tr th {\n",
       "        vertical-align: top;\n",
       "    }\n",
       "\n",
       "    .dataframe thead th {\n",
       "        text-align: right;\n",
       "    }\n",
       "</style>\n",
       "<table border=\"1\" class=\"dataframe\">\n",
       "  <thead>\n",
       "    <tr style=\"text-align: right;\">\n",
       "      <th></th>\n",
       "      <th>Adjusted Close</th>\n",
       "      <th>PMI</th>\n",
       "      <th>% Change PMI</th>\n",
       "    </tr>\n",
       "    <tr>\n",
       "      <th>Date</th>\n",
       "      <th></th>\n",
       "      <th></th>\n",
       "      <th></th>\n",
       "    </tr>\n",
       "  </thead>\n",
       "  <tbody>\n",
       "    <tr>\n",
       "      <th>2020-08-31</th>\n",
       "      <td>0.070065</td>\n",
       "      <td>55.6</td>\n",
       "      <td>0.035382</td>\n",
       "    </tr>\n",
       "    <tr>\n",
       "      <th>2020-09-30</th>\n",
       "      <td>-0.039228</td>\n",
       "      <td>55.7</td>\n",
       "      <td>0.001799</td>\n",
       "    </tr>\n",
       "    <tr>\n",
       "      <th>2020-10-30</th>\n",
       "      <td>-0.027666</td>\n",
       "      <td>58.8</td>\n",
       "      <td>0.055655</td>\n",
       "    </tr>\n",
       "    <tr>\n",
       "      <th>2020-11-30</th>\n",
       "      <td>0.107546</td>\n",
       "      <td>57.7</td>\n",
       "      <td>-0.018707</td>\n",
       "    </tr>\n",
       "    <tr>\n",
       "      <th>2020-12-31</th>\n",
       "      <td>0.037121</td>\n",
       "      <td>60.5</td>\n",
       "      <td>0.048527</td>\n",
       "    </tr>\n",
       "  </tbody>\n",
       "</table>\n",
       "</div>"
      ],
      "text/plain": [
       "            Adjusted Close   PMI  % Change PMI\n",
       "Date                                          \n",
       "2020-08-31        0.070065  55.6      0.035382\n",
       "2020-09-30       -0.039228  55.7      0.001799\n",
       "2020-10-30       -0.027666  58.8      0.055655\n",
       "2020-11-30        0.107546  57.7     -0.018707\n",
       "2020-12-31        0.037121  60.5      0.048527"
      ]
     },
     "execution_count": 92,
     "metadata": {},
     "output_type": "execute_result"
    }
   ],
   "source": [
    "Overview2.tail()\n"
   ]
  },
  {
   "cell_type": "code",
   "execution_count": 93,
   "metadata": {},
   "outputs": [
    {
     "data": {
      "text/plain": [
       "-0.001904130396500347"
      ]
     },
     "execution_count": 93,
     "metadata": {},
     "output_type": "execute_result"
    }
   ],
   "source": [
    "# derive SPX returns from PMI 45-50, if PMI is increasing\n",
    "OV45_50_pos = Overview2[Overview2['PMI'].between(45,50)]\n",
    "OV45_50_pos = OV45_50_pos[OV45_50_pos['% Change PMI'] > 0]\n",
    "\n",
    "OV45_50_pos.head()\n",
    "return45_50_pos = OV45_50_pos.loc[:,'Adjusted Close']\n",
    "return45_50_pos.mean()\n",
    "\n",
    "return45_50_pos.mean()"
   ]
  },
  {
   "cell_type": "code",
   "execution_count": 59,
   "metadata": {},
   "outputs": [
    {
     "data": {
      "text/plain": [
       "0.006250753752959607"
      ]
     },
     "execution_count": 59,
     "metadata": {},
     "output_type": "execute_result"
    }
   ],
   "source": [
    "# derive SPX returns from PMI 45-50, if PMI is decreasing\n",
    "OV45_50_neg = Overview2[Overview2['PMI'].between(45,50)]\n",
    "OV45_50_neg = OV45_50_neg[OV45_50_neg['% Change PMI'] < 0]\n",
    "\n",
    "return45_50_neg = OV45_50_neg.loc[:,'Adjusted Close']\n",
    "return45_50_neg.mean()"
   ]
  },
  {
   "cell_type": "code",
   "execution_count": 60,
   "metadata": {},
   "outputs": [
    {
     "data": {
      "text/plain": [
       "0.016095318206662"
      ]
     },
     "execution_count": 60,
     "metadata": {},
     "output_type": "execute_result"
    }
   ],
   "source": [
    "# derive SPX returns from PMI 40-45, if PMI is increasing\n",
    "OV40_45_pos = Overview2[Overview2['PMI'].between(0,45)]\n",
    "OV40_45_pos = OV40_45_pos[OV40_45_pos['% Change PMI'] > 0]\n",
    "\n",
    "return40_45_pos = OV40_45_pos.loc[:,'Adjusted Close']\n",
    "\n",
    "\n",
    "return40_45_pos.mean()\n",
    "\n"
   ]
  },
  {
   "cell_type": "code",
   "execution_count": 61,
   "metadata": {},
   "outputs": [
    {
     "data": {
      "text/plain": [
       "0.007348483834089888"
      ]
     },
     "execution_count": 61,
     "metadata": {},
     "output_type": "execute_result"
    }
   ],
   "source": [
    "# derive SPX returns from PMI 40-45, if PMI is decreasing\n",
    "OV40_45_neg = Overview2[Overview2['PMI'].between(0,45)]\n",
    "OV40_45_neg = OV40_45_neg[OV40_45_neg['% Change PMI'] < 0]\n",
    "\n",
    "return40_45_neg = OV40_45_neg.loc[:,'Adjusted Close']\n",
    "return40_45_neg.mean()"
   ]
  },
  {
   "cell_type": "code",
   "execution_count": 62,
   "metadata": {},
   "outputs": [
    {
     "data": {
      "text/plain": [
       "0.007786766534943426"
      ]
     },
     "execution_count": 62,
     "metadata": {},
     "output_type": "execute_result"
    }
   ],
   "source": [
    "# derive SPX returns from PMI 50-55, if PMI is increasing\n",
    "\n",
    "OV50_55_pos = Overview2[Overview2['PMI'].between(50,55)]\n",
    "OV50_55_pos = OV50_55_pos[OV50_55_pos['% Change PMI'] > 0]\n",
    "\n",
    "return50_55_pos = OV50_55_pos.loc[:,'Adjusted Close']\n",
    "return50_55_pos.mean()\n",
    "\n",
    "# result of 0.77% correct, double checked with excel\n"
   ]
  },
  {
   "cell_type": "code",
   "execution_count": 63,
   "metadata": {},
   "outputs": [
    {
     "data": {
      "text/plain": [
       "0.005883519109019505"
      ]
     },
     "execution_count": 63,
     "metadata": {},
     "output_type": "execute_result"
    }
   ],
   "source": [
    "# derive SPX returns from PMI 50-55, if PMI is decreasing\n",
    "\n",
    "OV50_55_neg = Overview2[Overview2['PMI'].between(50,55)]\n",
    "OV50_55_neg = OV50_55_neg[OV50_55_neg['% Change PMI'] < 0]\n",
    "\n",
    "return50_55_neg = OV50_55_neg.loc[:,'Adjusted Close']\n",
    "return50_55_neg.mean()"
   ]
  },
  {
   "cell_type": "code",
   "execution_count": 64,
   "metadata": {},
   "outputs": [
    {
     "data": {
      "text/plain": [
       "0.009082061050628332"
      ]
     },
     "execution_count": 64,
     "metadata": {},
     "output_type": "execute_result"
    }
   ],
   "source": [
    "# derive SPX returns from PMI 55-60, if PMI is increasing\n",
    "\n",
    "OV55_60_pos = Overview2[Overview2['PMI'].between(55,100)]\n",
    "OV55_60_pos = OV55_60_pos[OV55_60_pos['% Change PMI'] > 0]\n",
    "\n",
    "return55_60_pos = OV55_60_pos.loc[:,'Adjusted Close']\n",
    "\n",
    "return55_60_pos.mean()\n",
    "\n"
   ]
  },
  {
   "cell_type": "code",
   "execution_count": 65,
   "metadata": {},
   "outputs": [
    {
     "data": {
      "text/plain": [
       "0.003902118129686398"
      ]
     },
     "execution_count": 65,
     "metadata": {},
     "output_type": "execute_result"
    }
   ],
   "source": [
    "# derive SPX returns from PMI 55-60, if PMI is decreasing\n",
    "\n",
    "OV55_60_neg = Overview2[Overview2['PMI'].between(55,100)]\n",
    "OV55_60_neg = OV55_60_neg[OV55_60_neg['% Change PMI'] < 0]\n",
    "\n",
    "return55_60_neg = OV55_60_neg.loc[:,'Adjusted Close']\n",
    "\n",
    "return55_60_neg.mean()"
   ]
  },
  {
   "cell_type": "code",
   "execution_count": 66,
   "metadata": {},
   "outputs": [
    {
     "data": {
      "text/plain": [
       "0.005295649044764593"
      ]
     },
     "execution_count": 66,
     "metadata": {},
     "output_type": "execute_result"
    }
   ],
   "source": [
    "# derive SPX returns from PMI below 50, if PMI is increasing\n",
    "OV0_50_pos = Overview2[Overview2['PMI'].between(0,50)]\n",
    "OV0_50_pos = OV0_50_pos[OV0_50_pos['% Change PMI'] > 0]\n",
    "\n",
    "return0_50_pos = OV0_50_pos.loc[:,'Adjusted Close']\n",
    "\n",
    "return0_50_pos.mean()\n",
    "\n"
   ]
  },
  {
   "cell_type": "code",
   "execution_count": 67,
   "metadata": {},
   "outputs": [
    {
     "data": {
      "text/plain": [
       "0.007560870424603205"
      ]
     },
     "execution_count": 67,
     "metadata": {},
     "output_type": "execute_result"
    }
   ],
   "source": [
    "# derive SPX returns from PMI below 50, if PMI is decreasing\n",
    "\n",
    "OV0_50_neg = Overview2[Overview2['PMI'].between(0,50)]\n",
    "OV0_50_neg = OV0_50_neg[OV0_50_neg['% Change PMI'] < 0]\n",
    "\n",
    "return0_50_neg = OV0_50_neg.loc[:,'Adjusted Close']\n",
    "return0_50_neg.mean()\n"
   ]
  },
  {
   "cell_type": "code",
   "execution_count": 68,
   "metadata": {},
   "outputs": [
    {
     "data": {
      "text/plain": [
       "0.008555829544864044"
      ]
     },
     "execution_count": 68,
     "metadata": {},
     "output_type": "execute_result"
    }
   ],
   "source": [
    "# derive SPX returns from PMI above 50, if PMI is increasing\n",
    "\n",
    "OV50_100_pos = Overview2[Overview2['PMI'].between(50,100)]\n",
    "OV50_100_pos = OV50_100_pos[OV50_100_pos['% Change PMI'] > 0]\n",
    "\n",
    "return50_100_pos = OV50_100_pos.loc[:,'Adjusted Close']\n",
    "return50_100_pos.mean()"
   ]
  },
  {
   "cell_type": "code",
   "execution_count": 69,
   "metadata": {},
   "outputs": [
    {
     "data": {
      "text/plain": [
       "0.005027173754670186"
      ]
     },
     "execution_count": 69,
     "metadata": {},
     "output_type": "execute_result"
    }
   ],
   "source": [
    "# derive SPX returns from PMI above 50, if PMI is decreasing\n",
    "\n",
    "OV50_100_neg = Overview2[Overview2['PMI'].between(50,100)]\n",
    "OV50_100_neg = OV50_100_neg[OV50_100_neg['% Change PMI'] < 0]\n",
    "\n",
    "return50_100_neg = OV50_100_neg.loc[:,'Adjusted Close']\n",
    "return50_100_neg.mean()"
   ]
  },
  {
   "cell_type": "code",
   "execution_count": 70,
   "metadata": {},
   "outputs": [],
   "source": [
    "# Now, use IP Change as controll varible to see impact"
   ]
  },
  {
   "cell_type": "code",
   "execution_count": 94,
   "metadata": {},
   "outputs": [
    {
     "data": {
      "text/html": [
       "<div>\n",
       "<style scoped>\n",
       "    .dataframe tbody tr th:only-of-type {\n",
       "        vertical-align: middle;\n",
       "    }\n",
       "\n",
       "    .dataframe tbody tr th {\n",
       "        vertical-align: top;\n",
       "    }\n",
       "\n",
       "    .dataframe thead th {\n",
       "        text-align: right;\n",
       "    }\n",
       "</style>\n",
       "<table border=\"1\" class=\"dataframe\">\n",
       "  <thead>\n",
       "    <tr style=\"text-align: right;\">\n",
       "      <th></th>\n",
       "      <th>% Change IP</th>\n",
       "    </tr>\n",
       "    <tr>\n",
       "      <th>Date</th>\n",
       "      <th></th>\n",
       "    </tr>\n",
       "  </thead>\n",
       "  <tbody>\n",
       "    <tr>\n",
       "      <th>2020-12-31</th>\n",
       "      <td>0.0102</td>\n",
       "    </tr>\n",
       "    <tr>\n",
       "      <th>2020-11-30</th>\n",
       "      <td>0.0089</td>\n",
       "    </tr>\n",
       "    <tr>\n",
       "      <th>2020-10-30</th>\n",
       "      <td>0.0101</td>\n",
       "    </tr>\n",
       "    <tr>\n",
       "      <th>2020-09-30</th>\n",
       "      <td>-0.0008</td>\n",
       "    </tr>\n",
       "    <tr>\n",
       "      <th>2020-08-31</th>\n",
       "      <td>0.0096</td>\n",
       "    </tr>\n",
       "    <tr>\n",
       "      <th>...</th>\n",
       "      <td>...</td>\n",
       "    </tr>\n",
       "    <tr>\n",
       "      <th>1970-05-29</th>\n",
       "      <td>-0.0012</td>\n",
       "    </tr>\n",
       "    <tr>\n",
       "      <th>1970-04-30</th>\n",
       "      <td>-0.0026</td>\n",
       "    </tr>\n",
       "    <tr>\n",
       "      <th>1970-03-31</th>\n",
       "      <td>-0.0013</td>\n",
       "    </tr>\n",
       "    <tr>\n",
       "      <th>1970-02-27</th>\n",
       "      <td>-0.0007</td>\n",
       "    </tr>\n",
       "    <tr>\n",
       "      <th>1970-01-30</th>\n",
       "      <td>-0.0185</td>\n",
       "    </tr>\n",
       "  </tbody>\n",
       "</table>\n",
       "<p>612 rows × 1 columns</p>\n",
       "</div>"
      ],
      "text/plain": [
       "            % Change IP\n",
       "Date                   \n",
       "2020-12-31       0.0102\n",
       "2020-11-30       0.0089\n",
       "2020-10-30       0.0101\n",
       "2020-09-30      -0.0008\n",
       "2020-08-31       0.0096\n",
       "...                 ...\n",
       "1970-05-29      -0.0012\n",
       "1970-04-30      -0.0026\n",
       "1970-03-31      -0.0013\n",
       "1970-02-27      -0.0007\n",
       "1970-01-30      -0.0185\n",
       "\n",
       "[612 rows x 1 columns]"
      ]
     },
     "execution_count": 94,
     "metadata": {},
     "output_type": "execute_result"
    }
   ],
   "source": [
    "IP_Change = pd.read_excel('IP Change.xlsx', index_col='Date')\n",
    "IP_Change"
   ]
  },
  {
   "cell_type": "code",
   "execution_count": 95,
   "metadata": {},
   "outputs": [
    {
     "ename": "NameError",
     "evalue": "name 'PMI_neg' is not defined",
     "output_type": "error",
     "traceback": [
      "\u001b[1;31m---------------------------------------------------------------------------\u001b[0m",
      "\u001b[1;31mNameError\u001b[0m                                 Traceback (most recent call last)",
      "\u001b[1;32m<ipython-input-95-ee147f999c5b>\u001b[0m in \u001b[0;36m<module>\u001b[1;34m\u001b[0m\n\u001b[0;32m      4\u001b[0m \u001b[0mPMI_pos\u001b[0m\u001b[1;33m\u001b[0m\u001b[1;33m\u001b[0m\u001b[0m\n\u001b[0;32m      5\u001b[0m \u001b[1;33m\u001b[0m\u001b[0m\n\u001b[1;32m----> 6\u001b[1;33m \u001b[0mPMI_neg\u001b[0m \u001b[1;33m=\u001b[0m \u001b[0mOverview2\u001b[0m\u001b[1;33m[\u001b[0m\u001b[0mOverview2\u001b[0m\u001b[1;33m[\u001b[0m\u001b[1;34m'% Change PMI'\u001b[0m\u001b[1;33m]\u001b[0m \u001b[1;33m<\u001b[0m \u001b[1;36m0\u001b[0m\u001b[1;33m]\u001b[0m\u001b[1;33m,\u001b[0m \u001b[0mrename\u001b[0m\u001b[1;33m=\u001b[0m\u001b[0mPMI_neg\u001b[0m\u001b[1;33m\u001b[0m\u001b[1;33m\u001b[0m\u001b[0m\n\u001b[0m\u001b[0;32m      7\u001b[0m \u001b[0mPMI_neg\u001b[0m \u001b[1;33m=\u001b[0m \u001b[0mPMI_neg\u001b[0m\u001b[1;33m.\u001b[0m\u001b[0mloc\u001b[0m\u001b[1;33m[\u001b[0m\u001b[1;33m:\u001b[0m\u001b[1;33m,\u001b[0m\u001b[1;33m[\u001b[0m\u001b[1;34m'% Change PMI'\u001b[0m\u001b[1;33m]\u001b[0m\u001b[1;33m]\u001b[0m\u001b[1;33m\u001b[0m\u001b[1;33m\u001b[0m\u001b[0m\n\u001b[0;32m      8\u001b[0m \u001b[0mPMI_neg\u001b[0m\u001b[1;33m\u001b[0m\u001b[1;33m\u001b[0m\u001b[0m\n",
      "\u001b[1;31mNameError\u001b[0m: name 'PMI_neg' is not defined"
     ]
    }
   ],
   "source": [
    "# Prepare PMI Change +/- for dummy\n",
    "PMI_pos = Overview2[Overview2['% Change PMI'] > 0]\n",
    "PMI_pos = PMI_pos.loc[:,['% Change PMI']]\n",
    "PMI_pos\n",
    "\n",
    "PMI_neg = Overview2[Overview2['% Change PMI'] < 0], rename=PMI_neg\n",
    "PMI_neg = PMI_neg.loc[:,['% Change PMI']]\n",
    "PMI_neg"
   ]
  },
  {
   "cell_type": "code",
   "execution_count": 96,
   "metadata": {},
   "outputs": [],
   "source": [
    "# Merge SPX Performance / PMI Change and IP Change\n",
    "Overview3 = pd.concat([df_Performance,data1,IP_Change], axis=1)\n",
    "Overview3 = Overview3.dropna()\n"
   ]
  },
  {
   "cell_type": "code",
   "execution_count": 97,
   "metadata": {},
   "outputs": [
    {
     "name": "stdout",
     "output_type": "stream",
     "text": [
      "            Adjusted Close  % Change PMI  % Change IP\n",
      "Date                                                 \n",
      "1970-02-27        0.052693     -0.026694      -0.0007\n",
      "1970-03-31        0.001453     -0.010549      -0.0013\n",
      "1970-04-30       -0.090483     -0.040512      -0.0026\n",
      "1970-05-29       -0.060967      0.048889      -0.0012\n",
      "1970-06-30       -0.050033      0.082627      -0.0032\n",
      "...                    ...           ...          ...\n",
      "2020-08-31        0.070065      0.035382       0.0096\n",
      "2020-09-30       -0.039228      0.001799      -0.0008\n",
      "2020-10-30       -0.027666      0.055655       0.0101\n",
      "2020-11-30        0.107546     -0.018707       0.0089\n",
      "2020-12-31        0.037121      0.048527       0.0102\n",
      "\n",
      "[611 rows x 3 columns]\n"
     ]
    }
   ],
   "source": [
    "print(Overview3)\n"
   ]
  },
  {
   "cell_type": "code",
   "execution_count": 98,
   "metadata": {},
   "outputs": [
    {
     "name": "stdout",
     "output_type": "stream",
     "text": [
      "            Adjusted Close  % Change PMI  % Change IP  dummy\n",
      "Date                                                        \n",
      "1970-02-27        0.052693     -0.026694      -0.0007      0\n",
      "1970-03-31        0.001453     -0.010549      -0.0013      0\n",
      "1970-04-30       -0.090483     -0.040512      -0.0026      0\n",
      "1970-05-29       -0.060967      0.048889      -0.0012      1\n",
      "1970-06-30       -0.050033      0.082627      -0.0032      1\n",
      "...                    ...           ...          ...    ...\n",
      "2020-08-31        0.070065      0.035382       0.0096      1\n",
      "2020-09-30       -0.039228      0.001799      -0.0008      1\n",
      "2020-10-30       -0.027666      0.055655       0.0101      1\n",
      "2020-11-30        0.107546     -0.018707       0.0089      0\n",
      "2020-12-31        0.037121      0.048527       0.0102      1\n",
      "\n",
      "[611 rows x 4 columns]\n"
     ]
    },
    {
     "name": "stderr",
     "output_type": "stream",
     "text": [
      "<ipython-input-98-b72d5f105b3d>:6: SettingWithCopyWarning: \n",
      "A value is trying to be set on a copy of a slice from a DataFrame\n",
      "\n",
      "See the caveats in the documentation: https://pandas.pydata.org/pandas-docs/stable/user_guide/indexing.html#returning-a-view-versus-a-copy\n",
      "  Overview3['dummy'][i] = 1\n"
     ]
    }
   ],
   "source": [
    "# Create dummy for PMI Change where 1 is rising PMI and 0 decreasing PMI\n",
    "pd.get_dummies\n",
    "Overview3['dummy'] = 0\n",
    "for i in range(0,len(Overview3)): \n",
    "    if Overview3[\"% Change PMI\"][i] > 0:\n",
    "        Overview3['dummy'][i] = 1\n",
    "        \n",
    "        \n",
    "        \n",
    "        \n",
    "print(Overview3)\n",
    "\n"
   ]
  },
  {
   "cell_type": "code",
   "execution_count": 99,
   "metadata": {},
   "outputs": [
    {
     "data": {
      "text/plain": [
       "Date\n",
       "1970-02-27    0\n",
       "1970-03-31    0\n",
       "1970-04-30    0\n",
       "1970-05-29    1\n",
       "1970-06-30    1\n",
       "             ..\n",
       "2020-08-31    1\n",
       "2020-09-30    1\n",
       "2020-10-30    1\n",
       "2020-11-30    0\n",
       "2020-12-31    1\n",
       "Freq: BM, Name: dummy, Length: 611, dtype: int64"
      ]
     },
     "execution_count": 99,
     "metadata": {},
     "output_type": "execute_result"
    }
   ],
   "source": [
    "PMI_dummy = Overview3['dummy']\n",
    "PMI_dummy"
   ]
  },
  {
   "cell_type": "code",
   "execution_count": 100,
   "metadata": {},
   "outputs": [
    {
     "name": "stdout",
     "output_type": "stream",
     "text": [
      "            Adjusted Close  % Change PMI  % Change IP  dummy\n",
      "Date                                                        \n",
      "1970-02-27        0.052693     -0.026694      -0.0007    0.0\n",
      "1970-03-31        0.001453     -0.010549      -0.0013    0.0\n",
      "1970-04-30       -0.090483     -0.040512      -0.0026    0.0\n",
      "1970-05-29       -0.060967      0.048889      -0.0012    1.0\n",
      "1970-06-30       -0.050033      0.082627      -0.0032    1.0\n",
      "...                    ...           ...          ...    ...\n",
      "2020-08-31        0.070065      0.035382       0.0096    1.0\n",
      "2020-09-30       -0.039228      0.001799      -0.0008    1.0\n",
      "2020-10-30       -0.027666      0.055655       0.0101    1.0\n",
      "2020-11-30        0.107546     -0.018707       0.0089    0.0\n",
      "2020-12-31        0.037121      0.048527       0.0102    1.0\n",
      "\n",
      "[611 rows x 4 columns]\n"
     ]
    }
   ],
   "source": [
    "# crate table Overview4, with dummy\n",
    "Overview4 = pd.concat([df_Performance,data1,IP_Change,PMI_dummy], axis=1)\n",
    "Overview4 = Overview4.dropna()\n",
    "print(Overview4)\n"
   ]
  },
  {
   "cell_type": "code",
   "execution_count": 101,
   "metadata": {},
   "outputs": [
    {
     "data": {
      "text/html": [
       "<table class=\"simpletable\">\n",
       "<caption>OLS Regression Results</caption>\n",
       "<tr>\n",
       "  <th>Dep. Variable:</th>     <td>Adjusted Close</td>  <th>  R-squared:         </th> <td>   0.002</td>\n",
       "</tr>\n",
       "<tr>\n",
       "  <th>Model:</th>                   <td>OLS</td>       <th>  Adj. R-squared:    </th> <td>  -0.001</td>\n",
       "</tr>\n",
       "<tr>\n",
       "  <th>Method:</th>             <td>Least Squares</td>  <th>  F-statistic:       </th> <td>  0.5852</td>\n",
       "</tr>\n",
       "<tr>\n",
       "  <th>Date:</th>             <td>Wed, 19 May 2021</td> <th>  Prob (F-statistic):</th>  <td> 0.557</td> \n",
       "</tr>\n",
       "<tr>\n",
       "  <th>Time:</th>                 <td>10:01:27</td>     <th>  Log-Likelihood:    </th> <td>  1042.5</td>\n",
       "</tr>\n",
       "<tr>\n",
       "  <th>No. Observations:</th>      <td>   611</td>      <th>  AIC:               </th> <td>  -2079.</td>\n",
       "</tr>\n",
       "<tr>\n",
       "  <th>Df Residuals:</th>          <td>   608</td>      <th>  BIC:               </th> <td>  -2066.</td>\n",
       "</tr>\n",
       "<tr>\n",
       "  <th>Df Model:</th>              <td>     2</td>      <th>                     </th>     <td> </td>   \n",
       "</tr>\n",
       "<tr>\n",
       "  <th>Covariance Type:</th>      <td>nonrobust</td>    <th>                     </th>     <td> </td>   \n",
       "</tr>\n",
       "</table>\n",
       "<table class=\"simpletable\">\n",
       "<tr>\n",
       "       <td></td>          <th>coef</th>     <th>std err</th>      <th>t</th>      <th>P>|t|</th>  <th>[0.025</th>    <th>0.975]</th>  \n",
       "</tr>\n",
       "<tr>\n",
       "  <th>const</th>       <td>    0.0065</td> <td>    0.002</td> <td>    2.617</td> <td> 0.009</td> <td>    0.002</td> <td>    0.011</td>\n",
       "</tr>\n",
       "<tr>\n",
       "  <th>% Change IP</th> <td>   -0.1893</td> <td>    0.190</td> <td>   -0.997</td> <td> 0.319</td> <td>   -0.562</td> <td>    0.183</td>\n",
       "</tr>\n",
       "<tr>\n",
       "  <th>dummy</th>       <td>    0.0021</td> <td>    0.004</td> <td>    0.581</td> <td> 0.561</td> <td>   -0.005</td> <td>    0.009</td>\n",
       "</tr>\n",
       "</table>\n",
       "<table class=\"simpletable\">\n",
       "<tr>\n",
       "  <th>Omnibus:</th>       <td>48.799</td> <th>  Durbin-Watson:     </th> <td>   1.929</td>\n",
       "</tr>\n",
       "<tr>\n",
       "  <th>Prob(Omnibus):</th> <td> 0.000</td> <th>  Jarque-Bera (JB):  </th> <td> 102.735</td>\n",
       "</tr>\n",
       "<tr>\n",
       "  <th>Skew:</th>          <td>-0.472</td> <th>  Prob(JB):          </th> <td>4.91e-23</td>\n",
       "</tr>\n",
       "<tr>\n",
       "  <th>Kurtosis:</th>      <td> 4.773</td> <th>  Cond. No.          </th> <td>    121.</td>\n",
       "</tr>\n",
       "</table><br/><br/>Notes:<br/>[1] Standard Errors assume that the covariance matrix of the errors is correctly specified."
      ],
      "text/plain": [
       "<class 'statsmodels.iolib.summary.Summary'>\n",
       "\"\"\"\n",
       "                            OLS Regression Results                            \n",
       "==============================================================================\n",
       "Dep. Variable:         Adjusted Close   R-squared:                       0.002\n",
       "Model:                            OLS   Adj. R-squared:                 -0.001\n",
       "Method:                 Least Squares   F-statistic:                    0.5852\n",
       "Date:                Wed, 19 May 2021   Prob (F-statistic):              0.557\n",
       "Time:                        10:01:27   Log-Likelihood:                 1042.5\n",
       "No. Observations:                 611   AIC:                            -2079.\n",
       "Df Residuals:                     608   BIC:                            -2066.\n",
       "Df Model:                           2                                         \n",
       "Covariance Type:            nonrobust                                         \n",
       "===============================================================================\n",
       "                  coef    std err          t      P>|t|      [0.025      0.975]\n",
       "-------------------------------------------------------------------------------\n",
       "const           0.0065      0.002      2.617      0.009       0.002       0.011\n",
       "% Change IP    -0.1893      0.190     -0.997      0.319      -0.562       0.183\n",
       "dummy           0.0021      0.004      0.581      0.561      -0.005       0.009\n",
       "==============================================================================\n",
       "Omnibus:                       48.799   Durbin-Watson:                   1.929\n",
       "Prob(Omnibus):                  0.000   Jarque-Bera (JB):              102.735\n",
       "Skew:                          -0.472   Prob(JB):                     4.91e-23\n",
       "Kurtosis:                       4.773   Cond. No.                         121.\n",
       "==============================================================================\n",
       "\n",
       "Notes:\n",
       "[1] Standard Errors assume that the covariance matrix of the errors is correctly specified.\n",
       "\"\"\""
      ]
     },
     "execution_count": 101,
     "metadata": {},
     "output_type": "execute_result"
    }
   ],
   "source": [
    "# Regression with dummy\n",
    "y = Overview4['Adjusted Close']\n",
    "x1 = Overview4[['% Change IP','dummy']]\n",
    "x = x = sm.add_constant(x1)\n",
    "results2 = sm. OLS(y,x).fit()\n",
    "results2.summary()"
   ]
  },
  {
   "cell_type": "code",
   "execution_count": 102,
   "metadata": {},
   "outputs": [
    {
     "data": {
      "text/html": [
       "<table class=\"simpletable\">\n",
       "<caption>OLS Regression Results</caption>\n",
       "<tr>\n",
       "  <th>Dep. Variable:</th>     <td>Adjusted Close</td>  <th>  R-squared (uncentered):</th>      <td>   0.015</td>\n",
       "</tr>\n",
       "<tr>\n",
       "  <th>Model:</th>                   <td>OLS</td>       <th>  Adj. R-squared (uncentered):</th> <td>   0.013</td>\n",
       "</tr>\n",
       "<tr>\n",
       "  <th>Method:</th>             <td>Least Squares</td>  <th>  F-statistic:       </th>          <td>   9.309</td>\n",
       "</tr>\n",
       "<tr>\n",
       "  <th>Date:</th>             <td>Wed, 19 May 2021</td> <th>  Prob (F-statistic):</th>           <td>0.00238</td>\n",
       "</tr>\n",
       "<tr>\n",
       "  <th>Time:</th>                 <td>10:01:31</td>     <th>  Log-Likelihood:    </th>          <td>  1040.7</td>\n",
       "</tr>\n",
       "<tr>\n",
       "  <th>No. Observations:</th>      <td>   612</td>      <th>  AIC:               </th>          <td>  -2079.</td>\n",
       "</tr>\n",
       "<tr>\n",
       "  <th>Df Residuals:</th>          <td>   611</td>      <th>  BIC:               </th>          <td>  -2075.</td>\n",
       "</tr>\n",
       "<tr>\n",
       "  <th>Df Model:</th>              <td>     1</td>      <th>                     </th>              <td> </td>   \n",
       "</tr>\n",
       "<tr>\n",
       "  <th>Covariance Type:</th>      <td>nonrobust</td>    <th>                     </th>              <td> </td>   \n",
       "</tr>\n",
       "</table>\n",
       "<table class=\"simpletable\">\n",
       "<tr>\n",
       "        <td></td>          <th>coef</th>     <th>std err</th>      <th>t</th>      <th>P>|t|</th>  <th>[0.025</th>    <th>0.975]</th>  \n",
       "</tr>\n",
       "<tr>\n",
       "  <th>% Change PMI</th> <td>    0.1147</td> <td>    0.038</td> <td>    3.051</td> <td> 0.002</td> <td>    0.041</td> <td>    0.189</td>\n",
       "</tr>\n",
       "</table>\n",
       "<table class=\"simpletable\">\n",
       "<tr>\n",
       "  <th>Omnibus:</th>       <td>43.415</td> <th>  Durbin-Watson:     </th> <td>   1.932</td>\n",
       "</tr>\n",
       "<tr>\n",
       "  <th>Prob(Omnibus):</th> <td> 0.000</td> <th>  Jarque-Bera (JB):  </th> <td> 101.355</td>\n",
       "</tr>\n",
       "<tr>\n",
       "  <th>Skew:</th>          <td>-0.385</td> <th>  Prob(JB):          </th> <td>9.79e-23</td>\n",
       "</tr>\n",
       "<tr>\n",
       "  <th>Kurtosis:</th>      <td> 4.839</td> <th>  Cond. No.          </th> <td>    1.00</td>\n",
       "</tr>\n",
       "</table><br/><br/>Notes:<br/>[1] R² is computed without centering (uncentered) since the model does not contain a constant.<br/>[2] Standard Errors assume that the covariance matrix of the errors is correctly specified."
      ],
      "text/plain": [
       "<class 'statsmodels.iolib.summary.Summary'>\n",
       "\"\"\"\n",
       "                                 OLS Regression Results                                \n",
       "=======================================================================================\n",
       "Dep. Variable:         Adjusted Close   R-squared (uncentered):                   0.015\n",
       "Model:                            OLS   Adj. R-squared (uncentered):              0.013\n",
       "Method:                 Least Squares   F-statistic:                              9.309\n",
       "Date:                Wed, 19 May 2021   Prob (F-statistic):                     0.00238\n",
       "Time:                        10:01:31   Log-Likelihood:                          1040.7\n",
       "No. Observations:                 612   AIC:                                     -2079.\n",
       "Df Residuals:                     611   BIC:                                     -2075.\n",
       "Df Model:                           1                                                  \n",
       "Covariance Type:            nonrobust                                                  \n",
       "================================================================================\n",
       "                   coef    std err          t      P>|t|      [0.025      0.975]\n",
       "--------------------------------------------------------------------------------\n",
       "% Change PMI     0.1147      0.038      3.051      0.002       0.041       0.189\n",
       "==============================================================================\n",
       "Omnibus:                       43.415   Durbin-Watson:                   1.932\n",
       "Prob(Omnibus):                  0.000   Jarque-Bera (JB):              101.355\n",
       "Skew:                          -0.385   Prob(JB):                     9.79e-23\n",
       "Kurtosis:                       4.839   Cond. No.                         1.00\n",
       "==============================================================================\n",
       "\n",
       "Notes:\n",
       "[1] R² is computed without centering (uncentered) since the model does not contain a constant.\n",
       "[2] Standard Errors assume that the covariance matrix of the errors is correctly specified.\n",
       "\"\"\""
      ]
     },
     "execution_count": 102,
     "metadata": {},
     "output_type": "execute_result"
    }
   ],
   "source": [
    "# Regression SPX return and PMI Change\n",
    "yx = Overview_df['Adjusted Close']\n",
    "x2 = Overview_df['% Change PMI']\n",
    "x = x = sm.add_constant(x)\n",
    "results3 = sm. OLS(yx,x2).fit()\n",
    "results3.summary()"
   ]
  },
  {
   "cell_type": "code",
   "execution_count": 104,
   "metadata": {},
   "outputs": [
    {
     "data": {
      "text/html": [
       "<div>\n",
       "<style scoped>\n",
       "    .dataframe tbody tr th:only-of-type {\n",
       "        vertical-align: middle;\n",
       "    }\n",
       "\n",
       "    .dataframe tbody tr th {\n",
       "        vertical-align: top;\n",
       "    }\n",
       "\n",
       "    .dataframe thead th {\n",
       "        text-align: right;\n",
       "    }\n",
       "</style>\n",
       "<table border=\"1\" class=\"dataframe\">\n",
       "  <thead>\n",
       "    <tr style=\"text-align: right;\">\n",
       "      <th></th>\n",
       "      <th>Adjusted Close</th>\n",
       "      <th>% Change PMI</th>\n",
       "      <th>% Change IP</th>\n",
       "      <th>dummy</th>\n",
       "    </tr>\n",
       "  </thead>\n",
       "  <tbody>\n",
       "    <tr>\n",
       "      <th>count</th>\n",
       "      <td>611.000000</td>\n",
       "      <td>611.000000</td>\n",
       "      <td>611.000000</td>\n",
       "      <td>611.000000</td>\n",
       "    </tr>\n",
       "    <tr>\n",
       "      <th>mean</th>\n",
       "      <td>0.007196</td>\n",
       "      <td>0.001477</td>\n",
       "      <td>0.001676</td>\n",
       "      <td>0.484452</td>\n",
       "    </tr>\n",
       "    <tr>\n",
       "      <th>std</th>\n",
       "      <td>0.044008</td>\n",
       "      <td>0.047599</td>\n",
       "      <td>0.009532</td>\n",
       "      <td>0.500168</td>\n",
       "    </tr>\n",
       "    <tr>\n",
       "      <th>min</th>\n",
       "      <td>-0.217630</td>\n",
       "      <td>-0.213904</td>\n",
       "      <td>-0.126800</td>\n",
       "      <td>0.000000</td>\n",
       "    </tr>\n",
       "    <tr>\n",
       "      <th>25%</th>\n",
       "      <td>-0.017779</td>\n",
       "      <td>-0.024369</td>\n",
       "      <td>-0.001850</td>\n",
       "      <td>0.000000</td>\n",
       "    </tr>\n",
       "    <tr>\n",
       "      <th>50%</th>\n",
       "      <td>0.009980</td>\n",
       "      <td>0.000000</td>\n",
       "      <td>0.002100</td>\n",
       "      <td>0.000000</td>\n",
       "    </tr>\n",
       "    <tr>\n",
       "      <th>75%</th>\n",
       "      <td>0.035754</td>\n",
       "      <td>0.024911</td>\n",
       "      <td>0.006100</td>\n",
       "      <td>1.000000</td>\n",
       "    </tr>\n",
       "    <tr>\n",
       "      <th>max</th>\n",
       "      <td>0.163047</td>\n",
       "      <td>0.300000</td>\n",
       "      <td>0.062400</td>\n",
       "      <td>1.000000</td>\n",
       "    </tr>\n",
       "  </tbody>\n",
       "</table>\n",
       "</div>"
      ],
      "text/plain": [
       "       Adjusted Close  % Change PMI  % Change IP       dummy\n",
       "count      611.000000    611.000000   611.000000  611.000000\n",
       "mean         0.007196      0.001477     0.001676    0.484452\n",
       "std          0.044008      0.047599     0.009532    0.500168\n",
       "min         -0.217630     -0.213904    -0.126800    0.000000\n",
       "25%         -0.017779     -0.024369    -0.001850    0.000000\n",
       "50%          0.009980      0.000000     0.002100    0.000000\n",
       "75%          0.035754      0.024911     0.006100    1.000000\n",
       "max          0.163047      0.300000     0.062400    1.000000"
      ]
     },
     "execution_count": 104,
     "metadata": {},
     "output_type": "execute_result"
    }
   ],
   "source": [
    "Overview4.describe()"
   ]
  },
  {
   "cell_type": "code",
   "execution_count": null,
   "metadata": {},
   "outputs": [],
   "source": [
    "# Starting to derive Performance next 12 Month after PMI release"
   ]
  },
  {
   "cell_type": "code",
   "execution_count": 105,
   "metadata": {},
   "outputs": [
    {
     "data": {
      "text/html": [
       "<div>\n",
       "<style scoped>\n",
       "    .dataframe tbody tr th:only-of-type {\n",
       "        vertical-align: middle;\n",
       "    }\n",
       "\n",
       "    .dataframe tbody tr th {\n",
       "        vertical-align: top;\n",
       "    }\n",
       "\n",
       "    .dataframe thead th {\n",
       "        text-align: right;\n",
       "    }\n",
       "</style>\n",
       "<table border=\"1\" class=\"dataframe\">\n",
       "  <thead>\n",
       "    <tr style=\"text-align: right;\">\n",
       "      <th></th>\n",
       "      <th>Adjusted Close</th>\n",
       "      <th>PMI</th>\n",
       "      <th>% Change PMI</th>\n",
       "    </tr>\n",
       "    <tr>\n",
       "      <th>Date</th>\n",
       "      <th></th>\n",
       "      <th></th>\n",
       "      <th></th>\n",
       "    </tr>\n",
       "  </thead>\n",
       "  <tbody>\n",
       "    <tr>\n",
       "      <th>1970-01-30</th>\n",
       "      <td>0.000000</td>\n",
       "      <td>48.7</td>\n",
       "      <td>0.000000</td>\n",
       "    </tr>\n",
       "    <tr>\n",
       "      <th>1970-02-27</th>\n",
       "      <td>0.052693</td>\n",
       "      <td>47.4</td>\n",
       "      <td>-0.026694</td>\n",
       "    </tr>\n",
       "    <tr>\n",
       "      <th>1970-03-31</th>\n",
       "      <td>0.001453</td>\n",
       "      <td>46.9</td>\n",
       "      <td>-0.010549</td>\n",
       "    </tr>\n",
       "    <tr>\n",
       "      <th>1970-04-30</th>\n",
       "      <td>-0.090483</td>\n",
       "      <td>45.0</td>\n",
       "      <td>-0.040512</td>\n",
       "    </tr>\n",
       "    <tr>\n",
       "      <th>1970-05-29</th>\n",
       "      <td>-0.060967</td>\n",
       "      <td>47.2</td>\n",
       "      <td>0.048889</td>\n",
       "    </tr>\n",
       "    <tr>\n",
       "      <th>...</th>\n",
       "      <td>...</td>\n",
       "      <td>...</td>\n",
       "      <td>...</td>\n",
       "    </tr>\n",
       "    <tr>\n",
       "      <th>2020-08-31</th>\n",
       "      <td>0.070065</td>\n",
       "      <td>55.6</td>\n",
       "      <td>0.035382</td>\n",
       "    </tr>\n",
       "    <tr>\n",
       "      <th>2020-09-30</th>\n",
       "      <td>-0.039228</td>\n",
       "      <td>55.7</td>\n",
       "      <td>0.001799</td>\n",
       "    </tr>\n",
       "    <tr>\n",
       "      <th>2020-10-30</th>\n",
       "      <td>-0.027666</td>\n",
       "      <td>58.8</td>\n",
       "      <td>0.055655</td>\n",
       "    </tr>\n",
       "    <tr>\n",
       "      <th>2020-11-30</th>\n",
       "      <td>0.107546</td>\n",
       "      <td>57.7</td>\n",
       "      <td>-0.018707</td>\n",
       "    </tr>\n",
       "    <tr>\n",
       "      <th>2020-12-31</th>\n",
       "      <td>0.037121</td>\n",
       "      <td>60.5</td>\n",
       "      <td>0.048527</td>\n",
       "    </tr>\n",
       "  </tbody>\n",
       "</table>\n",
       "<p>612 rows × 3 columns</p>\n",
       "</div>"
      ],
      "text/plain": [
       "            Adjusted Close   PMI  % Change PMI\n",
       "Date                                          \n",
       "1970-01-30        0.000000  48.7      0.000000\n",
       "1970-02-27        0.052693  47.4     -0.026694\n",
       "1970-03-31        0.001453  46.9     -0.010549\n",
       "1970-04-30       -0.090483  45.0     -0.040512\n",
       "1970-05-29       -0.060967  47.2      0.048889\n",
       "...                    ...   ...           ...\n",
       "2020-08-31        0.070065  55.6      0.035382\n",
       "2020-09-30       -0.039228  55.7      0.001799\n",
       "2020-10-30       -0.027666  58.8      0.055655\n",
       "2020-11-30        0.107546  57.7     -0.018707\n",
       "2020-12-31        0.037121  60.5      0.048527\n",
       "\n",
       "[612 rows x 3 columns]"
      ]
     },
     "execution_count": 105,
     "metadata": {},
     "output_type": "execute_result"
    }
   ],
   "source": [
    "Overview2\n",
    "\n"
   ]
  },
  {
   "cell_type": "code",
   "execution_count": 106,
   "metadata": {},
   "outputs": [
    {
     "data": {
      "text/html": [
       "<div>\n",
       "<style scoped>\n",
       "    .dataframe tbody tr th:only-of-type {\n",
       "        vertical-align: middle;\n",
       "    }\n",
       "\n",
       "    .dataframe tbody tr th {\n",
       "        vertical-align: top;\n",
       "    }\n",
       "\n",
       "    .dataframe thead th {\n",
       "        text-align: right;\n",
       "    }\n",
       "</style>\n",
       "<table border=\"1\" class=\"dataframe\">\n",
       "  <thead>\n",
       "    <tr style=\"text-align: right;\">\n",
       "      <th></th>\n",
       "      <th>Adjusted Close</th>\n",
       "      <th>PMI</th>\n",
       "      <th>% Change PMI</th>\n",
       "    </tr>\n",
       "    <tr>\n",
       "      <th>Date</th>\n",
       "      <th></th>\n",
       "      <th></th>\n",
       "      <th></th>\n",
       "    </tr>\n",
       "  </thead>\n",
       "  <tbody>\n",
       "    <tr>\n",
       "      <th>1970-01-30</th>\n",
       "      <td>0.000000</td>\n",
       "      <td>48.7</td>\n",
       "      <td>0.000000</td>\n",
       "    </tr>\n",
       "    <tr>\n",
       "      <th>1970-02-27</th>\n",
       "      <td>0.052693</td>\n",
       "      <td>47.4</td>\n",
       "      <td>-0.026694</td>\n",
       "    </tr>\n",
       "    <tr>\n",
       "      <th>1970-03-31</th>\n",
       "      <td>0.001453</td>\n",
       "      <td>46.9</td>\n",
       "      <td>-0.010549</td>\n",
       "    </tr>\n",
       "    <tr>\n",
       "      <th>1970-04-30</th>\n",
       "      <td>-0.090483</td>\n",
       "      <td>45.0</td>\n",
       "      <td>-0.040512</td>\n",
       "    </tr>\n",
       "    <tr>\n",
       "      <th>1970-05-29</th>\n",
       "      <td>-0.060967</td>\n",
       "      <td>47.2</td>\n",
       "      <td>0.048889</td>\n",
       "    </tr>\n",
       "    <tr>\n",
       "      <th>...</th>\n",
       "      <td>...</td>\n",
       "      <td>...</td>\n",
       "      <td>...</td>\n",
       "    </tr>\n",
       "    <tr>\n",
       "      <th>2020-08-31</th>\n",
       "      <td>0.070065</td>\n",
       "      <td>55.6</td>\n",
       "      <td>0.035382</td>\n",
       "    </tr>\n",
       "    <tr>\n",
       "      <th>2020-09-30</th>\n",
       "      <td>-0.039228</td>\n",
       "      <td>55.7</td>\n",
       "      <td>0.001799</td>\n",
       "    </tr>\n",
       "    <tr>\n",
       "      <th>2020-10-30</th>\n",
       "      <td>-0.027666</td>\n",
       "      <td>58.8</td>\n",
       "      <td>0.055655</td>\n",
       "    </tr>\n",
       "    <tr>\n",
       "      <th>2020-11-30</th>\n",
       "      <td>0.107546</td>\n",
       "      <td>57.7</td>\n",
       "      <td>-0.018707</td>\n",
       "    </tr>\n",
       "    <tr>\n",
       "      <th>2020-12-31</th>\n",
       "      <td>0.037121</td>\n",
       "      <td>60.5</td>\n",
       "      <td>0.048527</td>\n",
       "    </tr>\n",
       "  </tbody>\n",
       "</table>\n",
       "<p>612 rows × 3 columns</p>\n",
       "</div>"
      ],
      "text/plain": [
       "            Adjusted Close   PMI  % Change PMI\n",
       "Date                                          \n",
       "1970-01-30        0.000000  48.7      0.000000\n",
       "1970-02-27        0.052693  47.4     -0.026694\n",
       "1970-03-31        0.001453  46.9     -0.010549\n",
       "1970-04-30       -0.090483  45.0     -0.040512\n",
       "1970-05-29       -0.060967  47.2      0.048889\n",
       "...                    ...   ...           ...\n",
       "2020-08-31        0.070065  55.6      0.035382\n",
       "2020-09-30       -0.039228  55.7      0.001799\n",
       "2020-10-30       -0.027666  58.8      0.055655\n",
       "2020-11-30        0.107546  57.7     -0.018707\n",
       "2020-12-31        0.037121  60.5      0.048527\n",
       "\n",
       "[612 rows x 3 columns]"
      ]
     },
     "execution_count": 106,
     "metadata": {},
     "output_type": "execute_result"
    }
   ],
   "source": [
    "Overview5 = Overview2.sort_index(ascending=True) \n",
    "Overview5"
   ]
  },
  {
   "cell_type": "code",
   "execution_count": 107,
   "metadata": {},
   "outputs": [
    {
     "data": {
      "text/html": [
       "<div>\n",
       "<style scoped>\n",
       "    .dataframe tbody tr th:only-of-type {\n",
       "        vertical-align: middle;\n",
       "    }\n",
       "\n",
       "    .dataframe tbody tr th {\n",
       "        vertical-align: top;\n",
       "    }\n",
       "\n",
       "    .dataframe thead th {\n",
       "        text-align: right;\n",
       "    }\n",
       "</style>\n",
       "<table border=\"1\" class=\"dataframe\">\n",
       "  <thead>\n",
       "    <tr style=\"text-align: right;\">\n",
       "      <th></th>\n",
       "      <th>Adjusted Close</th>\n",
       "      <th>PMI</th>\n",
       "      <th>% Change PMI</th>\n",
       "    </tr>\n",
       "    <tr>\n",
       "      <th>Date</th>\n",
       "      <th></th>\n",
       "      <th></th>\n",
       "      <th></th>\n",
       "    </tr>\n",
       "  </thead>\n",
       "  <tbody>\n",
       "    <tr>\n",
       "      <th>1970-01-30</th>\n",
       "      <td>0.008019</td>\n",
       "      <td>46.225000</td>\n",
       "      <td>-0.004025</td>\n",
       "    </tr>\n",
       "    <tr>\n",
       "      <th>1970-02-27</th>\n",
       "      <td>0.011392</td>\n",
       "      <td>46.158333</td>\n",
       "      <td>0.000564</td>\n",
       "    </tr>\n",
       "    <tr>\n",
       "      <th>1970-03-31</th>\n",
       "      <td>0.007757</td>\n",
       "      <td>46.775000</td>\n",
       "      <td>0.014793</td>\n",
       "    </tr>\n",
       "    <tr>\n",
       "      <th>1970-04-30</th>\n",
       "      <td>0.010702</td>\n",
       "      <td>47.133333</td>\n",
       "      <td>0.010197</td>\n",
       "    </tr>\n",
       "    <tr>\n",
       "      <th>1970-05-29</th>\n",
       "      <td>0.021267</td>\n",
       "      <td>47.925000</td>\n",
       "      <td>0.018944</td>\n",
       "    </tr>\n",
       "    <tr>\n",
       "      <th>...</th>\n",
       "      <td>...</td>\n",
       "      <td>...</td>\n",
       "      <td>...</td>\n",
       "    </tr>\n",
       "    <tr>\n",
       "      <th>2020-08-31</th>\n",
       "      <td>NaN</td>\n",
       "      <td>NaN</td>\n",
       "      <td>NaN</td>\n",
       "    </tr>\n",
       "    <tr>\n",
       "      <th>2020-09-30</th>\n",
       "      <td>NaN</td>\n",
       "      <td>NaN</td>\n",
       "      <td>NaN</td>\n",
       "    </tr>\n",
       "    <tr>\n",
       "      <th>2020-10-30</th>\n",
       "      <td>NaN</td>\n",
       "      <td>NaN</td>\n",
       "      <td>NaN</td>\n",
       "    </tr>\n",
       "    <tr>\n",
       "      <th>2020-11-30</th>\n",
       "      <td>NaN</td>\n",
       "      <td>NaN</td>\n",
       "      <td>NaN</td>\n",
       "    </tr>\n",
       "    <tr>\n",
       "      <th>2020-12-31</th>\n",
       "      <td>NaN</td>\n",
       "      <td>NaN</td>\n",
       "      <td>NaN</td>\n",
       "    </tr>\n",
       "  </tbody>\n",
       "</table>\n",
       "<p>612 rows × 3 columns</p>\n",
       "</div>"
      ],
      "text/plain": [
       "            Adjusted Close        PMI  % Change PMI\n",
       "Date                                               \n",
       "1970-01-30        0.008019  46.225000     -0.004025\n",
       "1970-02-27        0.011392  46.158333      0.000564\n",
       "1970-03-31        0.007757  46.775000      0.014793\n",
       "1970-04-30        0.010702  47.133333      0.010197\n",
       "1970-05-29        0.021267  47.925000      0.018944\n",
       "...                    ...        ...           ...\n",
       "2020-08-31             NaN        NaN           NaN\n",
       "2020-09-30             NaN        NaN           NaN\n",
       "2020-10-30             NaN        NaN           NaN\n",
       "2020-11-30             NaN        NaN           NaN\n",
       "2020-12-31             NaN        NaN           NaN\n",
       "\n",
       "[612 rows x 3 columns]"
      ]
     },
     "execution_count": 107,
     "metadata": {},
     "output_type": "execute_result"
    }
   ],
   "source": [
    "indexer = pd.api.indexers.FixedForwardWindowIndexer(window_size=12)\n",
    "Overview5.rolling(window=indexer).mean()"
   ]
  },
  {
   "cell_type": "code",
   "execution_count": 108,
   "metadata": {},
   "outputs": [
    {
     "data": {
      "text/html": [
       "<div>\n",
       "<style scoped>\n",
       "    .dataframe tbody tr th:only-of-type {\n",
       "        vertical-align: middle;\n",
       "    }\n",
       "\n",
       "    .dataframe tbody tr th {\n",
       "        vertical-align: top;\n",
       "    }\n",
       "\n",
       "    .dataframe thead th {\n",
       "        text-align: right;\n",
       "    }\n",
       "</style>\n",
       "<table border=\"1\" class=\"dataframe\">\n",
       "  <thead>\n",
       "    <tr style=\"text-align: right;\">\n",
       "      <th></th>\n",
       "      <th>Adjusted Close</th>\n",
       "    </tr>\n",
       "    <tr>\n",
       "      <th>Date</th>\n",
       "      <th></th>\n",
       "    </tr>\n",
       "  </thead>\n",
       "  <tbody>\n",
       "    <tr>\n",
       "      <th>1970-01-30</th>\n",
       "      <td>85.02</td>\n",
       "    </tr>\n",
       "    <tr>\n",
       "      <th>1970-02-27</th>\n",
       "      <td>89.50</td>\n",
       "    </tr>\n",
       "    <tr>\n",
       "      <th>1970-03-31</th>\n",
       "      <td>89.63</td>\n",
       "    </tr>\n",
       "    <tr>\n",
       "      <th>1970-04-30</th>\n",
       "      <td>81.52</td>\n",
       "    </tr>\n",
       "    <tr>\n",
       "      <th>1970-05-29</th>\n",
       "      <td>76.55</td>\n",
       "    </tr>\n",
       "    <tr>\n",
       "      <th>...</th>\n",
       "      <td>...</td>\n",
       "    </tr>\n",
       "    <tr>\n",
       "      <th>2020-08-31</th>\n",
       "      <td>3500.31</td>\n",
       "    </tr>\n",
       "    <tr>\n",
       "      <th>2020-09-30</th>\n",
       "      <td>3363.00</td>\n",
       "    </tr>\n",
       "    <tr>\n",
       "      <th>2020-10-30</th>\n",
       "      <td>3269.96</td>\n",
       "    </tr>\n",
       "    <tr>\n",
       "      <th>2020-11-30</th>\n",
       "      <td>3621.63</td>\n",
       "    </tr>\n",
       "    <tr>\n",
       "      <th>2020-12-31</th>\n",
       "      <td>3756.07</td>\n",
       "    </tr>\n",
       "  </tbody>\n",
       "</table>\n",
       "<p>612 rows × 1 columns</p>\n",
       "</div>"
      ],
      "text/plain": [
       "            Adjusted Close\n",
       "Date                      \n",
       "1970-01-30           85.02\n",
       "1970-02-27           89.50\n",
       "1970-03-31           89.63\n",
       "1970-04-30           81.52\n",
       "1970-05-29           76.55\n",
       "...                    ...\n",
       "2020-08-31         3500.31\n",
       "2020-09-30         3363.00\n",
       "2020-10-30         3269.96\n",
       "2020-11-30         3621.63\n",
       "2020-12-31         3756.07\n",
       "\n",
       "[612 rows x 1 columns]"
      ]
     },
     "execution_count": 108,
     "metadata": {},
     "output_type": "execute_result"
    }
   ],
   "source": [
    "df"
   ]
  },
  {
   "cell_type": "code",
   "execution_count": 109,
   "metadata": {},
   "outputs": [
    {
     "data": {
      "text/html": [
       "<div>\n",
       "<style scoped>\n",
       "    .dataframe tbody tr th:only-of-type {\n",
       "        vertical-align: middle;\n",
       "    }\n",
       "\n",
       "    .dataframe tbody tr th {\n",
       "        vertical-align: top;\n",
       "    }\n",
       "\n",
       "    .dataframe thead th {\n",
       "        text-align: right;\n",
       "    }\n",
       "</style>\n",
       "<table border=\"1\" class=\"dataframe\">\n",
       "  <thead>\n",
       "    <tr style=\"text-align: right;\">\n",
       "      <th></th>\n",
       "      <th>Adjusted Close</th>\n",
       "    </tr>\n",
       "    <tr>\n",
       "      <th>Date</th>\n",
       "      <th></th>\n",
       "    </tr>\n",
       "  </thead>\n",
       "  <tbody>\n",
       "    <tr>\n",
       "      <th>1970-01-30</th>\n",
       "      <td>NaN</td>\n",
       "    </tr>\n",
       "    <tr>\n",
       "      <th>1970-02-27</th>\n",
       "      <td>0.051352</td>\n",
       "    </tr>\n",
       "    <tr>\n",
       "      <th>1970-03-31</th>\n",
       "      <td>0.001451</td>\n",
       "    </tr>\n",
       "    <tr>\n",
       "      <th>1970-04-30</th>\n",
       "      <td>-0.094842</td>\n",
       "    </tr>\n",
       "    <tr>\n",
       "      <th>1970-05-29</th>\n",
       "      <td>-0.062904</td>\n",
       "    </tr>\n",
       "    <tr>\n",
       "      <th>...</th>\n",
       "      <td>...</td>\n",
       "    </tr>\n",
       "    <tr>\n",
       "      <th>2020-08-31</th>\n",
       "      <td>0.067719</td>\n",
       "    </tr>\n",
       "    <tr>\n",
       "      <th>2020-09-30</th>\n",
       "      <td>-0.040018</td>\n",
       "    </tr>\n",
       "    <tr>\n",
       "      <th>2020-10-30</th>\n",
       "      <td>-0.028056</td>\n",
       "    </tr>\n",
       "    <tr>\n",
       "      <th>2020-11-30</th>\n",
       "      <td>0.102146</td>\n",
       "    </tr>\n",
       "    <tr>\n",
       "      <th>2020-12-31</th>\n",
       "      <td>0.036449</td>\n",
       "    </tr>\n",
       "  </tbody>\n",
       "</table>\n",
       "<p>612 rows × 1 columns</p>\n",
       "</div>"
      ],
      "text/plain": [
       "            Adjusted Close\n",
       "Date                      \n",
       "1970-01-30             NaN\n",
       "1970-02-27        0.051352\n",
       "1970-03-31        0.001451\n",
       "1970-04-30       -0.094842\n",
       "1970-05-29       -0.062904\n",
       "...                    ...\n",
       "2020-08-31        0.067719\n",
       "2020-09-30       -0.040018\n",
       "2020-10-30       -0.028056\n",
       "2020-11-30        0.102146\n",
       "2020-12-31        0.036449\n",
       "\n",
       "[612 rows x 1 columns]"
      ]
     },
     "execution_count": 109,
     "metadata": {},
     "output_type": "execute_result"
    }
   ],
   "source": [
    "# compute log returns of SPX Prices\n",
    "df1 = np.log(df / df.shift(1))\n",
    "df1                                     "
   ]
  },
  {
   "cell_type": "code",
   "execution_count": 110,
   "metadata": {},
   "outputs": [
    {
     "data": {
      "text/html": [
       "<div>\n",
       "<style scoped>\n",
       "    .dataframe tbody tr th:only-of-type {\n",
       "        vertical-align: middle;\n",
       "    }\n",
       "\n",
       "    .dataframe tbody tr th {\n",
       "        vertical-align: top;\n",
       "    }\n",
       "\n",
       "    .dataframe thead th {\n",
       "        text-align: right;\n",
       "    }\n",
       "</style>\n",
       "<table border=\"1\" class=\"dataframe\">\n",
       "  <thead>\n",
       "    <tr style=\"text-align: right;\">\n",
       "      <th></th>\n",
       "      <th>Adjusted Close</th>\n",
       "    </tr>\n",
       "    <tr>\n",
       "      <th>Date</th>\n",
       "      <th></th>\n",
       "    </tr>\n",
       "  </thead>\n",
       "  <tbody>\n",
       "    <tr>\n",
       "      <th>2019-05-31</th>\n",
       "      <td>0.032884</td>\n",
       "    </tr>\n",
       "    <tr>\n",
       "      <th>2019-06-28</th>\n",
       "      <td>0.119146</td>\n",
       "    </tr>\n",
       "    <tr>\n",
       "      <th>2019-07-31</th>\n",
       "      <td>0.106124</td>\n",
       "    </tr>\n",
       "    <tr>\n",
       "      <th>2019-08-30</th>\n",
       "      <td>0.160801</td>\n",
       "    </tr>\n",
       "    <tr>\n",
       "      <th>2019-09-30</th>\n",
       "      <td>0.139040</td>\n",
       "    </tr>\n",
       "    <tr>\n",
       "      <th>2019-10-31</th>\n",
       "      <td>0.093949</td>\n",
       "    </tr>\n",
       "    <tr>\n",
       "      <th>2019-11-29</th>\n",
       "      <td>0.175870</td>\n",
       "    </tr>\n",
       "    <tr>\n",
       "      <th>2019-12-31</th>\n",
       "      <td>0.178838</td>\n",
       "    </tr>\n",
       "    <tr>\n",
       "      <th>2020-01-31</th>\n",
       "      <td>NaN</td>\n",
       "    </tr>\n",
       "    <tr>\n",
       "      <th>2020-02-28</th>\n",
       "      <td>NaN</td>\n",
       "    </tr>\n",
       "    <tr>\n",
       "      <th>2020-03-31</th>\n",
       "      <td>NaN</td>\n",
       "    </tr>\n",
       "    <tr>\n",
       "      <th>2020-04-30</th>\n",
       "      <td>NaN</td>\n",
       "    </tr>\n",
       "    <tr>\n",
       "      <th>2020-05-29</th>\n",
       "      <td>NaN</td>\n",
       "    </tr>\n",
       "    <tr>\n",
       "      <th>2020-06-30</th>\n",
       "      <td>NaN</td>\n",
       "    </tr>\n",
       "    <tr>\n",
       "      <th>2020-07-31</th>\n",
       "      <td>NaN</td>\n",
       "    </tr>\n",
       "    <tr>\n",
       "      <th>2020-08-31</th>\n",
       "      <td>NaN</td>\n",
       "    </tr>\n",
       "    <tr>\n",
       "      <th>2020-09-30</th>\n",
       "      <td>NaN</td>\n",
       "    </tr>\n",
       "    <tr>\n",
       "      <th>2020-10-30</th>\n",
       "      <td>NaN</td>\n",
       "    </tr>\n",
       "    <tr>\n",
       "      <th>2020-11-30</th>\n",
       "      <td>NaN</td>\n",
       "    </tr>\n",
       "    <tr>\n",
       "      <th>2020-12-31</th>\n",
       "      <td>NaN</td>\n",
       "    </tr>\n",
       "  </tbody>\n",
       "</table>\n",
       "</div>"
      ],
      "text/plain": [
       "            Adjusted Close\n",
       "Date                      \n",
       "2019-05-31        0.032884\n",
       "2019-06-28        0.119146\n",
       "2019-07-31        0.106124\n",
       "2019-08-30        0.160801\n",
       "2019-09-30        0.139040\n",
       "2019-10-31        0.093949\n",
       "2019-11-29        0.175870\n",
       "2019-12-31        0.178838\n",
       "2020-01-31             NaN\n",
       "2020-02-28             NaN\n",
       "2020-03-31             NaN\n",
       "2020-04-30             NaN\n",
       "2020-05-29             NaN\n",
       "2020-06-30             NaN\n",
       "2020-07-31             NaN\n",
       "2020-08-31             NaN\n",
       "2020-09-30             NaN\n",
       "2020-10-30             NaN\n",
       "2020-11-30             NaN\n",
       "2020-12-31             NaN"
      ]
     },
     "execution_count": 110,
     "metadata": {},
     "output_type": "execute_result"
    }
   ],
   "source": [
    "# Implement Forward Indexer for 1 year and summarize returns (log returns)\n",
    "indexer = pd.api.indexers.FixedForwardWindowIndexer(window_size=13)                       \n",
    "df2 = df1.rolling(window=indexer, min_periods=13).sum()\n",
    "df2.last('20M')"
   ]
  },
  {
   "cell_type": "code",
   "execution_count": 111,
   "metadata": {},
   "outputs": [
    {
     "data": {
      "text/html": [
       "<div>\n",
       "<style scoped>\n",
       "    .dataframe tbody tr th:only-of-type {\n",
       "        vertical-align: middle;\n",
       "    }\n",
       "\n",
       "    .dataframe tbody tr th {\n",
       "        vertical-align: top;\n",
       "    }\n",
       "\n",
       "    .dataframe thead th {\n",
       "        text-align: right;\n",
       "    }\n",
       "</style>\n",
       "<table border=\"1\" class=\"dataframe\">\n",
       "  <thead>\n",
       "    <tr style=\"text-align: right;\">\n",
       "      <th></th>\n",
       "      <th>Adjusted Close</th>\n",
       "      <th>PMI</th>\n",
       "      <th>% Change PMI</th>\n",
       "    </tr>\n",
       "    <tr>\n",
       "      <th>Date</th>\n",
       "      <th></th>\n",
       "      <th></th>\n",
       "      <th></th>\n",
       "    </tr>\n",
       "  </thead>\n",
       "  <tbody>\n",
       "    <tr>\n",
       "      <th>1970-02-27</th>\n",
       "      <td>0.129244</td>\n",
       "      <td>47.4</td>\n",
       "      <td>-0.026694</td>\n",
       "    </tr>\n",
       "    <tr>\n",
       "      <th>1970-03-31</th>\n",
       "      <td>0.114027</td>\n",
       "      <td>46.9</td>\n",
       "      <td>-0.010549</td>\n",
       "    </tr>\n",
       "    <tr>\n",
       "      <th>1970-04-30</th>\n",
       "      <td>0.148220</td>\n",
       "      <td>45.0</td>\n",
       "      <td>-0.040512</td>\n",
       "    </tr>\n",
       "    <tr>\n",
       "      <th>1970-05-29</th>\n",
       "      <td>0.200615</td>\n",
       "      <td>47.2</td>\n",
       "      <td>0.048889</td>\n",
       "    </tr>\n",
       "    <tr>\n",
       "      <th>1970-06-30</th>\n",
       "      <td>0.264222</td>\n",
       "      <td>51.1</td>\n",
       "      <td>0.082627</td>\n",
       "    </tr>\n",
       "    <tr>\n",
       "      <th>...</th>\n",
       "      <td>...</td>\n",
       "      <td>...</td>\n",
       "      <td>...</td>\n",
       "    </tr>\n",
       "    <tr>\n",
       "      <th>2019-08-30</th>\n",
       "      <td>0.160801</td>\n",
       "      <td>48.8</td>\n",
       "      <td>-0.048733</td>\n",
       "    </tr>\n",
       "    <tr>\n",
       "      <th>2019-09-30</th>\n",
       "      <td>0.139040</td>\n",
       "      <td>48.2</td>\n",
       "      <td>-0.012295</td>\n",
       "    </tr>\n",
       "    <tr>\n",
       "      <th>2019-10-31</th>\n",
       "      <td>0.093949</td>\n",
       "      <td>48.5</td>\n",
       "      <td>0.006224</td>\n",
       "    </tr>\n",
       "    <tr>\n",
       "      <th>2019-11-29</th>\n",
       "      <td>0.175870</td>\n",
       "      <td>48.1</td>\n",
       "      <td>-0.008247</td>\n",
       "    </tr>\n",
       "    <tr>\n",
       "      <th>2019-12-31</th>\n",
       "      <td>0.178838</td>\n",
       "      <td>47.8</td>\n",
       "      <td>-0.006237</td>\n",
       "    </tr>\n",
       "  </tbody>\n",
       "</table>\n",
       "<p>599 rows × 3 columns</p>\n",
       "</div>"
      ],
      "text/plain": [
       "            Adjusted Close   PMI  % Change PMI\n",
       "Date                                          \n",
       "1970-02-27        0.129244  47.4     -0.026694\n",
       "1970-03-31        0.114027  46.9     -0.010549\n",
       "1970-04-30        0.148220  45.0     -0.040512\n",
       "1970-05-29        0.200615  47.2      0.048889\n",
       "1970-06-30        0.264222  51.1      0.082627\n",
       "...                    ...   ...           ...\n",
       "2019-08-30        0.160801  48.8     -0.048733\n",
       "2019-09-30        0.139040  48.2     -0.012295\n",
       "2019-10-31        0.093949  48.5      0.006224\n",
       "2019-11-29        0.175870  48.1     -0.008247\n",
       "2019-12-31        0.178838  47.8     -0.006237\n",
       "\n",
       "[599 rows x 3 columns]"
      ]
     },
     "execution_count": 111,
     "metadata": {},
     "output_type": "execute_result"
    }
   ],
   "source": [
    "Overview6 = pd.concat([df2,data,data1], axis=1, names=['12M Performance','PMI','Change PMI'])\n",
    "Overview6 = Overview6.dropna()\n",
    "Overview6\n"
   ]
  },
  {
   "cell_type": "code",
   "execution_count": 112,
   "metadata": {},
   "outputs": [
    {
     "data": {
      "text/plain": [
       "0.04107431092500371"
      ]
     },
     "execution_count": 112,
     "metadata": {},
     "output_type": "execute_result"
    }
   ],
   "source": [
    "# derive SPX returns from PMI 45-50, if PMI is increasing\n",
    "OVY45_50_pos = Overview6[Overview6['PMI'].between(45,50)]\n",
    "OVY45_50_pos = OVY45_50_pos[OVY45_50_pos['% Change PMI'] > 0]\n",
    "\n",
    "OVY45_50_pos.head()\n",
    "\n",
    "returnY45_50_pos = OVY45_50_pos.loc[:,'Adjusted Close']\n",
    "returnY45_50_pos.mean()\n",
    "\n",
    "\n",
    "\n"
   ]
  },
  {
   "cell_type": "code",
   "execution_count": 113,
   "metadata": {},
   "outputs": [
    {
     "data": {
      "text/plain": [
       "0.09815813380318042"
      ]
     },
     "execution_count": 113,
     "metadata": {},
     "output_type": "execute_result"
    }
   ],
   "source": [
    "# derive SPX returns from PMI 45-50, if PMI is decreasing\n",
    "OVY45_50_neg = Overview6[Overview6['PMI'].between(45,50)]\n",
    "OVY45_50_neg = OVY45_50_neg[OVY45_50_neg['% Change PMI'] < 0]\n",
    "\n",
    "returnY45_50_neg = OVY45_50_neg.loc[:,'Adjusted Close']\n",
    "returnY45_50_neg.mean()\n"
   ]
  },
  {
   "cell_type": "code",
   "execution_count": 114,
   "metadata": {},
   "outputs": [
    {
     "data": {
      "text/plain": [
       "0.07600313301760077"
      ]
     },
     "execution_count": 114,
     "metadata": {},
     "output_type": "execute_result"
    }
   ],
   "source": [
    "# derive SPX returns from PMI 50-55, if PMI is increasing\n",
    "\n",
    "OVY50_55_pos = Overview6[Overview6['PMI'].between(50,55)]\n",
    "OVY50_55_pos = OVY50_55_pos[OVY50_55_pos['% Change PMI'] > 0]\n",
    "\n",
    "returnY50_55_pos = OVY50_55_pos.loc[:,'Adjusted Close']\n",
    "returnY50_55_pos.mean()"
   ]
  },
  {
   "cell_type": "code",
   "execution_count": 115,
   "metadata": {},
   "outputs": [
    {
     "data": {
      "text/plain": [
       "0.09527719782652153"
      ]
     },
     "execution_count": 115,
     "metadata": {},
     "output_type": "execute_result"
    }
   ],
   "source": [
    "# derive SPX returns from PMI 50-55, if PMI is decreasing\n",
    "\n",
    "OVY50_55_neg = Overview6[Overview6['PMI'].between(50,55)]\n",
    "OVY50_55_neg = OVY50_55_neg[OVY50_55_neg['% Change PMI'] < 0]\n",
    "\n",
    "returnY50_55_neg = OVY50_55_neg.loc[:,'Adjusted Close']\n",
    "returnY50_55_neg.mean()"
   ]
  },
  {
   "cell_type": "code",
   "execution_count": 116,
   "metadata": {},
   "outputs": [
    {
     "data": {
      "text/plain": [
       "0.04585790231960244"
      ]
     },
     "execution_count": 116,
     "metadata": {},
     "output_type": "execute_result"
    }
   ],
   "source": [
    "# derive SPX returns from PMI 55-60, if PMI is increasing\n",
    "\n",
    "OVY55_60_pos = Overview6[Overview6['PMI'].between(55,100)]\n",
    "OVY55_60_pos = OVY55_60_pos[OVY55_60_pos['% Change PMI'] > 0]\n",
    "\n",
    "returnY55_60_pos = OVY55_60_pos.loc[:,'Adjusted Close']\n",
    "\n",
    "returnY55_60_pos.mean()\n"
   ]
  },
  {
   "cell_type": "code",
   "execution_count": 117,
   "metadata": {},
   "outputs": [
    {
     "data": {
      "text/plain": [
       "0.06382865440887144"
      ]
     },
     "execution_count": 117,
     "metadata": {},
     "output_type": "execute_result"
    }
   ],
   "source": [
    "# derive SPX returns from PMI 55-60, if PMI is decreasing\n",
    "\n",
    "OVY55_60_neg = Overview6[Overview6['PMI'].between(55,100)]\n",
    "OVY55_60_neg = OVY55_60_neg[OVY55_60_neg['% Change PMI'] < 0]\n",
    "\n",
    "returnY55_60_neg = OVY55_60_neg.loc[:,'Adjusted Close']\n",
    "\n",
    "returnY55_60_neg.mean()"
   ]
  },
  {
   "cell_type": "code",
   "execution_count": 118,
   "metadata": {},
   "outputs": [
    {
     "data": {
      "text/plain": [
       "0.1728437674974272"
      ]
     },
     "execution_count": 118,
     "metadata": {},
     "output_type": "execute_result"
    }
   ],
   "source": [
    "# derive SPX returns from PMI 40-45, if PMI is increasing\n",
    "OVY00_45_pos = Overview6[Overview6['PMI'].between(0,45)]\n",
    "OVY00_45_pos = OVY00_45_pos[OVY00_45_pos['% Change PMI'] > 0]\n",
    "\n",
    "returnY00_45_pos = OVY00_45_pos.loc[:,'Adjusted Close']\n",
    "\n",
    "returnY00_45_pos.mean()"
   ]
  },
  {
   "cell_type": "code",
   "execution_count": 119,
   "metadata": {},
   "outputs": [
    {
     "data": {
      "text/plain": [
       "0.13366198597366982"
      ]
     },
     "execution_count": 119,
     "metadata": {},
     "output_type": "execute_result"
    }
   ],
   "source": [
    "# derive SPX returns from PMI 40-45, if PMI is decreasing\n",
    "OVY00_45_neg = Overview6[Overview6['PMI'].between(0,45)]\n",
    "OVY00_45_neg = OVY00_45_neg[OVY00_45_neg['% Change PMI'] < 0]\n",
    "\n",
    "returnY00_45_neg = OVY00_45_neg.loc[:,'Adjusted Close']\n",
    "returnY00_45_neg.mean()"
   ]
  },
  {
   "cell_type": "code",
   "execution_count": 120,
   "metadata": {},
   "outputs": [
    {
     "data": {
      "text/plain": [
       "0.09263627219247378"
      ]
     },
     "execution_count": 120,
     "metadata": {},
     "output_type": "execute_result"
    }
   ],
   "source": [
    "# derive SPX returns from PMI below 50, if PMI is increasing\n",
    "OVY0_50_pos = Overview6[Overview6['PMI'].between(0,50)]\n",
    "OVY0_50_pos = OVY0_50_pos[OVY0_50_pos['% Change PMI'] > 0]\n",
    "\n",
    "returnY0_50_pos = OVY0_50_pos.loc[:,'Adjusted Close']\n",
    "\n",
    "returnY0_50_pos.mean()\n",
    "\n"
   ]
  },
  {
   "cell_type": "code",
   "execution_count": 121,
   "metadata": {},
   "outputs": [
    {
     "data": {
      "text/plain": [
       "0.10985002626235256"
      ]
     },
     "execution_count": 121,
     "metadata": {},
     "output_type": "execute_result"
    }
   ],
   "source": [
    "# derive SPX returns from PMI below 50, if PMI is decreasing\n",
    "\n",
    "OVY0_50_neg = Overview6[Overview6['PMI'].between(0,50)]\n",
    "OVY0_50_neg = OVY0_50_neg[OVY0_50_neg['% Change PMI'] < 0]\n",
    "\n",
    "returnY0_50_neg = OVY0_50_neg.loc[:,'Adjusted Close']\n",
    "returnY0_50_neg.mean()\n"
   ]
  },
  {
   "cell_type": "code",
   "execution_count": 122,
   "metadata": {},
   "outputs": [
    {
     "data": {
      "text/plain": [
       "0.06105434093327579"
      ]
     },
     "execution_count": 122,
     "metadata": {},
     "output_type": "execute_result"
    }
   ],
   "source": [
    "# derive SPX returns from PMI above 50, if PMI is increasing\n",
    "\n",
    "OVY50_100_pos = Overview6[Overview6['PMI'].between(50,100)]\n",
    "OVY50_100_pos = OVY50_100_pos[OVY50_100_pos['% Change PMI'] > 0]\n",
    "\n",
    "returnY50_100_pos = OVY50_100_pos.loc[:,'Adjusted Close']\n",
    "returnY50_100_pos.mean()"
   ]
  },
  {
   "cell_type": "code",
   "execution_count": 123,
   "metadata": {},
   "outputs": [
    {
     "data": {
      "text/plain": [
       "0.08029199012130259"
      ]
     },
     "execution_count": 123,
     "metadata": {},
     "output_type": "execute_result"
    }
   ],
   "source": [
    "# derive SPX returns from PMI above 50, if PMI is decreasing\n",
    "\n",
    "OVY50_100_neg = Overview6[Overview6['PMI'].between(50,100)]\n",
    "OVY50_100_neg = OVY50_100_neg[OVY50_100_neg['% Change PMI'] < 0]\n",
    "\n",
    "returnY50_100_neg = OVY50_100_neg.loc[:,'Adjusted Close']\n",
    "returnY50_100_neg.mean()"
   ]
  },
  {
   "cell_type": "code",
   "execution_count": 124,
   "metadata": {},
   "outputs": [
    {
     "data": {
      "text/html": [
       "<div>\n",
       "<style scoped>\n",
       "    .dataframe tbody tr th:only-of-type {\n",
       "        vertical-align: middle;\n",
       "    }\n",
       "\n",
       "    .dataframe tbody tr th {\n",
       "        vertical-align: top;\n",
       "    }\n",
       "\n",
       "    .dataframe thead th {\n",
       "        text-align: right;\n",
       "    }\n",
       "</style>\n",
       "<table border=\"1\" class=\"dataframe\">\n",
       "  <thead>\n",
       "    <tr style=\"text-align: right;\">\n",
       "      <th></th>\n",
       "      <th>Adjusted Close</th>\n",
       "      <th>% Change PMI</th>\n",
       "    </tr>\n",
       "    <tr>\n",
       "      <th>Date</th>\n",
       "      <th></th>\n",
       "      <th></th>\n",
       "    </tr>\n",
       "  </thead>\n",
       "  <tbody>\n",
       "    <tr>\n",
       "      <th>1970-02-27</th>\n",
       "      <td>0.129244</td>\n",
       "      <td>-0.026694</td>\n",
       "    </tr>\n",
       "    <tr>\n",
       "      <th>1970-03-31</th>\n",
       "      <td>0.114027</td>\n",
       "      <td>-0.010549</td>\n",
       "    </tr>\n",
       "    <tr>\n",
       "      <th>1970-04-30</th>\n",
       "      <td>0.148220</td>\n",
       "      <td>-0.040512</td>\n",
       "    </tr>\n",
       "    <tr>\n",
       "      <th>1970-05-29</th>\n",
       "      <td>0.200615</td>\n",
       "      <td>0.048889</td>\n",
       "    </tr>\n",
       "    <tr>\n",
       "      <th>1970-06-30</th>\n",
       "      <td>0.264222</td>\n",
       "      <td>0.082627</td>\n",
       "    </tr>\n",
       "    <tr>\n",
       "      <th>...</th>\n",
       "      <td>...</td>\n",
       "      <td>...</td>\n",
       "    </tr>\n",
       "    <tr>\n",
       "      <th>2019-08-30</th>\n",
       "      <td>0.160801</td>\n",
       "      <td>-0.048733</td>\n",
       "    </tr>\n",
       "    <tr>\n",
       "      <th>2019-09-30</th>\n",
       "      <td>0.139040</td>\n",
       "      <td>-0.012295</td>\n",
       "    </tr>\n",
       "    <tr>\n",
       "      <th>2019-10-31</th>\n",
       "      <td>0.093949</td>\n",
       "      <td>0.006224</td>\n",
       "    </tr>\n",
       "    <tr>\n",
       "      <th>2019-11-29</th>\n",
       "      <td>0.175870</td>\n",
       "      <td>-0.008247</td>\n",
       "    </tr>\n",
       "    <tr>\n",
       "      <th>2019-12-31</th>\n",
       "      <td>0.178838</td>\n",
       "      <td>-0.006237</td>\n",
       "    </tr>\n",
       "  </tbody>\n",
       "</table>\n",
       "<p>599 rows × 2 columns</p>\n",
       "</div>"
      ],
      "text/plain": [
       "            Adjusted Close  % Change PMI\n",
       "Date                                    \n",
       "1970-02-27        0.129244     -0.026694\n",
       "1970-03-31        0.114027     -0.010549\n",
       "1970-04-30        0.148220     -0.040512\n",
       "1970-05-29        0.200615      0.048889\n",
       "1970-06-30        0.264222      0.082627\n",
       "...                    ...           ...\n",
       "2019-08-30        0.160801     -0.048733\n",
       "2019-09-30        0.139040     -0.012295\n",
       "2019-10-31        0.093949      0.006224\n",
       "2019-11-29        0.175870     -0.008247\n",
       "2019-12-31        0.178838     -0.006237\n",
       "\n",
       "[599 rows x 2 columns]"
      ]
     },
     "execution_count": 124,
     "metadata": {},
     "output_type": "execute_result"
    }
   ],
   "source": [
    "Overview7 = pd.concat([df2,data1], axis=1, names=['12M Performance','Change PMI'])\n",
    "Overview7 = Overview7.dropna(0)\n",
    "Overview7"
   ]
  },
  {
   "cell_type": "code",
   "execution_count": 125,
   "metadata": {},
   "outputs": [
    {
     "data": {
      "text/html": [
       "<div>\n",
       "<style scoped>\n",
       "    .dataframe tbody tr th:only-of-type {\n",
       "        vertical-align: middle;\n",
       "    }\n",
       "\n",
       "    .dataframe tbody tr th {\n",
       "        vertical-align: top;\n",
       "    }\n",
       "\n",
       "    .dataframe thead th {\n",
       "        text-align: right;\n",
       "    }\n",
       "</style>\n",
       "<table border=\"1\" class=\"dataframe\">\n",
       "  <thead>\n",
       "    <tr style=\"text-align: right;\">\n",
       "      <th></th>\n",
       "      <th>Adjusted Close</th>\n",
       "      <th>% Change PMI</th>\n",
       "    </tr>\n",
       "  </thead>\n",
       "  <tbody>\n",
       "    <tr>\n",
       "      <th>Adjusted Close</th>\n",
       "      <td>1.000000</td>\n",
       "      <td>-0.009117</td>\n",
       "    </tr>\n",
       "    <tr>\n",
       "      <th>% Change PMI</th>\n",
       "      <td>-0.009117</td>\n",
       "      <td>1.000000</td>\n",
       "    </tr>\n",
       "  </tbody>\n",
       "</table>\n",
       "</div>"
      ],
      "text/plain": [
       "                Adjusted Close  % Change PMI\n",
       "Adjusted Close        1.000000     -0.009117\n",
       "% Change PMI         -0.009117      1.000000"
      ]
     },
     "execution_count": 125,
     "metadata": {},
     "output_type": "execute_result"
    }
   ],
   "source": [
    "Overview7.corr()"
   ]
  },
  {
   "cell_type": "code",
   "execution_count": 130,
   "metadata": {},
   "outputs": [
    {
     "data": {
      "text/html": [
       "<table class=\"simpletable\">\n",
       "<caption>OLS Regression Results</caption>\n",
       "<tr>\n",
       "  <th>Dep. Variable:</th>     <td>Adjusted Close</td>  <th>  R-squared (uncentered):</th>      <td>   0.000</td>\n",
       "</tr>\n",
       "<tr>\n",
       "  <th>Model:</th>                   <td>OLS</td>       <th>  Adj. R-squared (uncentered):</th> <td>  -0.002</td>\n",
       "</tr>\n",
       "<tr>\n",
       "  <th>Method:</th>             <td>Least Squares</td>  <th>  F-statistic:       </th>          <td>0.001416</td>\n",
       "</tr>\n",
       "<tr>\n",
       "  <th>Date:</th>             <td>Wed, 19 May 2021</td> <th>  Prob (F-statistic):</th>           <td> 0.970</td> \n",
       "</tr>\n",
       "<tr>\n",
       "  <th>Time:</th>                 <td>10:04:10</td>     <th>  Log-Likelihood:    </th>          <td>  171.33</td>\n",
       "</tr>\n",
       "<tr>\n",
       "  <th>No. Observations:</th>      <td>   599</td>      <th>  AIC:               </th>          <td>  -340.7</td>\n",
       "</tr>\n",
       "<tr>\n",
       "  <th>Df Residuals:</th>          <td>   598</td>      <th>  BIC:               </th>          <td>  -336.3</td>\n",
       "</tr>\n",
       "<tr>\n",
       "  <th>Df Model:</th>              <td>     1</td>      <th>                     </th>              <td> </td>   \n",
       "</tr>\n",
       "<tr>\n",
       "  <th>Covariance Type:</th>      <td>nonrobust</td>    <th>                     </th>              <td> </td>   \n",
       "</tr>\n",
       "</table>\n",
       "<table class=\"simpletable\">\n",
       "<tr>\n",
       "        <td></td>          <th>coef</th>     <th>std err</th>      <th>t</th>      <th>P>|t|</th>  <th>[0.025</th>    <th>0.975]</th>  \n",
       "</tr>\n",
       "<tr>\n",
       "  <th>% Change PMI</th> <td>    0.0060</td> <td>    0.160</td> <td>    0.038</td> <td> 0.970</td> <td>   -0.307</td> <td>    0.319</td>\n",
       "</tr>\n",
       "</table>\n",
       "<table class=\"simpletable\">\n",
       "<tr>\n",
       "  <th>Omnibus:</th>       <td>114.099</td> <th>  Durbin-Watson:     </th> <td>   0.117</td>\n",
       "</tr>\n",
       "<tr>\n",
       "  <th>Prob(Omnibus):</th> <td> 0.000</td>  <th>  Jarque-Bera (JB):  </th> <td> 212.456</td>\n",
       "</tr>\n",
       "<tr>\n",
       "  <th>Skew:</th>          <td>-1.099</td>  <th>  Prob(JB):          </th> <td>7.34e-47</td>\n",
       "</tr>\n",
       "<tr>\n",
       "  <th>Kurtosis:</th>      <td> 4.918</td>  <th>  Cond. No.          </th> <td>    1.00</td>\n",
       "</tr>\n",
       "</table><br/><br/>Notes:<br/>[1] R² is computed without centering (uncentered) since the model does not contain a constant.<br/>[2] Standard Errors assume that the covariance matrix of the errors is correctly specified."
      ],
      "text/plain": [
       "<class 'statsmodels.iolib.summary.Summary'>\n",
       "\"\"\"\n",
       "                                 OLS Regression Results                                \n",
       "=======================================================================================\n",
       "Dep. Variable:         Adjusted Close   R-squared (uncentered):                   0.000\n",
       "Model:                            OLS   Adj. R-squared (uncentered):             -0.002\n",
       "Method:                 Least Squares   F-statistic:                           0.001416\n",
       "Date:                Wed, 19 May 2021   Prob (F-statistic):                       0.970\n",
       "Time:                        10:04:10   Log-Likelihood:                          171.33\n",
       "No. Observations:                 599   AIC:                                     -340.7\n",
       "Df Residuals:                     598   BIC:                                     -336.3\n",
       "Df Model:                           1                                                  \n",
       "Covariance Type:            nonrobust                                                  \n",
       "================================================================================\n",
       "                   coef    std err          t      P>|t|      [0.025      0.975]\n",
       "--------------------------------------------------------------------------------\n",
       "% Change PMI     0.0060      0.160      0.038      0.970      -0.307       0.319\n",
       "==============================================================================\n",
       "Omnibus:                      114.099   Durbin-Watson:                   0.117\n",
       "Prob(Omnibus):                  0.000   Jarque-Bera (JB):              212.456\n",
       "Skew:                          -1.099   Prob(JB):                     7.34e-47\n",
       "Kurtosis:                       4.918   Cond. No.                         1.00\n",
       "==============================================================================\n",
       "\n",
       "Notes:\n",
       "[1] R² is computed without centering (uncentered) since the model does not contain a constant.\n",
       "[2] Standard Errors assume that the covariance matrix of the errors is correctly specified.\n",
       "\"\"\""
      ]
     },
     "execution_count": 130,
     "metadata": {},
     "output_type": "execute_result"
    }
   ],
   "source": [
    "# Regression SPX return and PMI Change\n",
    "yz = Overview7['Adjusted Close']\n",
    "x3 = Overview7['% Change PMI']\n",
    "x = x = sm.add_constant(x)\n",
    "results4 = sm. OLS(yz,x3).fit()\n",
    "results4.summary()"
   ]
  },
  {
   "cell_type": "code",
   "execution_count": null,
   "metadata": {},
   "outputs": [],
   "source": []
  }
 ],
 "metadata": {
  "kernelspec": {
   "display_name": "Python 3",
   "language": "python",
   "name": "python3"
  },
  "language_info": {
   "codemirror_mode": {
    "name": "ipython",
    "version": 3
   },
   "file_extension": ".py",
   "mimetype": "text/x-python",
   "name": "python",
   "nbconvert_exporter": "python",
   "pygments_lexer": "ipython3",
   "version": "3.8.5"
  }
 },
 "nbformat": 4,
 "nbformat_minor": 4
}
